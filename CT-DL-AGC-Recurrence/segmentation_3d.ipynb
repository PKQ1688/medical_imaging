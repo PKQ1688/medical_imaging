{
 "cells": [
  {
   "cell_type": "code",
   "execution_count": 2,
   "metadata": {},
   "outputs": [
    {
     "name": "stdout",
     "output_type": "stream",
     "text": [
      "MONAI version: 1.3.0\n",
      "Numpy version: 1.26.2\n",
      "Pytorch version: 2.1.1+cu121\n",
      "MONAI flags: HAS_EXT = False, USE_COMPILED = False, USE_META_DICT = False\n",
      "MONAI rev id: 865972f7a791bf7b42efbcd87c8402bd865b329e\n",
      "MONAI __file__: /<username>/miniconda3/envs/cv/lib/python3.11/site-packages/monai/__init__.py\n",
      "\n",
      "Optional dependencies:\n",
      "Pytorch Ignite version: NOT INSTALLED or UNKNOWN VERSION.\n",
      "ITK version: NOT INSTALLED or UNKNOWN VERSION.\n",
      "Nibabel version: 5.1.0\n",
      "scikit-image version: NOT INSTALLED or UNKNOWN VERSION.\n",
      "scipy version: NOT INSTALLED or UNKNOWN VERSION.\n",
      "Pillow version: 10.1.0\n",
      "Tensorboard version: NOT INSTALLED or UNKNOWN VERSION.\n",
      "gdown version: NOT INSTALLED or UNKNOWN VERSION.\n",
      "TorchVision version: NOT INSTALLED or UNKNOWN VERSION.\n",
      "tqdm version: 4.66.1\n",
      "lmdb version: NOT INSTALLED or UNKNOWN VERSION.\n",
      "psutil version: 5.9.0\n",
      "pandas version: NOT INSTALLED or UNKNOWN VERSION.\n",
      "einops version: 0.7.0\n",
      "transformers version: NOT INSTALLED or UNKNOWN VERSION.\n",
      "mlflow version: NOT INSTALLED or UNKNOWN VERSION.\n",
      "pynrrd version: NOT INSTALLED or UNKNOWN VERSION.\n",
      "clearml version: NOT INSTALLED or UNKNOWN VERSION.\n",
      "\n",
      "For details about installing the optional dependencies, please visit:\n",
      "    https://docs.monai.io/en/latest/installation.html#installing-the-recommended-dependencies\n",
      "\n"
     ]
    }
   ],
   "source": [
    "import os\n",
    "import shutil\n",
    "import tempfile\n",
    "\n",
    "import matplotlib.pyplot as plt\n",
    "from tqdm import tqdm\n",
    "\n",
    "from monai.losses import DiceCELoss\n",
    "from monai.inferers import sliding_window_inference\n",
    "from monai.transforms import (\n",
    "    AsDiscrete,\n",
    "    EnsureChannelFirstd,\n",
    "    Compose,\n",
    "    CropForegroundd,\n",
    "    LoadImaged,\n",
    "    Orientationd,\n",
    "    RandFlipd,\n",
    "    RandCropByPosNegLabeld,\n",
    "    RandShiftIntensityd,\n",
    "    ScaleIntensityRanged,\n",
    "    Spacingd,\n",
    "    RandRotate90d,\n",
    ")\n",
    "\n",
    "from monai.config import print_config\n",
    "from monai.metrics import DiceMetric\n",
    "from monai.networks.nets import UNETR\n",
    "\n",
    "from monai.data import (\n",
    "    DataLoader,\n",
    "    CacheDataset,\n",
    "    load_decathlon_datalist,\n",
    "    decollate_batch,\n",
    ")\n",
    "\n",
    "\n",
    "import torch\n",
    "\n",
    "print_config()"
   ]
  },
  {
   "cell_type": "code",
   "execution_count": 3,
   "metadata": {},
   "outputs": [],
   "source": [
    "train_transforms = Compose(\n",
    "    [\n",
    "        LoadImaged(keys=[\"image\", \"label\"]),\n",
    "        EnsureChannelFirstd(keys=[\"image\", \"label\"]),\n",
    "        Orientationd(keys=[\"image\", \"label\"], axcodes=\"RAS\"),\n",
    "        Spacingd(\n",
    "            keys=[\"image\", \"label\"],\n",
    "            pixdim=(1.5, 1.5, 2.0),\n",
    "            mode=(\"bilinear\", \"nearest\"),\n",
    "        ),\n",
    "        ScaleIntensityRanged(\n",
    "            keys=[\"image\"],\n",
    "            a_min=-175,\n",
    "            a_max=250,\n",
    "            b_min=0.0,\n",
    "            b_max=1.0,\n",
    "            clip=True,\n",
    "        ),\n",
    "        CropForegroundd(keys=[\"image\", \"label\"], source_key=\"image\",allow_smaller=True),\n",
    "        RandCropByPosNegLabeld(\n",
    "            keys=[\"image\", \"label\"],\n",
    "            label_key=\"label\",\n",
    "            spatial_size=(96, 96, 96),\n",
    "            pos=1,\n",
    "            neg=1,\n",
    "            num_samples=4,\n",
    "            image_key=\"image\",\n",
    "            image_threshold=0,\n",
    "        ),\n",
    "        RandFlipd(\n",
    "            keys=[\"image\", \"label\"],\n",
    "            spatial_axis=[0],\n",
    "            prob=0.10,\n",
    "        ),\n",
    "        RandFlipd(\n",
    "            keys=[\"image\", \"label\"],\n",
    "            spatial_axis=[1],\n",
    "            prob=0.10,\n",
    "        ),\n",
    "        RandFlipd(\n",
    "            keys=[\"image\", \"label\"],\n",
    "            spatial_axis=[2],\n",
    "            prob=0.10,\n",
    "        ),\n",
    "        RandRotate90d(\n",
    "            keys=[\"image\", \"label\"],\n",
    "            prob=0.10,\n",
    "            max_k=3,\n",
    "        ),\n",
    "        RandShiftIntensityd(\n",
    "            keys=[\"image\"],\n",
    "            offsets=0.10,\n",
    "            prob=0.50,\n",
    "        ),\n",
    "    ]\n",
    ")\n",
    "val_transforms = Compose(\n",
    "    [\n",
    "        LoadImaged(keys=[\"image\", \"label\"]),\n",
    "        EnsureChannelFirstd(keys=[\"image\", \"label\"]),\n",
    "        Orientationd(keys=[\"image\", \"label\"], axcodes=\"RAS\"),\n",
    "        Spacingd(\n",
    "            keys=[\"image\", \"label\"],\n",
    "            pixdim=(1.5, 1.5, 2.0),\n",
    "            mode=(\"bilinear\", \"nearest\"),\n",
    "        ),\n",
    "        ScaleIntensityRanged(keys=[\"image\"], a_min=-175, a_max=250, b_min=0.0, b_max=1.0, clip=True),\n",
    "        CropForegroundd(keys=[\"image\", \"label\"], source_key=\"image\",allow_smaller=True),\n",
    "    ]\n",
    ")"
   ]
  },
  {
   "cell_type": "code",
   "execution_count": 4,
   "metadata": {},
   "outputs": [
    {
     "name": "stderr",
     "output_type": "stream",
     "text": [
      "Loading dataset: 100%|██████████| 41/41 [01:34<00:00,  2.31s/it]\n"
     ]
    }
   ],
   "source": [
    "# from monai.data import load_decathlon_datalist\n",
    "\n",
    "data_dir = \"data/Task09_Spleen/\"\n",
    "split_json = \"dataset.json\"\n",
    "\n",
    "datasets = data_dir + split_json\n",
    "datalist = load_decathlon_datalist(datasets, True, \"training\")\n",
    "# val_files = load_decathlon_datalist(datasets, True, \"test\")\n",
    "\n",
    "train_ds = CacheDataset(\n",
    "    data=datalist,\n",
    "    transform=train_transforms,\n",
    "    cache_num=41,\n",
    "    cache_rate=1.0,\n",
    "    num_workers=1,\n",
    ")\n",
    "train_loader = DataLoader(train_ds, batch_size=1, shuffle=True, num_workers=8, pin_memory=True)\n",
    "# val_ds = CacheDataset(data=val_files, transform=val_transforms, cache_num=6, cache_rate=1.0, num_workers=4)\n",
    "# val_loader = DataLoader(val_ds, batch_size=1, shuffle=False, num_workers=4, pin_memory=True)\n",
    "val_loader = train_loader"
   ]
  },
  {
   "cell_type": "code",
   "execution_count": null,
   "metadata": {},
   "outputs": [
    {
     "data": {
      "text/plain": [
       "[{'image': 'data/Task09_Spleen/imagesTr/spleen_19.nii.gz',\n",
       "  'label': 'data/Task09_Spleen/labelsTr/spleen_19.nii.gz'},\n",
       " {'image': 'data/Task09_Spleen/imagesTr/spleen_31.nii.gz',\n",
       "  'label': 'data/Task09_Spleen/labelsTr/spleen_31.nii.gz'},\n",
       " {'image': 'data/Task09_Spleen/imagesTr/spleen_52.nii.gz',\n",
       "  'label': 'data/Task09_Spleen/labelsTr/spleen_52.nii.gz'},\n",
       " {'image': 'data/Task09_Spleen/imagesTr/spleen_40.nii.gz',\n",
       "  'label': 'data/Task09_Spleen/labelsTr/spleen_40.nii.gz'},\n",
       " {'image': 'data/Task09_Spleen/imagesTr/spleen_3.nii.gz',\n",
       "  'label': 'data/Task09_Spleen/labelsTr/spleen_3.nii.gz'},\n",
       " {'image': 'data/Task09_Spleen/imagesTr/spleen_17.nii.gz',\n",
       "  'label': 'data/Task09_Spleen/labelsTr/spleen_17.nii.gz'},\n",
       " {'image': 'data/Task09_Spleen/imagesTr/spleen_21.nii.gz',\n",
       "  'label': 'data/Task09_Spleen/labelsTr/spleen_21.nii.gz'},\n",
       " {'image': 'data/Task09_Spleen/imagesTr/spleen_33.nii.gz',\n",
       "  'label': 'data/Task09_Spleen/labelsTr/spleen_33.nii.gz'},\n",
       " {'image': 'data/Task09_Spleen/imagesTr/spleen_9.nii.gz',\n",
       "  'label': 'data/Task09_Spleen/labelsTr/spleen_9.nii.gz'},\n",
       " {'image': 'data/Task09_Spleen/imagesTr/spleen_29.nii.gz',\n",
       "  'label': 'data/Task09_Spleen/labelsTr/spleen_29.nii.gz'},\n",
       " {'image': 'data/Task09_Spleen/imagesTr/spleen_46.nii.gz',\n",
       "  'label': 'data/Task09_Spleen/labelsTr/spleen_46.nii.gz'},\n",
       " {'image': 'data/Task09_Spleen/imagesTr/spleen_25.nii.gz',\n",
       "  'label': 'data/Task09_Spleen/labelsTr/spleen_25.nii.gz'},\n",
       " {'image': 'data/Task09_Spleen/imagesTr/spleen_13.nii.gz',\n",
       "  'label': 'data/Task09_Spleen/labelsTr/spleen_13.nii.gz'},\n",
       " {'image': 'data/Task09_Spleen/imagesTr/spleen_62.nii.gz',\n",
       "  'label': 'data/Task09_Spleen/labelsTr/spleen_62.nii.gz'},\n",
       " {'image': 'data/Task09_Spleen/imagesTr/spleen_27.nii.gz',\n",
       "  'label': 'data/Task09_Spleen/labelsTr/spleen_27.nii.gz'},\n",
       " {'image': 'data/Task09_Spleen/imagesTr/spleen_44.nii.gz',\n",
       "  'label': 'data/Task09_Spleen/labelsTr/spleen_44.nii.gz'},\n",
       " {'image': 'data/Task09_Spleen/imagesTr/spleen_56.nii.gz',\n",
       "  'label': 'data/Task09_Spleen/labelsTr/spleen_56.nii.gz'},\n",
       " {'image': 'data/Task09_Spleen/imagesTr/spleen_60.nii.gz',\n",
       "  'label': 'data/Task09_Spleen/labelsTr/spleen_60.nii.gz'},\n",
       " {'image': 'data/Task09_Spleen/imagesTr/spleen_2.nii.gz',\n",
       "  'label': 'data/Task09_Spleen/labelsTr/spleen_2.nii.gz'},\n",
       " {'image': 'data/Task09_Spleen/imagesTr/spleen_53.nii.gz',\n",
       "  'label': 'data/Task09_Spleen/labelsTr/spleen_53.nii.gz'},\n",
       " {'image': 'data/Task09_Spleen/imagesTr/spleen_41.nii.gz',\n",
       "  'label': 'data/Task09_Spleen/labelsTr/spleen_41.nii.gz'},\n",
       " {'image': 'data/Task09_Spleen/imagesTr/spleen_22.nii.gz',\n",
       "  'label': 'data/Task09_Spleen/labelsTr/spleen_22.nii.gz'},\n",
       " {'image': 'data/Task09_Spleen/imagesTr/spleen_14.nii.gz',\n",
       "  'label': 'data/Task09_Spleen/labelsTr/spleen_14.nii.gz'},\n",
       " {'image': 'data/Task09_Spleen/imagesTr/spleen_18.nii.gz',\n",
       "  'label': 'data/Task09_Spleen/labelsTr/spleen_18.nii.gz'},\n",
       " {'image': 'data/Task09_Spleen/imagesTr/spleen_20.nii.gz',\n",
       "  'label': 'data/Task09_Spleen/labelsTr/spleen_20.nii.gz'},\n",
       " {'image': 'data/Task09_Spleen/imagesTr/spleen_32.nii.gz',\n",
       "  'label': 'data/Task09_Spleen/labelsTr/spleen_32.nii.gz'},\n",
       " {'image': 'data/Task09_Spleen/imagesTr/spleen_16.nii.gz',\n",
       "  'label': 'data/Task09_Spleen/labelsTr/spleen_16.nii.gz'},\n",
       " {'image': 'data/Task09_Spleen/imagesTr/spleen_12.nii.gz',\n",
       "  'label': 'data/Task09_Spleen/labelsTr/spleen_12.nii.gz'},\n",
       " {'image': 'data/Task09_Spleen/imagesTr/spleen_63.nii.gz',\n",
       "  'label': 'data/Task09_Spleen/labelsTr/spleen_63.nii.gz'},\n",
       " {'image': 'data/Task09_Spleen/imagesTr/spleen_28.nii.gz',\n",
       "  'label': 'data/Task09_Spleen/labelsTr/spleen_28.nii.gz'},\n",
       " {'image': 'data/Task09_Spleen/imagesTr/spleen_24.nii.gz',\n",
       "  'label': 'data/Task09_Spleen/labelsTr/spleen_24.nii.gz'},\n",
       " {'image': 'data/Task09_Spleen/imagesTr/spleen_59.nii.gz',\n",
       "  'label': 'data/Task09_Spleen/labelsTr/spleen_59.nii.gz'},\n",
       " {'image': 'data/Task09_Spleen/imagesTr/spleen_47.nii.gz',\n",
       "  'label': 'data/Task09_Spleen/labelsTr/spleen_47.nii.gz'},\n",
       " {'image': 'data/Task09_Spleen/imagesTr/spleen_8.nii.gz',\n",
       "  'label': 'data/Task09_Spleen/labelsTr/spleen_8.nii.gz'},\n",
       " {'image': 'data/Task09_Spleen/imagesTr/spleen_6.nii.gz',\n",
       "  'label': 'data/Task09_Spleen/labelsTr/spleen_6.nii.gz'},\n",
       " {'image': 'data/Task09_Spleen/imagesTr/spleen_61.nii.gz',\n",
       "  'label': 'data/Task09_Spleen/labelsTr/spleen_61.nii.gz'},\n",
       " {'image': 'data/Task09_Spleen/imagesTr/spleen_10.nii.gz',\n",
       "  'label': 'data/Task09_Spleen/labelsTr/spleen_10.nii.gz'},\n",
       " {'image': 'data/Task09_Spleen/imagesTr/spleen_38.nii.gz',\n",
       "  'label': 'data/Task09_Spleen/labelsTr/spleen_38.nii.gz'},\n",
       " {'image': 'data/Task09_Spleen/imagesTr/spleen_45.nii.gz',\n",
       "  'label': 'data/Task09_Spleen/labelsTr/spleen_45.nii.gz'},\n",
       " {'image': 'data/Task09_Spleen/imagesTr/spleen_26.nii.gz',\n",
       "  'label': 'data/Task09_Spleen/labelsTr/spleen_26.nii.gz'},\n",
       " {'image': 'data/Task09_Spleen/imagesTr/spleen_49.nii.gz',\n",
       "  'label': 'data/Task09_Spleen/labelsTr/spleen_49.nii.gz'}]"
      ]
     },
     "execution_count": 4,
     "metadata": {},
     "output_type": "execute_result"
    }
   ],
   "source": [
    "datalist\n",
    "# val_files"
   ]
  },
  {
   "cell_type": "code",
   "execution_count": 5,
   "metadata": {},
   "outputs": [
    {
     "name": "stdout",
     "output_type": "stream",
     "text": [
      "spleen_19.nii.gz\n",
      "image shape: torch.Size([1, 96, 96, 96]), label shape: torch.Size([1, 96, 96, 96])\n"
     ]
    }
   ],
   "source": [
    "slice_map = {\n",
    "    \"img0035.nii.gz\": 170,\n",
    "    \"img0036.nii.gz\": 230,\n",
    "    \"img0037.nii.gz\": 204,\n",
    "    \"img0038.nii.gz\": 204,\n",
    "    \"img0039.nii.gz\": 204,\n",
    "    \"img0040.nii.gz\": 180,\n",
    "    \"spleen_19.nii.gz\": 94,\n",
    "}\n",
    "case_num = 0\n",
    "# print(train_ds[case_num].keys())\n",
    "# exit()\n",
    "img_name = os.path.split(train_ds[case_num][0][\"image\"].meta[\"filename_or_obj\"])[1]\n",
    "print(img_name)\n",
    "img = train_ds[case_num][0][\"image\"]\n",
    "label = train_ds[case_num][0][\"label\"]\n",
    "img_shape = img.shape\n",
    "label_shape = label.shape\n",
    "print(f\"image shape: {img_shape}, label shape: {label_shape}\")"
   ]
  },
  {
   "cell_type": "code",
   "execution_count": 31,
   "metadata": {},
   "outputs": [
    {
     "name": "stdout",
     "output_type": "stream",
     "text": [
      "4\n"
     ]
    }
   ],
   "source": [
    "print(len(train_ds[0]))\n",
    "# img_name = os.path.split(train_ds[3][1][\"image\"].meta[\"filename_or_obj\"])\n",
    "# print(img_name)"
   ]
  },
  {
   "cell_type": "code",
   "execution_count": 18,
   "metadata": {},
   "outputs": [
    {
     "data": {
      "text/plain": [
       "'spleen_19.nii.gz'"
      ]
     },
     "execution_count": 18,
     "metadata": {},
     "output_type": "execute_result"
    }
   ],
   "source": [
    "img_name"
   ]
  },
  {
   "cell_type": "code",
   "execution_count": 45,
   "metadata": {},
   "outputs": [
    {
     "data": {
      "image/png": "[encoded data removed]",
      "text/plain": [
       "<Figure size 1800x600 with 2 Axes>"
      ]
     },
     "metadata": {},
     "output_type": "display_data"
    }
   ],
   "source": [
    "plt.figure(\"image\", (18, 6))\n",
    "plt.subplot(1, 2, 1)\n",
    "plt.title(\"image\")\n",
    "plt.imshow(img[0, :, :, slice_map[img_name]].detach().cpu(), cmap=\"gray\")\n",
    "# plt.imshow(img[0, :, :, :].detach().cpu(), cmap=\"gray\")\n",
    "plt.subplot(1, 2, 2)\n",
    "plt.title(\"label\")\n",
    "plt.imshow(label[0, :, :, slice_map[img_name]].detach().cpu())\n",
    "# plt.imshow(label[0, :, :, :].detach().cpu())\n",
    "\n",
    "plt.show()"
   ]
  },
  {
   "cell_type": "code",
   "execution_count": 9,
   "metadata": {},
   "outputs": [],
   "source": [
    "device = torch.device(\"cuda\" if torch.cuda.is_available() else \"cpu\")\n",
    "\n",
    "model = UNETR(\n",
    "    in_channels=1,\n",
    "    out_channels=2,\n",
    "    img_size=(96, 96, 96),\n",
    "    feature_size=16,\n",
    "    hidden_size=768,\n",
    "    mlp_dim=3072,\n",
    "    num_heads=12,\n",
    "    pos_embed=\"perceptron\",\n",
    "    norm_name=\"instance\",\n",
    "    res_block=True,\n",
    "    dropout_rate=0.0,\n",
    ").to(device)\n",
    "\n",
    "loss_function = DiceCELoss(to_onehot_y=True, softmax=True)\n",
    "torch.backends.cudnn.benchmark = True\n",
    "optimizer = torch.optim.AdamW(model.parameters(), lr=1e-4, weight_decay=1e-5)"
   ]
  },
  {
   "cell_type": "code",
   "execution_count": 12,
   "metadata": {},
   "outputs": [],
   "source": [
    "def validation(epoch_iterator_val):\n",
    "    model.eval()\n",
    "    with torch.no_grad():\n",
    "        for batch in epoch_iterator_val:\n",
    "            val_inputs, val_labels = (batch[\"image\"].cuda(), batch[\"label\"].cuda())\n",
    "            val_outputs = sliding_window_inference(val_inputs, (96, 96, 96), 4, model)\n",
    "            val_labels_list = decollate_batch(val_labels)\n",
    "            val_labels_convert = [post_label(val_label_tensor) for val_label_tensor in val_labels_list]\n",
    "            val_outputs_list = decollate_batch(val_outputs)\n",
    "            val_output_convert = [post_pred(val_pred_tensor) for val_pred_tensor in val_outputs_list]\n",
    "            dice_metric(y_pred=val_output_convert, y=val_labels_convert)\n",
    "            epoch_iterator_val.set_description(\"Validate (%d / %d Steps)\" % (global_step, 10.0))\n",
    "        mean_dice_val = dice_metric.aggregate().item()\n",
    "        dice_metric.reset()\n",
    "    return mean_dice_val\n",
    "\n",
    "def train(global_step, train_loader, dice_val_best, global_step_best):\n",
    "    model.train()\n",
    "    epoch_loss = 0\n",
    "    step = 0\n",
    "    epoch_iterator = tqdm(train_loader, desc=\"Training (X / X Steps) (loss=X.X)\", dynamic_ncols=True)\n",
    "    for step, batch in enumerate(epoch_iterator):\n",
    "        step += 1\n",
    "        x, y = (batch[\"image\"].cuda(), batch[\"label\"].cuda())\n",
    "        logit_map = model(x)\n",
    "        loss = loss_function(logit_map, y)\n",
    "        loss.backward()\n",
    "        epoch_loss += loss.item()\n",
    "        optimizer.step()\n",
    "        optimizer.zero_grad()\n",
    "        epoch_iterator.set_description(\"Training (%d / %d Steps) (loss=%2.5f)\" % (global_step, max_iterations, loss))\n",
    "        if (global_step % eval_num == 0 and global_step != 0) or global_step == max_iterations:\n",
    "            epoch_iterator_val = tqdm(val_loader, desc=\"Validate (X / X Steps) (dice=X.X)\", dynamic_ncols=True)\n",
    "            dice_val = validation(epoch_iterator_val)\n",
    "            epoch_loss /= step\n",
    "            epoch_loss_values.append(epoch_loss)\n",
    "            metric_values.append(dice_val)\n",
    "            if dice_val > dice_val_best:\n",
    "                dice_val_best = dice_val\n",
    "                global_step_best = global_step\n",
    "                torch.save(model.state_dict(), os.path.join(\"model\", \"best_metric_model.pth\"))\n",
    "                print(\n",
    "                    \"Model Was Saved ! Current Best Avg. Dice: {} Current Avg. Dice: {}\".format(dice_val_best, dice_val)\n",
    "                )\n",
    "            else:\n",
    "                print(\n",
    "                    \"Model Was Not Saved ! Current Best Avg. Dice: {} Current Avg. Dice: {}\".format(\n",
    "                        dice_val_best, dice_val\n",
    "                    )\n",
    "                )\n",
    "        global_step += 1\n",
    "    return global_step, dice_val_best, global_step_best"
   ]
  },
  {
   "cell_type": "code",
   "execution_count": 13,
   "metadata": {},
   "outputs": [
    {
     "name": "stderr",
     "output_type": "stream",
     "text": [
      "Training (40 / 25000 Steps) (loss=0.68209): 100%|██████████| 41/41 [00:22<00:00,  1.83it/s]\n",
      "Training (81 / 25000 Steps) (loss=0.54711): 100%|██████████| 41/41 [00:22<00:00,  1.83it/s]\n",
      "Training (122 / 25000 Steps) (loss=0.62230): 100%|██████████| 41/41 [00:22<00:00,  1.81it/s]\n",
      "Training (163 / 25000 Steps) (loss=0.63929): 100%|██████████| 41/41 [00:22<00:00,  1.81it/s]\n",
      "Training (204 / 25000 Steps) (loss=0.64111): 100%|██████████| 41/41 [00:22<00:00,  1.82it/s]\n",
      "Training (245 / 25000 Steps) (loss=0.45999): 100%|██████████| 41/41 [00:23<00:00,  1.77it/s]\n",
      "Training (286 / 25000 Steps) (loss=0.61022): 100%|██████████| 41/41 [00:23<00:00,  1.77it/s]\n",
      "Training (327 / 25000 Steps) (loss=0.51455): 100%|██████████| 41/41 [00:22<00:00,  1.80it/s]\n",
      "Training (368 / 25000 Steps) (loss=0.37290): 100%|██████████| 41/41 [00:22<00:00,  1.82it/s]\n",
      "Training (409 / 25000 Steps) (loss=0.49014): 100%|██████████| 41/41 [00:22<00:00,  1.81it/s]\n",
      "Training (450 / 25000 Steps) (loss=0.62495): 100%|██████████| 41/41 [00:22<00:00,  1.81it/s]\n",
      "Training (491 / 25000 Steps) (loss=0.51656): 100%|██████████| 41/41 [00:22<00:00,  1.79it/s]\n",
      "Validate (492 / 10 Steps): 100%|██████████| 41/41 [00:08<00:00,  4.79it/s]00:18,  1.79it/s]\n",
      "Training (500 / 25000 Steps) (loss=0.51895):  22%|██▏       | 9/41 [00:15<01:46,  3.34s/it]"
     ]
    },
    {
     "name": "stdout",
     "output_type": "stream",
     "text": [
      "Model Was Saved ! Current Best Avg. Dice: 0.8736081123352051 Current Avg. Dice: 0.8736081123352051\n"
     ]
    },
    {
     "name": "stderr",
     "output_type": "stream",
     "text": [
      "Training (532 / 25000 Steps) (loss=0.40049): 100%|██████████| 41/41 [00:31<00:00,  1.28it/s]\n",
      "Training (573 / 25000 Steps) (loss=0.41841): 100%|██████████| 41/41 [00:22<00:00,  1.80it/s]\n",
      "Training (614 / 25000 Steps) (loss=0.56064): 100%|██████████| 41/41 [00:22<00:00,  1.80it/s]\n",
      "Training (655 / 25000 Steps) (loss=0.51870): 100%|██████████| 41/41 [00:23<00:00,  1.75it/s]\n",
      "Training (696 / 25000 Steps) (loss=0.35844): 100%|██████████| 41/41 [00:22<00:00,  1.79it/s]\n",
      "Training (737 / 25000 Steps) (loss=0.40048): 100%|██████████| 41/41 [00:22<00:00,  1.81it/s]\n",
      "Training (778 / 25000 Steps) (loss=0.38401): 100%|██████████| 41/41 [00:22<00:00,  1.79it/s]\n",
      "Training (819 / 25000 Steps) (loss=0.42963): 100%|██████████| 41/41 [00:22<00:00,  1.80it/s]\n",
      "Training (860 / 25000 Steps) (loss=0.33106): 100%|██████████| 41/41 [00:22<00:00,  1.79it/s]\n",
      "Training (901 / 25000 Steps) (loss=0.27103): 100%|██████████| 41/41 [00:22<00:00,  1.78it/s]\n",
      "Training (942 / 25000 Steps) (loss=0.33433): 100%|██████████| 41/41 [00:23<00:00,  1.78it/s]\n",
      "Training (983 / 25000 Steps) (loss=0.45858): 100%|██████████| 41/41 [00:22<00:00,  1.79it/s]\n",
      "Validate (984 / 10 Steps): 100%|██████████| 41/41 [00:09<00:00,  4.32it/s]0<00:12,  1.99it/s]\n",
      "Training (1000 / 25000 Steps) (loss=0.39876):  41%|████▏     | 17/41 [00:21<01:27,  3.64s/it]"
     ]
    },
    {
     "name": "stdout",
     "output_type": "stream",
     "text": [
      "Model Was Saved ! Current Best Avg. Dice: 0.9164705276489258 Current Avg. Dice: 0.9164705276489258\n"
     ]
    },
    {
     "name": "stderr",
     "output_type": "stream",
     "text": [
      "Training (1024 / 25000 Steps) (loss=0.38533): 100%|██████████| 41/41 [00:33<00:00,  1.22it/s]\n",
      "Training (1065 / 25000 Steps) (loss=0.37107): 100%|██████████| 41/41 [00:23<00:00,  1.71it/s]\n",
      "Training (1106 / 25000 Steps) (loss=0.45399): 100%|██████████| 41/41 [00:23<00:00,  1.72it/s]\n",
      "Training (1147 / 25000 Steps) (loss=0.42338): 100%|██████████| 41/41 [00:23<00:00,  1.73it/s]\n",
      "Training (1188 / 25000 Steps) (loss=0.52156): 100%|██████████| 41/41 [00:23<00:00,  1.73it/s]\n",
      "Training (1229 / 25000 Steps) (loss=0.31370): 100%|██████████| 41/41 [00:23<00:00,  1.73it/s]\n",
      "Training (1270 / 25000 Steps) (loss=0.40798): 100%|██████████| 41/41 [00:23<00:00,  1.75it/s]\n",
      "Training (1311 / 25000 Steps) (loss=0.46084): 100%|██████████| 41/41 [00:23<00:00,  1.76it/s]\n",
      "Training (1352 / 25000 Steps) (loss=0.52758): 100%|██████████| 41/41 [00:23<00:00,  1.74it/s]\n",
      "Training (1393 / 25000 Steps) (loss=0.53861): 100%|██████████| 41/41 [00:23<00:00,  1.75it/s]\n",
      "Training (1434 / 25000 Steps) (loss=0.45035): 100%|██████████| 41/41 [00:23<00:00,  1.74it/s]\n",
      "Training (1475 / 25000 Steps) (loss=0.50535): 100%|██████████| 41/41 [00:23<00:00,  1.76it/s]\n",
      "Validate (1476 / 10 Steps): 100%|██████████| 41/41 [00:09<00:00,  4.55it/s]<00:08,  2.00it/s]\n",
      "Training (1500 / 25000 Steps) (loss=0.39840):  61%|██████    | 25/41 [00:24<00:55,  3.45s/it]"
     ]
    },
    {
     "name": "stdout",
     "output_type": "stream",
     "text": [
      "Model Was Saved ! Current Best Avg. Dice: 0.9185792803764343 Current Avg. Dice: 0.9185792803764343\n"
     ]
    },
    {
     "name": "stderr",
     "output_type": "stream",
     "text": [
      "Training (1516 / 25000 Steps) (loss=0.31713): 100%|██████████| 41/41 [00:33<00:00,  1.23it/s]\n",
      "Training (1557 / 25000 Steps) (loss=0.53328): 100%|██████████| 41/41 [00:23<00:00,  1.75it/s]\n",
      "Training (1598 / 25000 Steps) (loss=0.37099): 100%|██████████| 41/41 [00:23<00:00,  1.76it/s]\n",
      "Training (1639 / 25000 Steps) (loss=0.37327): 100%|██████████| 41/41 [00:23<00:00,  1.76it/s]\n",
      "Training (1680 / 25000 Steps) (loss=0.29783): 100%|██████████| 41/41 [00:23<00:00,  1.74it/s]\n",
      "Training (1721 / 25000 Steps) (loss=0.26639): 100%|██████████| 41/41 [00:23<00:00,  1.73it/s]\n",
      "Training (1762 / 25000 Steps) (loss=0.55910): 100%|██████████| 41/41 [00:23<00:00,  1.75it/s]\n",
      "Training (1803 / 25000 Steps) (loss=0.33383): 100%|██████████| 41/41 [00:23<00:00,  1.73it/s]\n",
      "Training (1844 / 25000 Steps) (loss=0.36014): 100%|██████████| 41/41 [00:23<00:00,  1.74it/s]\n",
      "Training (1885 / 25000 Steps) (loss=0.42619): 100%|██████████| 41/41 [00:23<00:00,  1.74it/s]\n",
      "Training (1926 / 25000 Steps) (loss=0.45800): 100%|██████████| 41/41 [00:23<00:00,  1.75it/s]\n",
      "Training (1967 / 25000 Steps) (loss=0.46266): 100%|██████████| 41/41 [00:23<00:00,  1.73it/s]\n",
      "Validate (1968 / 10 Steps): 100%|██████████| 41/41 [00:09<00:00,  4.47it/s]<00:04,  1.99it/s]\n",
      "Training (2000 / 25000 Steps) (loss=0.47266):  80%|████████  | 33/41 [00:28<00:26,  3.25s/it]"
     ]
    },
    {
     "name": "stdout",
     "output_type": "stream",
     "text": [
      "Model Was Not Saved ! Current Best Avg. Dice: 0.9185792803764343 Current Avg. Dice: 0.9181393980979919\n"
     ]
    },
    {
     "name": "stderr",
     "output_type": "stream",
     "text": [
      "Training (2008 / 25000 Steps) (loss=0.26232): 100%|██████████| 41/41 [00:32<00:00,  1.25it/s]\n",
      "Training (2049 / 25000 Steps) (loss=0.41326): 100%|██████████| 41/41 [00:23<00:00,  1.73it/s]\n",
      "Training (2090 / 25000 Steps) (loss=0.33354): 100%|██████████| 41/41 [00:23<00:00,  1.75it/s]\n",
      "Training (2131 / 25000 Steps) (loss=0.33140): 100%|██████████| 41/41 [00:23<00:00,  1.75it/s]\n",
      "Training (2172 / 25000 Steps) (loss=0.45065): 100%|██████████| 41/41 [00:23<00:00,  1.74it/s]\n",
      "Training (2213 / 25000 Steps) (loss=0.28109): 100%|██████████| 41/41 [00:23<00:00,  1.76it/s]\n",
      "Training (2254 / 25000 Steps) (loss=0.43240): 100%|██████████| 41/41 [00:23<00:00,  1.75it/s]\n",
      "Training (2295 / 25000 Steps) (loss=0.42260): 100%|██████████| 41/41 [00:23<00:00,  1.75it/s]\n",
      "Training (2336 / 25000 Steps) (loss=0.32549): 100%|██████████| 41/41 [00:23<00:00,  1.75it/s]\n",
      "Training (2377 / 25000 Steps) (loss=0.24863): 100%|██████████| 41/41 [00:23<00:00,  1.75it/s]\n",
      "Training (2418 / 25000 Steps) (loss=0.40315): 100%|██████████| 41/41 [00:23<00:00,  1.75it/s]\n",
      "Training (2459 / 25000 Steps) (loss=0.27590): 100%|██████████| 41/41 [00:23<00:00,  1.74it/s]\n",
      "Validate (2460 / 10 Steps): 100%|██████████| 41/41 [00:09<00:00,  4.54it/s]<00:00,  2.00it/s]\n",
      "Training (2500 / 25000 Steps) (loss=0.23005): 100%|██████████| 41/41 [00:32<00:00,  3.44s/it]"
     ]
    },
    {
     "name": "stdout",
     "output_type": "stream",
     "text": [
      "Model Was Saved ! Current Best Avg. Dice: 0.925720751285553 Current Avg. Dice: 0.925720751285553\n"
     ]
    },
    {
     "name": "stderr",
     "output_type": "stream",
     "text": [
      "Training (2500 / 25000 Steps) (loss=0.23005): 100%|██████████| 41/41 [00:33<00:00,  1.23it/s]\n",
      "Training (2541 / 25000 Steps) (loss=0.21222): 100%|██████████| 41/41 [00:23<00:00,  1.75it/s]\n",
      "Training (2582 / 25000 Steps) (loss=0.42621): 100%|██████████| 41/41 [00:23<00:00,  1.75it/s]\n",
      "Training (2623 / 25000 Steps) (loss=0.35569): 100%|██████████| 41/41 [00:23<00:00,  1.74it/s]\n",
      "Training (2664 / 25000 Steps) (loss=0.31727): 100%|██████████| 41/41 [00:23<00:00,  1.74it/s]\n",
      "Training (2705 / 25000 Steps) (loss=0.23398): 100%|██████████| 41/41 [00:23<00:00,  1.75it/s]\n",
      "Training (2746 / 25000 Steps) (loss=0.30865): 100%|██████████| 41/41 [00:23<00:00,  1.75it/s]\n",
      "Training (2787 / 25000 Steps) (loss=0.30948): 100%|██████████| 41/41 [00:23<00:00,  1.74it/s]\n",
      "Training (2828 / 25000 Steps) (loss=0.29031): 100%|██████████| 41/41 [00:23<00:00,  1.73it/s]\n",
      "Training (2869 / 25000 Steps) (loss=0.25493): 100%|██████████| 41/41 [00:23<00:00,  1.75it/s]\n",
      "Training (2910 / 25000 Steps) (loss=0.43224): 100%|██████████| 41/41 [00:23<00:00,  1.74it/s]\n",
      "Training (2951 / 25000 Steps) (loss=0.26437): 100%|██████████| 41/41 [00:23<00:00,  1.74it/s]\n",
      "Training (2992 / 25000 Steps) (loss=0.35889): 100%|██████████| 41/41 [00:23<00:00,  1.75it/s]\n",
      "Validate (2993 / 10 Steps): 100%|██████████| 41/41 [00:09<00:00,  4.49it/s]00:20,  1.68it/s]\n",
      "Training (3000 / 25000 Steps) (loss=0.31183):  20%|█▉        | 8/41 [00:18<02:20,  4.25s/it]"
     ]
    },
    {
     "name": "stdout",
     "output_type": "stream",
     "text": [
      "Model Was Saved ! Current Best Avg. Dice: 0.940642774105072 Current Avg. Dice: 0.940642774105072\n"
     ]
    },
    {
     "name": "stderr",
     "output_type": "stream",
     "text": [
      "Training (3033 / 25000 Steps) (loss=0.14933): 100%|██████████| 41/41 [00:34<00:00,  1.18it/s]\n",
      "Training (3074 / 25000 Steps) (loss=0.29563): 100%|██████████| 41/41 [00:23<00:00,  1.74it/s]\n",
      "Training (3115 / 25000 Steps) (loss=0.19428): 100%|██████████| 41/41 [00:23<00:00,  1.74it/s]\n",
      "Training (3156 / 25000 Steps) (loss=0.40458): 100%|██████████| 41/41 [00:23<00:00,  1.74it/s]\n",
      "Training (3197 / 25000 Steps) (loss=0.17553): 100%|██████████| 41/41 [00:23<00:00,  1.72it/s]\n",
      "Training (3238 / 25000 Steps) (loss=0.16030): 100%|██████████| 41/41 [00:23<00:00,  1.76it/s]\n",
      "Training (3279 / 25000 Steps) (loss=0.09079): 100%|██████████| 41/41 [00:23<00:00,  1.75it/s]\n",
      "Training (3320 / 25000 Steps) (loss=0.20552): 100%|██████████| 41/41 [00:23<00:00,  1.76it/s]\n",
      "Training (3361 / 25000 Steps) (loss=0.19153): 100%|██████████| 41/41 [00:23<00:00,  1.75it/s]\n",
      "Training (3402 / 25000 Steps) (loss=0.40642): 100%|██████████| 41/41 [00:23<00:00,  1.75it/s]\n",
      "Training (3443 / 25000 Steps) (loss=0.29229): 100%|██████████| 41/41 [00:23<00:00,  1.74it/s]\n",
      "Training (3484 / 25000 Steps) (loss=0.47843): 100%|██████████| 41/41 [00:23<00:00,  1.75it/s]\n",
      "Validate (3485 / 10 Steps): 100%|██████████| 41/41 [00:09<00:00,  4.46it/s]<00:13,  1.98it/s]\n",
      "Training (3500 / 25000 Steps) (loss=0.12724):  39%|███▉      | 16/41 [00:20<01:21,  3.27s/it]"
     ]
    },
    {
     "name": "stdout",
     "output_type": "stream",
     "text": [
      "Model Was Not Saved ! Current Best Avg. Dice: 0.940642774105072 Current Avg. Dice: 0.9222354292869568\n"
     ]
    },
    {
     "name": "stderr",
     "output_type": "stream",
     "text": [
      "Training (3525 / 25000 Steps) (loss=0.07202): 100%|██████████| 41/41 [00:32<00:00,  1.25it/s]\n",
      "Training (3566 / 25000 Steps) (loss=0.31530): 100%|██████████| 41/41 [00:23<00:00,  1.75it/s]\n",
      "Training (3607 / 25000 Steps) (loss=0.40829): 100%|██████████| 41/41 [00:23<00:00,  1.76it/s]\n",
      "Training (3648 / 25000 Steps) (loss=0.42240): 100%|██████████| 41/41 [00:23<00:00,  1.75it/s]\n",
      "Training (3689 / 25000 Steps) (loss=0.29959): 100%|██████████| 41/41 [00:23<00:00,  1.75it/s]\n",
      "Training (3730 / 25000 Steps) (loss=0.37527): 100%|██████████| 41/41 [00:23<00:00,  1.75it/s]\n",
      "Training (3771 / 25000 Steps) (loss=0.22777): 100%|██████████| 41/41 [00:23<00:00,  1.73it/s]\n",
      "Training (3812 / 25000 Steps) (loss=0.40226): 100%|██████████| 41/41 [00:23<00:00,  1.75it/s]\n",
      "Training (3853 / 25000 Steps) (loss=0.32074): 100%|██████████| 41/41 [00:23<00:00,  1.75it/s]\n",
      "Training (3894 / 25000 Steps) (loss=0.24015): 100%|██████████| 41/41 [00:23<00:00,  1.75it/s]\n",
      "Training (3935 / 25000 Steps) (loss=0.28685): 100%|██████████| 41/41 [00:23<00:00,  1.74it/s]\n",
      "Training (3976 / 25000 Steps) (loss=0.17718): 100%|██████████| 41/41 [00:23<00:00,  1.74it/s]\n",
      "Validate (3977 / 10 Steps): 100%|██████████| 41/41 [00:09<00:00,  4.52it/s]<00:08,  2.00it/s]\n",
      "Training (4000 / 25000 Steps) (loss=0.18761):  59%|█████▊    | 24/41 [00:23<00:54,  3.22s/it]"
     ]
    },
    {
     "name": "stdout",
     "output_type": "stream",
     "text": [
      "Model Was Not Saved ! Current Best Avg. Dice: 0.940642774105072 Current Avg. Dice: 0.9188641905784607\n"
     ]
    },
    {
     "name": "stderr",
     "output_type": "stream",
     "text": [
      "Training (4017 / 25000 Steps) (loss=0.28621): 100%|██████████| 41/41 [00:32<00:00,  1.25it/s]\n",
      "Training (4058 / 25000 Steps) (loss=0.16704): 100%|██████████| 41/41 [00:23<00:00,  1.73it/s]\n",
      "Training (4099 / 25000 Steps) (loss=0.29427): 100%|██████████| 41/41 [00:23<00:00,  1.74it/s]\n",
      "Training (4140 / 25000 Steps) (loss=0.30238): 100%|██████████| 41/41 [00:23<00:00,  1.75it/s]\n",
      "Training (4181 / 25000 Steps) (loss=0.31411): 100%|██████████| 41/41 [00:23<00:00,  1.75it/s]\n",
      "Training (4222 / 25000 Steps) (loss=0.13627): 100%|██████████| 41/41 [00:23<00:00,  1.73it/s]\n",
      "Training (4263 / 25000 Steps) (loss=0.07644): 100%|██████████| 41/41 [00:23<00:00,  1.75it/s]\n",
      "Training (4304 / 25000 Steps) (loss=0.40146): 100%|██████████| 41/41 [00:23<00:00,  1.76it/s]\n",
      "Training (4345 / 25000 Steps) (loss=0.16047): 100%|██████████| 41/41 [00:23<00:00,  1.76it/s]\n",
      "Training (4386 / 25000 Steps) (loss=0.17685): 100%|██████████| 41/41 [00:23<00:00,  1.75it/s]\n",
      "Training (4427 / 25000 Steps) (loss=0.36556): 100%|██████████| 41/41 [00:23<00:00,  1.76it/s]\n",
      "Training (4468 / 25000 Steps) (loss=0.40292): 100%|██████████| 41/41 [00:23<00:00,  1.75it/s]\n",
      "Validate (4469 / 10 Steps): 100%|██████████| 41/41 [00:08<00:00,  4.56it/s]<00:05,  2.00it/s]\n",
      "Training (4500 / 25000 Steps) (loss=0.30781):  78%|███████▊  | 32/41 [00:28<00:31,  3.55s/it]"
     ]
    },
    {
     "name": "stdout",
     "output_type": "stream",
     "text": [
      "Model Was Saved ! Current Best Avg. Dice: 0.9407059550285339 Current Avg. Dice: 0.9407059550285339\n"
     ]
    },
    {
     "name": "stderr",
     "output_type": "stream",
     "text": [
      "Training (4509 / 25000 Steps) (loss=0.39679): 100%|██████████| 41/41 [00:33<00:00,  1.23it/s]\n",
      "Training (4550 / 25000 Steps) (loss=0.32439): 100%|██████████| 41/41 [00:23<00:00,  1.75it/s]\n",
      "Training (4591 / 25000 Steps) (loss=0.32384): 100%|██████████| 41/41 [00:23<00:00,  1.74it/s]\n",
      "Training (4632 / 25000 Steps) (loss=0.38195): 100%|██████████| 41/41 [00:23<00:00,  1.74it/s]\n",
      "Training (4673 / 25000 Steps) (loss=0.49573): 100%|██████████| 41/41 [00:23<00:00,  1.76it/s]\n",
      "Training (4714 / 25000 Steps) (loss=0.16271): 100%|██████████| 41/41 [00:23<00:00,  1.76it/s]\n",
      "Training (4755 / 25000 Steps) (loss=0.20146): 100%|██████████| 41/41 [00:23<00:00,  1.75it/s]\n",
      "Training (4796 / 25000 Steps) (loss=0.27337): 100%|██████████| 41/41 [00:23<00:00,  1.75it/s]\n",
      "Training (4837 / 25000 Steps) (loss=0.04960): 100%|██████████| 41/41 [00:23<00:00,  1.74it/s]\n",
      "Training (4878 / 25000 Steps) (loss=0.07938): 100%|██████████| 41/41 [00:23<00:00,  1.76it/s]\n",
      "Training (4919 / 25000 Steps) (loss=0.40621): 100%|██████████| 41/41 [00:23<00:00,  1.76it/s]\n",
      "Training (4960 / 25000 Steps) (loss=0.21915): 100%|██████████| 41/41 [00:23<00:00,  1.74it/s]\n",
      "Validate (4961 / 10 Steps): 100%|██████████| 41/41 [00:09<00:00,  4.44it/s]<00:01,  1.99it/s]\n",
      "Training (5000 / 25000 Steps) (loss=0.11662):  98%|█████████▊| 40/41 [00:32<00:03,  3.51s/it]"
     ]
    },
    {
     "name": "stdout",
     "output_type": "stream",
     "text": [
      "Model Was Saved ! Current Best Avg. Dice: 0.956190824508667 Current Avg. Dice: 0.956190824508667\n"
     ]
    },
    {
     "name": "stderr",
     "output_type": "stream",
     "text": [
      "Training (5001 / 25000 Steps) (loss=0.29036): 100%|██████████| 41/41 [00:33<00:00,  1.23it/s]\n",
      "Training (5042 / 25000 Steps) (loss=0.18301): 100%|██████████| 41/41 [00:23<00:00,  1.75it/s]\n",
      "Training (5083 / 25000 Steps) (loss=0.41112): 100%|██████████| 41/41 [00:23<00:00,  1.73it/s]\n",
      "Training (5124 / 25000 Steps) (loss=0.39619): 100%|██████████| 41/41 [00:23<00:00,  1.73it/s]\n",
      "Training (5165 / 25000 Steps) (loss=0.55048): 100%|██████████| 41/41 [00:23<00:00,  1.76it/s]\n",
      "Training (5206 / 25000 Steps) (loss=0.31622): 100%|██████████| 41/41 [00:23<00:00,  1.74it/s]\n",
      "Training (5247 / 25000 Steps) (loss=0.29033): 100%|██████████| 41/41 [00:23<00:00,  1.75it/s]\n",
      "Training (5288 / 25000 Steps) (loss=0.21949): 100%|██████████| 41/41 [00:23<00:00,  1.74it/s]\n",
      "Training (5329 / 25000 Steps) (loss=0.37699): 100%|██████████| 41/41 [00:23<00:00,  1.74it/s]\n",
      "Training (5370 / 25000 Steps) (loss=0.44438): 100%|██████████| 41/41 [00:23<00:00,  1.76it/s]\n",
      "Training (5411 / 25000 Steps) (loss=0.27167): 100%|██████████| 41/41 [00:23<00:00,  1.75it/s]\n",
      "Training (5452 / 25000 Steps) (loss=0.29566): 100%|██████████| 41/41 [00:23<00:00,  1.75it/s]\n",
      "Training (5493 / 25000 Steps) (loss=0.41482): 100%|██████████| 41/41 [00:23<00:00,  1.74it/s]\n",
      "Validate (5494 / 10 Steps): 100%|██████████| 41/41 [00:08<00:00,  4.67it/s]00:22,  1.55it/s]\n",
      "Training (5500 / 25000 Steps) (loss=0.28194):  17%|█▋        | 7/41 [00:14<01:58,  3.47s/it]"
     ]
    },
    {
     "name": "stdout",
     "output_type": "stream",
     "text": [
      "Model Was Not Saved ! Current Best Avg. Dice: 0.956190824508667 Current Avg. Dice: 0.9539971947669983\n"
     ]
    },
    {
     "name": "stderr",
     "output_type": "stream",
     "text": [
      "Training (5534 / 25000 Steps) (loss=0.16901): 100%|██████████| 41/41 [00:32<00:00,  1.28it/s]\n",
      "Training (5575 / 25000 Steps) (loss=0.53123): 100%|██████████| 41/41 [00:23<00:00,  1.76it/s]\n",
      "Training (5616 / 25000 Steps) (loss=0.18586): 100%|██████████| 41/41 [00:23<00:00,  1.73it/s]\n",
      "Training (5657 / 25000 Steps) (loss=0.18451): 100%|██████████| 41/41 [00:23<00:00,  1.73it/s]\n",
      "Training (5698 / 25000 Steps) (loss=0.18180): 100%|██████████| 41/41 [00:23<00:00,  1.74it/s]\n",
      "Training (5739 / 25000 Steps) (loss=0.44871): 100%|██████████| 41/41 [00:23<00:00,  1.76it/s]\n",
      "Training (5780 / 25000 Steps) (loss=0.16377): 100%|██████████| 41/41 [00:23<00:00,  1.76it/s]\n",
      "Training (5821 / 25000 Steps) (loss=0.29769): 100%|██████████| 41/41 [00:23<00:00,  1.73it/s]\n",
      "Training (5862 / 25000 Steps) (loss=0.20307): 100%|██████████| 41/41 [00:23<00:00,  1.73it/s]\n",
      "Training (5903 / 25000 Steps) (loss=0.34614): 100%|██████████| 41/41 [00:23<00:00,  1.74it/s]\n",
      "Training (5944 / 25000 Steps) (loss=0.37561): 100%|██████████| 41/41 [00:23<00:00,  1.75it/s]\n",
      "Training (5985 / 25000 Steps) (loss=0.17002): 100%|██████████| 41/41 [00:23<00:00,  1.74it/s]\n",
      "Validate (5986 / 10 Steps): 100%|██████████| 41/41 [00:09<00:00,  4.52it/s]<00:13,  1.98it/s]\n",
      "Training (6000 / 25000 Steps) (loss=0.12080):  37%|███▋      | 15/41 [00:19<01:24,  3.25s/it]"
     ]
    },
    {
     "name": "stdout",
     "output_type": "stream",
     "text": [
      "Model Was Not Saved ! Current Best Avg. Dice: 0.956190824508667 Current Avg. Dice: 0.9497277140617371\n"
     ]
    },
    {
     "name": "stderr",
     "output_type": "stream",
     "text": [
      "Training (6026 / 25000 Steps) (loss=0.24089): 100%|██████████| 41/41 [00:32<00:00,  1.27it/s]\n",
      "Training (6067 / 25000 Steps) (loss=0.09095): 100%|██████████| 41/41 [00:23<00:00,  1.76it/s]\n",
      "Training (6108 / 25000 Steps) (loss=0.18637): 100%|██████████| 41/41 [00:23<00:00,  1.76it/s]\n",
      "Training (6149 / 25000 Steps) (loss=0.24675): 100%|██████████| 41/41 [00:23<00:00,  1.73it/s]\n",
      "Training (6190 / 25000 Steps) (loss=0.13362): 100%|██████████| 41/41 [00:23<00:00,  1.74it/s]\n",
      "Training (6231 / 25000 Steps) (loss=0.22005): 100%|██████████| 41/41 [00:23<00:00,  1.75it/s]\n",
      "Training (6272 / 25000 Steps) (loss=0.19789): 100%|██████████| 41/41 [00:23<00:00,  1.75it/s]\n",
      "Training (6313 / 25000 Steps) (loss=0.05745): 100%|██████████| 41/41 [00:23<00:00,  1.74it/s]\n",
      "Training (6354 / 25000 Steps) (loss=0.15030): 100%|██████████| 41/41 [00:23<00:00,  1.73it/s]\n",
      "Training (6395 / 25000 Steps) (loss=0.39071): 100%|██████████| 41/41 [00:23<00:00,  1.75it/s]\n",
      "Training (6436 / 25000 Steps) (loss=0.25651): 100%|██████████| 41/41 [00:23<00:00,  1.73it/s]\n",
      "Training (6477 / 25000 Steps) (loss=0.15949): 100%|██████████| 41/41 [00:23<00:00,  1.76it/s]\n",
      "Validate (6478 / 10 Steps): 100%|██████████| 41/41 [00:08<00:00,  4.57it/s]<00:09,  2.01it/s]\n",
      "Training (6500 / 25000 Steps) (loss=0.17948):  56%|█████▌    | 23/41 [00:23<00:57,  3.19s/it]"
     ]
    },
    {
     "name": "stdout",
     "output_type": "stream",
     "text": [
      "Model Was Not Saved ! Current Best Avg. Dice: 0.956190824508667 Current Avg. Dice: 0.9531497359275818\n"
     ]
    },
    {
     "name": "stderr",
     "output_type": "stream",
     "text": [
      "Training (6518 / 25000 Steps) (loss=0.19678): 100%|██████████| 41/41 [00:32<00:00,  1.26it/s]\n",
      "Training (6559 / 25000 Steps) (loss=0.17529): 100%|██████████| 41/41 [00:23<00:00,  1.76it/s]\n",
      "Training (6600 / 25000 Steps) (loss=0.04391): 100%|██████████| 41/41 [00:23<00:00,  1.75it/s]\n",
      "Training (6641 / 25000 Steps) (loss=0.10428): 100%|██████████| 41/41 [00:23<00:00,  1.76it/s]\n",
      "Training (6682 / 25000 Steps) (loss=0.25533): 100%|██████████| 41/41 [00:23<00:00,  1.72it/s]\n",
      "Training (6723 / 25000 Steps) (loss=0.19773): 100%|██████████| 41/41 [00:23<00:00,  1.75it/s]\n",
      "Training (6764 / 25000 Steps) (loss=0.39292): 100%|██████████| 41/41 [00:23<00:00,  1.76it/s]\n",
      "Training (6805 / 25000 Steps) (loss=0.22467): 100%|██████████| 41/41 [00:23<00:00,  1.73it/s]\n",
      "Training (6846 / 25000 Steps) (loss=0.39437): 100%|██████████| 41/41 [00:23<00:00,  1.74it/s]\n",
      "Training (6887 / 25000 Steps) (loss=0.38643): 100%|██████████| 41/41 [00:23<00:00,  1.73it/s]\n",
      "Training (6928 / 25000 Steps) (loss=0.06282): 100%|██████████| 41/41 [00:23<00:00,  1.74it/s]\n",
      "Training (6969 / 25000 Steps) (loss=0.16060): 100%|██████████| 41/41 [00:23<00:00,  1.74it/s]\n",
      "Validate (6970 / 10 Steps): 100%|██████████| 41/41 [00:08<00:00,  4.62it/s]<00:05,  2.00it/s]\n",
      "Training (7000 / 25000 Steps) (loss=0.29414):  76%|███████▌  | 31/41 [00:27<00:31,  3.16s/it]"
     ]
    },
    {
     "name": "stdout",
     "output_type": "stream",
     "text": [
      "Model Was Not Saved ! Current Best Avg. Dice: 0.956190824508667 Current Avg. Dice: 0.9410068392753601\n"
     ]
    },
    {
     "name": "stderr",
     "output_type": "stream",
     "text": [
      "Training (7010 / 25000 Steps) (loss=0.37798): 100%|██████████| 41/41 [00:32<00:00,  1.27it/s]\n",
      "Training (7051 / 25000 Steps) (loss=0.15328): 100%|██████████| 41/41 [00:23<00:00,  1.75it/s]\n",
      "Training (7092 / 25000 Steps) (loss=0.28532): 100%|██████████| 41/41 [00:23<00:00,  1.74it/s]\n",
      "Training (7133 / 25000 Steps) (loss=0.06840): 100%|██████████| 41/41 [00:23<00:00,  1.74it/s]\n",
      "Training (7174 / 25000 Steps) (loss=0.25618): 100%|██████████| 41/41 [00:23<00:00,  1.76it/s]\n",
      "Training (7215 / 25000 Steps) (loss=0.27860): 100%|██████████| 41/41 [00:23<00:00,  1.76it/s]\n",
      "Training (7256 / 25000 Steps) (loss=0.31044): 100%|██████████| 41/41 [00:23<00:00,  1.75it/s]\n",
      "Training (7297 / 25000 Steps) (loss=0.17729): 100%|██████████| 41/41 [00:23<00:00,  1.75it/s]\n",
      "Training (7338 / 25000 Steps) (loss=0.18363): 100%|██████████| 41/41 [00:23<00:00,  1.75it/s]\n",
      "Training (7379 / 25000 Steps) (loss=0.08032): 100%|██████████| 41/41 [00:23<00:00,  1.73it/s]\n",
      "Training (7420 / 25000 Steps) (loss=0.18835): 100%|██████████| 41/41 [00:23<00:00,  1.74it/s]\n",
      "Training (7461 / 25000 Steps) (loss=0.16745): 100%|██████████| 41/41 [00:23<00:00,  1.75it/s]\n",
      "Validate (7462 / 10 Steps): 100%|██████████| 41/41 [00:08<00:00,  4.67it/s]<00:01,  2.00it/s]\n",
      "Training (7500 / 25000 Steps) (loss=0.27140):  95%|█████████▌| 39/41 [00:30<00:06,  3.13s/it]"
     ]
    },
    {
     "name": "stdout",
     "output_type": "stream",
     "text": [
      "Model Was Not Saved ! Current Best Avg. Dice: 0.956190824508667 Current Avg. Dice: 0.9518494009971619\n"
     ]
    },
    {
     "name": "stderr",
     "output_type": "stream",
     "text": [
      "Training (7502 / 25000 Steps) (loss=0.45044): 100%|██████████| 41/41 [00:32<00:00,  1.28it/s]\n",
      "Training (7543 / 25000 Steps) (loss=0.39309): 100%|██████████| 41/41 [00:23<00:00,  1.75it/s]\n",
      "Training (7584 / 25000 Steps) (loss=0.17894): 100%|██████████| 41/41 [00:23<00:00,  1.75it/s]\n",
      "Training (7625 / 25000 Steps) (loss=0.28233): 100%|██████████| 41/41 [00:23<00:00,  1.75it/s]\n",
      "Training (7666 / 25000 Steps) (loss=0.04168): 100%|██████████| 41/41 [00:23<00:00,  1.75it/s]\n",
      "Training (7707 / 25000 Steps) (loss=0.40492): 100%|██████████| 41/41 [00:23<00:00,  1.75it/s]\n",
      "Training (7748 / 25000 Steps) (loss=0.28973): 100%|██████████| 41/41 [00:23<00:00,  1.73it/s]\n",
      "Training (7789 / 25000 Steps) (loss=0.15541): 100%|██████████| 41/41 [00:23<00:00,  1.75it/s]\n",
      "Training (7830 / 25000 Steps) (loss=0.16421): 100%|██████████| 41/41 [00:23<00:00,  1.74it/s]\n",
      "Training (7871 / 25000 Steps) (loss=0.05839): 100%|██████████| 41/41 [00:23<00:00,  1.74it/s]\n",
      "Training (7912 / 25000 Steps) (loss=0.26943): 100%|██████████| 41/41 [00:23<00:00,  1.74it/s]\n",
      "Training (7953 / 25000 Steps) (loss=0.29079): 100%|██████████| 41/41 [00:23<00:00,  1.73it/s]\n",
      "Training (7994 / 25000 Steps) (loss=0.43504): 100%|██████████| 41/41 [00:23<00:00,  1.75it/s]\n",
      "Validate (7995 / 10 Steps): 100%|██████████| 41/41 [00:09<00:00,  4.54it/s]00:26,  1.35it/s]\n",
      "Training (8000 / 25000 Steps) (loss=0.30581):  15%|█▍        | 6/41 [00:14<02:10,  3.73s/it]"
     ]
    },
    {
     "name": "stdout",
     "output_type": "stream",
     "text": [
      "Model Was Not Saved ! Current Best Avg. Dice: 0.956190824508667 Current Avg. Dice: 0.9432704448699951\n"
     ]
    },
    {
     "name": "stderr",
     "output_type": "stream",
     "text": [
      "Training (8035 / 25000 Steps) (loss=0.51601): 100%|██████████| 41/41 [00:32<00:00,  1.26it/s]\n",
      "Training (8076 / 25000 Steps) (loss=0.05715): 100%|██████████| 41/41 [00:23<00:00,  1.74it/s]\n",
      "Training (8117 / 25000 Steps) (loss=0.19530): 100%|██████████| 41/41 [00:23<00:00,  1.72it/s]\n",
      "Training (8158 / 25000 Steps) (loss=0.27043): 100%|██████████| 41/41 [00:23<00:00,  1.74it/s]\n",
      "Training (8199 / 25000 Steps) (loss=0.17388): 100%|██████████| 41/41 [00:23<00:00,  1.73it/s]\n",
      "Training (8240 / 25000 Steps) (loss=0.28175): 100%|██████████| 41/41 [00:23<00:00,  1.76it/s]\n",
      "Training (8281 / 25000 Steps) (loss=0.14890): 100%|██████████| 41/41 [00:23<00:00,  1.75it/s]\n",
      "Training (8322 / 25000 Steps) (loss=0.30127): 100%|██████████| 41/41 [00:23<00:00,  1.75it/s]\n",
      "Training (8363 / 25000 Steps) (loss=0.36392): 100%|██████████| 41/41 [00:23<00:00,  1.74it/s]\n",
      "Training (8404 / 25000 Steps) (loss=0.43843): 100%|██████████| 41/41 [00:23<00:00,  1.74it/s]\n",
      "Training (8445 / 25000 Steps) (loss=0.25142): 100%|██████████| 41/41 [00:23<00:00,  1.75it/s]\n",
      "Training (8486 / 25000 Steps) (loss=0.19055): 100%|██████████| 41/41 [00:23<00:00,  1.76it/s]\n",
      "Validate (8487 / 10 Steps): 100%|██████████| 41/41 [00:09<00:00,  4.55it/s]<00:14,  1.97it/s]\n",
      "Training (8500 / 25000 Steps) (loss=0.08751):  34%|███▍      | 14/41 [00:18<01:27,  3.23s/it]"
     ]
    },
    {
     "name": "stdout",
     "output_type": "stream",
     "text": [
      "Model Was Not Saved ! Current Best Avg. Dice: 0.956190824508667 Current Avg. Dice: 0.9551199674606323\n"
     ]
    },
    {
     "name": "stderr",
     "output_type": "stream",
     "text": [
      "Training (8527 / 25000 Steps) (loss=0.17961): 100%|██████████| 41/41 [00:32<00:00,  1.27it/s]\n",
      "Training (8568 / 25000 Steps) (loss=0.09222): 100%|██████████| 41/41 [00:23<00:00,  1.76it/s]\n",
      "Training (8609 / 25000 Steps) (loss=0.15815): 100%|██████████| 41/41 [00:23<00:00,  1.75it/s]\n",
      "Training (8650 / 25000 Steps) (loss=0.17107): 100%|██████████| 41/41 [00:23<00:00,  1.76it/s]\n",
      "Training (8691 / 25000 Steps) (loss=0.16588): 100%|██████████| 41/41 [00:23<00:00,  1.74it/s]\n",
      "Training (8732 / 25000 Steps) (loss=0.05177): 100%|██████████| 41/41 [00:23<00:00,  1.74it/s]\n",
      "Training (8773 / 25000 Steps) (loss=0.05216): 100%|██████████| 41/41 [00:23<00:00,  1.75it/s]\n",
      "Training (8814 / 25000 Steps) (loss=0.16712): 100%|██████████| 41/41 [00:23<00:00,  1.73it/s]\n",
      "Training (8855 / 25000 Steps) (loss=0.27350): 100%|██████████| 41/41 [00:23<00:00,  1.76it/s]\n",
      "Training (8896 / 25000 Steps) (loss=0.04127): 100%|██████████| 41/41 [00:23<00:00,  1.74it/s]\n",
      "Training (8937 / 25000 Steps) (loss=0.17934): 100%|██████████| 41/41 [00:23<00:00,  1.75it/s]\n",
      "Training (8978 / 25000 Steps) (loss=0.42529): 100%|██████████| 41/41 [00:23<00:00,  1.76it/s]\n",
      "Validate (8979 / 10 Steps): 100%|██████████| 41/41 [00:09<00:00,  4.53it/s]<00:10,  1.99it/s]\n",
      "Training (9000 / 25000 Steps) (loss=0.51007):  54%|█████▎    | 22/41 [00:22<01:01,  3.22s/it]"
     ]
    },
    {
     "name": "stdout",
     "output_type": "stream",
     "text": [
      "Model Was Not Saved ! Current Best Avg. Dice: 0.956190824508667 Current Avg. Dice: 0.9558896422386169\n"
     ]
    },
    {
     "name": "stderr",
     "output_type": "stream",
     "text": [
      "Training (9019 / 25000 Steps) (loss=0.18326): 100%|██████████| 41/41 [00:32<00:00,  1.25it/s]\n",
      "Training (9060 / 25000 Steps) (loss=0.39805): 100%|██████████| 41/41 [00:23<00:00,  1.73it/s]\n",
      "Training (9101 / 25000 Steps) (loss=0.28782): 100%|██████████| 41/41 [00:23<00:00,  1.72it/s]\n",
      "Training (9142 / 25000 Steps) (loss=0.16110): 100%|██████████| 41/41 [00:23<00:00,  1.75it/s]\n",
      "Training (9183 / 25000 Steps) (loss=0.26738): 100%|██████████| 41/41 [00:23<00:00,  1.74it/s]\n",
      "Training (9224 / 25000 Steps) (loss=0.15540): 100%|██████████| 41/41 [00:23<00:00,  1.74it/s]\n",
      "Training (9265 / 25000 Steps) (loss=0.15771): 100%|██████████| 41/41 [00:23<00:00,  1.75it/s]\n",
      "Training (9306 / 25000 Steps) (loss=0.34951): 100%|██████████| 41/41 [00:23<00:00,  1.76it/s]\n",
      "Training (9347 / 25000 Steps) (loss=0.17748): 100%|██████████| 41/41 [00:23<00:00,  1.71it/s]\n",
      "Training (9388 / 25000 Steps) (loss=0.08265): 100%|██████████| 41/41 [00:23<00:00,  1.73it/s]\n",
      "Training (9429 / 25000 Steps) (loss=0.16614): 100%|██████████| 41/41 [00:23<00:00,  1.73it/s]\n",
      "Training (9470 / 25000 Steps) (loss=0.03620): 100%|██████████| 41/41 [00:23<00:00,  1.75it/s]\n",
      "Validate (9471 / 10 Steps): 100%|██████████| 41/41 [00:09<00:00,  4.40it/s]<00:06,  2.00it/s]\n",
      "Training (9500 / 25000 Steps) (loss=0.17044):  73%|███████▎  | 30/41 [00:27<00:38,  3.52s/it]"
     ]
    },
    {
     "name": "stdout",
     "output_type": "stream",
     "text": [
      "Model Was Saved ! Current Best Avg. Dice: 0.9588298201560974 Current Avg. Dice: 0.9588298201560974\n"
     ]
    },
    {
     "name": "stderr",
     "output_type": "stream",
     "text": [
      "Training (9511 / 25000 Steps) (loss=0.30695): 100%|██████████| 41/41 [00:33<00:00,  1.22it/s]\n",
      "Training (9552 / 25000 Steps) (loss=0.38341): 100%|██████████| 41/41 [00:23<00:00,  1.75it/s]\n",
      "Training (9593 / 25000 Steps) (loss=0.21981): 100%|██████████| 41/41 [00:23<00:00,  1.74it/s]\n",
      "Training (9634 / 25000 Steps) (loss=0.38787): 100%|██████████| 41/41 [00:23<00:00,  1.75it/s]\n",
      "Training (9675 / 25000 Steps) (loss=0.30888): 100%|██████████| 41/41 [00:23<00:00,  1.76it/s]\n",
      "Training (9716 / 25000 Steps) (loss=0.16967): 100%|██████████| 41/41 [00:23<00:00,  1.76it/s]\n",
      "Training (9757 / 25000 Steps) (loss=0.27799): 100%|██████████| 41/41 [00:23<00:00,  1.75it/s]\n",
      "Training (9798 / 25000 Steps) (loss=0.27530): 100%|██████████| 41/41 [00:23<00:00,  1.74it/s]\n",
      "Training (9839 / 25000 Steps) (loss=0.29664): 100%|██████████| 41/41 [00:23<00:00,  1.76it/s]\n",
      "Training (9880 / 25000 Steps) (loss=0.18808): 100%|██████████| 41/41 [00:23<00:00,  1.73it/s]\n",
      "Training (9921 / 25000 Steps) (loss=0.10885): 100%|██████████| 41/41 [00:23<00:00,  1.74it/s]\n",
      "Training (9962 / 25000 Steps) (loss=0.38899): 100%|██████████| 41/41 [00:23<00:00,  1.75it/s]\n",
      "Validate (9963 / 10 Steps): 100%|██████████| 41/41 [00:09<00:00,  4.55it/s]1<00:02,  2.00it/s]\n",
      "Training (10000 / 25000 Steps) (loss=0.27843):  93%|█████████▎| 38/41 [00:30<00:09,  3.20s/it]"
     ]
    },
    {
     "name": "stdout",
     "output_type": "stream",
     "text": [
      "Model Was Not Saved ! Current Best Avg. Dice: 0.9588298201560974 Current Avg. Dice: 0.9569572806358337\n"
     ]
    },
    {
     "name": "stderr",
     "output_type": "stream",
     "text": [
      "Training (10003 / 25000 Steps) (loss=0.04664): 100%|██████████| 41/41 [00:32<00:00,  1.26it/s]\n",
      "Training (10044 / 25000 Steps) (loss=0.04038): 100%|██████████| 41/41 [00:23<00:00,  1.77it/s]\n",
      "Training (10085 / 25000 Steps) (loss=0.50763): 100%|██████████| 41/41 [00:23<00:00,  1.76it/s]\n",
      "Training (10126 / 25000 Steps) (loss=0.35288): 100%|██████████| 41/41 [00:23<00:00,  1.75it/s]\n",
      "Training (10167 / 25000 Steps) (loss=0.27037): 100%|██████████| 41/41 [00:23<00:00,  1.75it/s]\n",
      "Training (10208 / 25000 Steps) (loss=0.18722): 100%|██████████| 41/41 [00:23<00:00,  1.74it/s]\n",
      "Training (10249 / 25000 Steps) (loss=0.19322): 100%|██████████| 41/41 [00:23<00:00,  1.76it/s]\n",
      "Training (10290 / 25000 Steps) (loss=0.10539): 100%|██████████| 41/41 [00:23<00:00,  1.74it/s]\n",
      "Training (10331 / 25000 Steps) (loss=0.26145): 100%|██████████| 41/41 [00:23<00:00,  1.76it/s]\n",
      "Training (10372 / 25000 Steps) (loss=0.18210): 100%|██████████| 41/41 [00:23<00:00,  1.74it/s]\n",
      "Training (10413 / 25000 Steps) (loss=0.17398): 100%|██████████| 41/41 [00:23<00:00,  1.76it/s]\n",
      "Training (10454 / 25000 Steps) (loss=0.57725): 100%|██████████| 41/41 [00:23<00:00,  1.75it/s]\n",
      "Training (10495 / 25000 Steps) (loss=0.38500): 100%|██████████| 41/41 [00:23<00:00,  1.76it/s]\n",
      "Validate (10496 / 10 Steps): 100%|██████████| 41/41 [00:09<00:00,  4.47it/s]00:31,  1.18it/s]\n",
      "Training (10500 / 25000 Steps) (loss=0.08891):  12%|█▏        | 5/41 [00:15<02:35,  4.32s/it]"
     ]
    },
    {
     "name": "stdout",
     "output_type": "stream",
     "text": [
      "Model Was Saved ! Current Best Avg. Dice: 0.9624605774879456 Current Avg. Dice: 0.9624605774879456\n"
     ]
    },
    {
     "name": "stderr",
     "output_type": "stream",
     "text": [
      "Training (10536 / 25000 Steps) (loss=0.03722): 100%|██████████| 41/41 [00:33<00:00,  1.23it/s]\n",
      "Training (10577 / 25000 Steps) (loss=0.15815): 100%|██████████| 41/41 [00:23<00:00,  1.74it/s]\n",
      "Training (10618 / 25000 Steps) (loss=0.10910): 100%|██████████| 41/41 [00:23<00:00,  1.74it/s]\n",
      "Training (10659 / 25000 Steps) (loss=0.07757): 100%|██████████| 41/41 [00:23<00:00,  1.76it/s]\n",
      "Training (10700 / 25000 Steps) (loss=0.04601): 100%|██████████| 41/41 [00:23<00:00,  1.74it/s]\n",
      "Training (10741 / 25000 Steps) (loss=0.32392): 100%|██████████| 41/41 [00:23<00:00,  1.75it/s]\n",
      "Training (10782 / 25000 Steps) (loss=0.23605): 100%|██████████| 41/41 [00:23<00:00,  1.73it/s]\n",
      "Training (10823 / 25000 Steps) (loss=0.18219): 100%|██████████| 41/41 [00:23<00:00,  1.74it/s]\n",
      "Training (10864 / 25000 Steps) (loss=0.28487): 100%|██████████| 41/41 [00:23<00:00,  1.76it/s]\n",
      "Training (10905 / 25000 Steps) (loss=0.34768): 100%|██████████| 41/41 [00:23<00:00,  1.73it/s]\n",
      "Training (10946 / 25000 Steps) (loss=0.41275): 100%|██████████| 41/41 [00:23<00:00,  1.73it/s]\n",
      "Training (10987 / 25000 Steps) (loss=0.38581): 100%|██████████| 41/41 [00:23<00:00,  1.74it/s]\n",
      "Validate (10988 / 10 Steps): 100%|██████████| 41/41 [00:08<00:00,  4.56it/s]<00:14,  1.94it/s]\n",
      "Training (11000 / 25000 Steps) (loss=0.15875):  32%|███▏      | 13/41 [00:18<01:30,  3.23s/it]"
     ]
    },
    {
     "name": "stdout",
     "output_type": "stream",
     "text": [
      "Model Was Not Saved ! Current Best Avg. Dice: 0.9624605774879456 Current Avg. Dice: 0.9514578580856323\n"
     ]
    },
    {
     "name": "stderr",
     "output_type": "stream",
     "text": [
      "Training (11028 / 25000 Steps) (loss=0.27460): 100%|██████████| 41/41 [00:32<00:00,  1.27it/s]\n",
      "Training (11069 / 25000 Steps) (loss=0.15551): 100%|██████████| 41/41 [00:23<00:00,  1.74it/s]\n",
      "Training (11110 / 25000 Steps) (loss=0.15798): 100%|██████████| 41/41 [00:23<00:00,  1.76it/s]\n",
      "Training (11151 / 25000 Steps) (loss=0.15228): 100%|██████████| 41/41 [00:23<00:00,  1.74it/s]\n",
      "Training (11192 / 25000 Steps) (loss=0.16047): 100%|██████████| 41/41 [00:23<00:00,  1.74it/s]\n",
      "Training (11233 / 25000 Steps) (loss=0.17028): 100%|██████████| 41/41 [00:23<00:00,  1.76it/s]\n",
      "Training (11274 / 25000 Steps) (loss=0.16186): 100%|██████████| 41/41 [00:23<00:00,  1.73it/s]\n",
      "Training (11315 / 25000 Steps) (loss=0.50149): 100%|██████████| 41/41 [00:23<00:00,  1.74it/s]\n",
      "Training (11356 / 25000 Steps) (loss=0.33953): 100%|██████████| 41/41 [00:23<00:00,  1.76it/s]\n",
      "Training (11397 / 25000 Steps) (loss=0.30918): 100%|██████████| 41/41 [00:23<00:00,  1.76it/s]\n",
      "Training (11438 / 25000 Steps) (loss=0.34914): 100%|██████████| 41/41 [00:23<00:00,  1.75it/s]\n",
      "Training (11479 / 25000 Steps) (loss=0.39054): 100%|██████████| 41/41 [00:23<00:00,  1.74it/s]\n",
      "Validate (11480 / 10 Steps): 100%|██████████| 41/41 [00:08<00:00,  4.61it/s]<00:10,  2.00it/s]\n",
      "Training (11500 / 25000 Steps) (loss=0.27158):  51%|█████     | 21/41 [00:23<01:08,  3.40s/it]"
     ]
    },
    {
     "name": "stdout",
     "output_type": "stream",
     "text": [
      "Model Was Saved ! Current Best Avg. Dice: 0.9643076658248901 Current Avg. Dice: 0.9643076658248901\n"
     ]
    },
    {
     "name": "stderr",
     "output_type": "stream",
     "text": [
      "Training (11520 / 25000 Steps) (loss=0.16923): 100%|██████████| 41/41 [00:33<00:00,  1.23it/s]\n",
      "Training (11561 / 25000 Steps) (loss=0.05408): 100%|██████████| 41/41 [00:23<00:00,  1.75it/s]\n",
      "Training (11602 / 25000 Steps) (loss=0.05284): 100%|██████████| 41/41 [00:23<00:00,  1.76it/s]\n",
      "Training (11643 / 25000 Steps) (loss=0.39433): 100%|██████████| 41/41 [00:23<00:00,  1.77it/s]\n",
      "Training (11684 / 25000 Steps) (loss=0.14906): 100%|██████████| 41/41 [00:23<00:00,  1.76it/s]\n",
      "Training (11725 / 25000 Steps) (loss=0.27500): 100%|██████████| 41/41 [00:23<00:00,  1.77it/s]\n",
      "Training (11766 / 25000 Steps) (loss=0.29581): 100%|██████████| 41/41 [00:23<00:00,  1.76it/s]\n",
      "Training (11807 / 25000 Steps) (loss=0.18345): 100%|██████████| 41/41 [00:23<00:00,  1.75it/s]\n",
      "Training (11848 / 25000 Steps) (loss=0.15071): 100%|██████████| 41/41 [00:23<00:00,  1.77it/s]\n",
      "Training (11889 / 25000 Steps) (loss=0.27175): 100%|██████████| 41/41 [00:23<00:00,  1.73it/s]\n",
      "Training (11930 / 25000 Steps) (loss=0.38723): 100%|██████████| 41/41 [00:23<00:00,  1.76it/s]\n",
      "Training (11971 / 25000 Steps) (loss=0.04547): 100%|██████████| 41/41 [00:23<00:00,  1.77it/s]\n",
      "Validate (11972 / 10 Steps): 100%|██████████| 41/41 [00:08<00:00,  4.61it/s]<00:06,  2.00it/s]\n",
      "Training (12000 / 25000 Steps) (loss=0.15658):  71%|███████   | 29/41 [00:26<00:38,  3.17s/it]"
     ]
    },
    {
     "name": "stdout",
     "output_type": "stream",
     "text": [
      "Model Was Not Saved ! Current Best Avg. Dice: 0.9643076658248901 Current Avg. Dice: 0.9609026908874512\n"
     ]
    },
    {
     "name": "stderr",
     "output_type": "stream",
     "text": [
      "Training (12012 / 25000 Steps) (loss=0.05251): 100%|██████████| 41/41 [00:32<00:00,  1.26it/s]\n",
      "Training (12053 / 25000 Steps) (loss=0.38877): 100%|██████████| 41/41 [00:23<00:00,  1.76it/s]\n",
      "Training (12094 / 25000 Steps) (loss=0.26485): 100%|██████████| 41/41 [00:23<00:00,  1.76it/s]\n",
      "Training (12135 / 25000 Steps) (loss=0.15766): 100%|██████████| 41/41 [00:23<00:00,  1.75it/s]\n",
      "Training (12176 / 25000 Steps) (loss=0.26798): 100%|██████████| 41/41 [00:23<00:00,  1.75it/s]\n",
      "Training (12217 / 25000 Steps) (loss=0.05003): 100%|██████████| 41/41 [00:23<00:00,  1.75it/s]\n",
      "Training (12258 / 25000 Steps) (loss=0.26972): 100%|██████████| 41/41 [00:23<00:00,  1.74it/s]\n",
      "Training (12299 / 25000 Steps) (loss=0.16184): 100%|██████████| 41/41 [00:23<00:00,  1.74it/s]\n",
      "Training (12340 / 25000 Steps) (loss=0.15635): 100%|██████████| 41/41 [00:23<00:00,  1.75it/s]\n",
      "Training (12381 / 25000 Steps) (loss=0.38577): 100%|██████████| 41/41 [00:23<00:00,  1.74it/s]\n",
      "Training (12422 / 25000 Steps) (loss=0.28350): 100%|██████████| 41/41 [00:23<00:00,  1.74it/s]\n",
      "Training (12463 / 25000 Steps) (loss=0.18175): 100%|██████████| 41/41 [00:23<00:00,  1.75it/s]\n",
      "Validate (12464 / 10 Steps): 100%|██████████| 41/41 [00:09<00:00,  4.55it/s]<00:02,  2.00it/s]\n",
      "Training (12500 / 25000 Steps) (loss=0.26477):  90%|█████████ | 37/41 [00:30<00:12,  3.21s/it]"
     ]
    },
    {
     "name": "stdout",
     "output_type": "stream",
     "text": [
      "Model Was Not Saved ! Current Best Avg. Dice: 0.9643076658248901 Current Avg. Dice: 0.9539240598678589\n"
     ]
    },
    {
     "name": "stderr",
     "output_type": "stream",
     "text": [
      "Training (12504 / 25000 Steps) (loss=0.28001): 100%|██████████| 41/41 [00:32<00:00,  1.27it/s]\n",
      "Training (12545 / 25000 Steps) (loss=0.32211): 100%|██████████| 41/41 [00:23<00:00,  1.76it/s]\n",
      "Training (12586 / 25000 Steps) (loss=0.04441): 100%|██████████| 41/41 [00:23<00:00,  1.74it/s]\n",
      "Training (12627 / 25000 Steps) (loss=0.15941): 100%|██████████| 41/41 [00:23<00:00,  1.74it/s]\n",
      "Training (12668 / 25000 Steps) (loss=0.39407): 100%|██████████| 41/41 [00:23<00:00,  1.77it/s]\n",
      "Training (12709 / 25000 Steps) (loss=0.03580): 100%|██████████| 41/41 [00:23<00:00,  1.74it/s]\n",
      "Training (12750 / 25000 Steps) (loss=0.16644): 100%|██████████| 41/41 [00:23<00:00,  1.74it/s]\n",
      "Training (12791 / 25000 Steps) (loss=0.26676): 100%|██████████| 41/41 [00:23<00:00,  1.76it/s]\n",
      "Training (12832 / 25000 Steps) (loss=0.27173): 100%|██████████| 41/41 [00:23<00:00,  1.76it/s]\n",
      "Training (12873 / 25000 Steps) (loss=0.26766): 100%|██████████| 41/41 [00:23<00:00,  1.75it/s]\n",
      "Training (12914 / 25000 Steps) (loss=0.33851): 100%|██████████| 41/41 [00:23<00:00,  1.76it/s]\n",
      "Training (12955 / 25000 Steps) (loss=0.15962): 100%|██████████| 41/41 [00:23<00:00,  1.75it/s]\n",
      "Training (12996 / 25000 Steps) (loss=0.15471): 100%|██████████| 41/41 [00:23<00:00,  1.76it/s]\n",
      "Validate (12997 / 10 Steps): 100%|██████████| 41/41 [00:09<00:00,  4.45it/s]00:43,  1.15s/it]\n",
      "Training (13000 / 25000 Steps) (loss=0.27998):  10%|▉         | 4/41 [00:14<02:58,  4.81s/it]"
     ]
    },
    {
     "name": "stdout",
     "output_type": "stream",
     "text": [
      "Model Was Saved ! Current Best Avg. Dice: 0.9670592546463013 Current Avg. Dice: 0.9670592546463013\n"
     ]
    },
    {
     "name": "stderr",
     "output_type": "stream",
     "text": [
      "Training (13037 / 25000 Steps) (loss=0.16026): 100%|██████████| 41/41 [00:33<00:00,  1.22it/s]\n",
      "Training (13078 / 25000 Steps) (loss=0.16179): 100%|██████████| 41/41 [00:23<00:00,  1.75it/s]\n",
      "Training (X / X Steps) (loss=X.X):   0%|          | 0/41 [00:00<?, ?it/s]"
     ]
    }
   ],
   "source": [
    "max_iterations = 25000\n",
    "eval_num = 500\n",
    "post_label = AsDiscrete(to_onehot=14)\n",
    "post_pred = AsDiscrete(argmax=True, to_onehot=14)\n",
    "dice_metric = DiceMetric(include_background=True, reduction=\"mean\", get_not_nans=False)\n",
    "global_step = 0\n",
    "dice_val_best = 0.0\n",
    "global_step_best = 0\n",
    "epoch_loss_values = []\n",
    "metric_values = []\n",
    "while global_step < max_iterations:\n",
    "    global_step, dice_val_best, global_step_best = train(global_step, train_loader, dice_val_best, global_step_best)\n",
    "# model.load_state_dict(torch.load(os.path.join(root_dir, \"best_metric_model.pth\")))"
   ]
  }
 ],
 "metadata": {
  "kernelspec": {
   "display_name": "cv",
   "language": "python",
   "name": "python3"
  },
  "language_info": {
   "codemirror_mode": {
    "name": "ipython",
    "version": 3
   },
   "file_extension": ".py",
   "mimetype": "text/x-python",
   "name": "python",
   "nbconvert_exporter": "python",
   "pygments_lexer": "ipython3",
   "version": "3.11.5"
  }
 },
 "nbformat": 4,
 "nbformat_minor": 2
}
