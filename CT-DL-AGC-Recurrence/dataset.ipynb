{
 "cells": [
  {
   "cell_type": "code",
   "execution_count": 10,
   "metadata": {},
   "outputs": [],
   "source": [
    "import os\n",
    "dicom_list = sorted(os.listdir(\"data/ori_dcm/\"))\n",
    "roi_list = sorted(os.listdir(\"data/roi/\"))"
   ]
  },
  {
   "cell_type": "code",
   "execution_count": 13,
   "metadata": {},
   "outputs": [
    {
     "name": "stdout",
     "output_type": "stream",
     "text": [
      "step:0,dicom_dir:00306265V,example_nii_path:00306265_Merge.nii.gz,example_nii_path_v2:00306265V_Merge.nii.gz\n",
      "step:1,dicom_dir:00306635V,example_nii_path:00306635_Merge.nii.gz,example_nii_path_v2:00306635V_Merge.nii.gz\n"
     ]
    }
   ],
   "source": [
    "step = 0\n",
    "for dicom_dir in dicom_list:\n",
    "    # dicom_dir = example_nii_path.replace(\"_Merge.nii.gz\", \"\").replace(\"V\",\"\") + \"V\"\n",
    "    example_nii_path = dicom_dir.replace(\"V\", \"\") + \"_Merge.nii.gz\"\n",
    "    example_nii_path_v2 = dicom_dir + \"_Merge.nii.gz\"\n",
    "    if (example_nii_path not in roi_list) and (example_nii_path_v2 not in roi_list):\n",
    "        print(f\"step:{step},dicom_dir:{dicom_dir},example_nii_path:{example_nii_path},example_nii_path_v2:{example_nii_path_v2}\")\n",
    "        step += 1"
   ]
  },
  {
   "cell_type": "code",
   "execution_count": 8,
   "metadata": {},
   "outputs": [
    {
     "name": "stdout",
     "output_type": "stream",
     "text": [
      "2414\n",
      "2412\n"
     ]
    }
   ],
   "source": [
    "print(len(dicom_list))\n",
    "print(len(roi_list))\n"
   ]
  },
  {
   "cell_type": "code",
   "execution_count": 5,
   "metadata": {
    "ExecuteTime": {
     "end_time": "2024-01-23T14:41:49.746869Z",
     "start_time": "2024-01-23T14:41:49.744853Z"
    }
   },
   "outputs": [
    {
     "name": "stdout",
     "output_type": "stream",
     "text": [
      "102\n"
     ]
    }
   ],
   "source": [
    "import os\n",
    "\n",
    "ori_data_path = \"../data/Task100/ori_data\"\n",
    "ori_dcm_path = \"../data/Task100/ori_dcm\"\n",
    "\n",
    "ori_data_list = sorted(os.listdir(ori_data_path))\n",
    "ori_dcm_list = sorted(os.listdir(ori_dcm_path))\n",
    "\n",
    "assert len(ori_data_list) == len(ori_dcm_list)\n",
    "print(len(ori_data_list))"
   ]
  },
  {
   "cell_type": "code",
   "outputs": [
    {
     "data": {
      "text/plain": "['1.nii.gz',\n '10.nii.gz',\n '100.nii.gz',\n '101.nii.gz',\n '102.nii.gz',\n '11.nii.gz',\n '12.nii.gz',\n '13.nii.gz',\n '14.nii.gz',\n '15.nii.gz',\n '16.nii.gz',\n '17.nii.gz',\n '18.nii.gz',\n '19.nii.gz',\n '2.nii.gz',\n '20.nii.gz',\n '21.nii.gz',\n '22.nii.gz',\n '23.nii.gz',\n '24.nii.gz',\n '25.nii.gz',\n '26.nii.gz',\n '27.nii.gz',\n '28.nii.gz',\n '29.nii.gz',\n '3.nii.gz',\n '30.nii.gz',\n '31.nii.gz',\n '32.nii.gz',\n '33.nii.gz',\n '34.nii.gz',\n '35.nii.gz',\n '36.nii.gz',\n '37.nii.gz',\n '38.nii.gz',\n '39.nii.gz',\n '4.nii.gz',\n '40.nii.gz',\n '41.nii.gz',\n '42.nii.gz',\n '43.nii.gz',\n '44.nii.gz',\n '45.nii.gz',\n '46.nii.gz',\n '47.nii.gz',\n '48.nii.gz',\n '49.nii.gz',\n '5.nii.gz',\n '50.nii.gz',\n '51.nii.gz',\n '52.nii.gz',\n '53.nii.gz',\n '54.nii.gz',\n '55.nii.gz',\n '56.nii.gz',\n '57.nii.gz',\n '58.nii.gz',\n '59.nii.gz',\n '6.nii.gz',\n '60.nii.gz',\n '61.nii.gz',\n '62.nii.gz',\n '63.nii.gz',\n '64.nii.gz',\n '65.nii.gz',\n '66.nii.gz',\n '67.nii.gz',\n '68.nii.gz',\n '69.nii.gz',\n '7.nii.gz',\n '70.nii.gz',\n '71.nii.gz',\n '72.nii.gz',\n '73.nii.gz',\n '74.nii.gz',\n '75.nii.gz',\n '76.nii.gz',\n '77.nii.gz',\n '78.nii.gz',\n '79.nii.gz',\n '8.nii.gz',\n '80.nii.gz',\n '81.nii.gz',\n '82.nii.gz',\n '83.nii.gz',\n '84.nii.gz',\n '85.nii.gz',\n '86.nii.gz',\n '87.nii.gz',\n '88.nii.gz',\n '89.nii.gz',\n '9.nii.gz',\n '90.nii.gz',\n '91.nii.gz',\n '92.nii.gz',\n '93.nii.gz',\n '94.nii.gz',\n '95.nii.gz',\n '96.nii.gz',\n '97.nii.gz',\n '98.nii.gz',\n '99.nii.gz']"
     },
     "execution_count": 9,
     "metadata": {},
     "output_type": "execute_result"
    }
   ],
   "source": [
    "ori_data_list"
   ],
   "metadata": {
    "collapsed": false,
    "ExecuteTime": {
     "end_time": "2024-01-23T14:42:40.665300Z",
     "start_time": "2024-01-23T14:42:40.662335Z"
    }
   },
   "execution_count": 9
  },
  {
   "cell_type": "code",
   "outputs": [
    {
     "data": {
      "text/plain": "['00347050V',\n '00347858V',\n '00349620V',\n '00350081V',\n '00350512V',\n '00350720V',\n '00350724V',\n '00351636V',\n '00352947V',\n '00353299V',\n '00353663V',\n '00355045V',\n '00355642V',\n '00356319V',\n '00356710V',\n '00356739V',\n '00357203V',\n '00357667V',\n '00358844V',\n '00359097V',\n '00364085V',\n '00364901V',\n '00366527V',\n '00367763V',\n '00367846V',\n '00367966V',\n '00369060V',\n '00369880V',\n '00369993V',\n '00369997V',\n '00370922V',\n '00376730V',\n '00376994V',\n '00377010V',\n '00377522V',\n '00377950V',\n '00377969V',\n '00378353V',\n '00379245V',\n '00381292V',\n '00381386V',\n '00381877V',\n '00382057V',\n '00383410V',\n '00384507V',\n '00385168V',\n '00386420V',\n '00387179V',\n '00389364V',\n '00390956V',\n '00391783V',\n '00392585V',\n '00392808V',\n '00395179V',\n '00396008V',\n '00398059V',\n '00401631V',\n '00402016V',\n '00402667V',\n '00403152V',\n '00404249V',\n '00405707V',\n '00406188V',\n '00410499V',\n '00413015V',\n '00413729V',\n '00416166V',\n '00416195V',\n '00416900V',\n '00417472V',\n '00418080V',\n '00420664V',\n '00421243V',\n '00421271V',\n '00422463V',\n '00423995V',\n '00424572V',\n '00426343V',\n '00426912V',\n '00427190V',\n '00428677V',\n '00431809V',\n '00432291V',\n '00433798V',\n '00434216V',\n '00435155V',\n '00435804V',\n '00435838V',\n '00436000V',\n '00437764V',\n '00437921V',\n '00441509V',\n '00443101V',\n '00445109V',\n '00446094V',\n '00446229V',\n '00446566V',\n '00447177V',\n '00447597V',\n '00449344V',\n '00450809V',\n '00452370V']"
     },
     "execution_count": 8,
     "metadata": {},
     "output_type": "execute_result"
    }
   ],
   "source": [
    "ori_dcm_list"
   ],
   "metadata": {
    "collapsed": false,
    "ExecuteTime": {
     "end_time": "2024-01-23T14:42:23.253305Z",
     "start_time": "2024-01-23T14:42:23.250323Z"
    }
   },
   "execution_count": 8
  },
  {
   "cell_type": "code",
   "outputs": [
    {
     "name": "stdout",
     "output_type": "stream",
     "text": [
      "0\n",
      "00347050V\n",
      "1\n",
      "00347858V\n",
      "2\n",
      "00349620V\n",
      "3\n",
      "00350081V\n",
      "4\n",
      "00350512V\n",
      "5\n",
      "00350720V\n",
      "6\n",
      "00350724V\n",
      "7\n",
      "00351636V\n",
      "8\n",
      "00352947V\n",
      "9\n",
      "00353299V\n",
      "10\n",
      "00353663V\n",
      "11\n",
      "00355045V\n",
      "12\n",
      "00355642V\n",
      "13\n",
      "00356319V\n",
      "14\n",
      "00356710V\n",
      "15\n",
      "00356739V\n",
      "16\n",
      "00357203V\n",
      "17\n",
      "00357667V\n",
      "18\n",
      "00358844V\n",
      "19\n",
      "00359097V\n",
      "20\n",
      "00364085V\n",
      "21\n",
      "00364901V\n",
      "22\n",
      "00366527V\n",
      "23\n",
      "00367763V\n",
      "24\n",
      "00367846V\n",
      "25\n",
      "00367966V\n",
      "26\n",
      "00369060V\n",
      "27\n",
      "00369880V\n",
      "28\n",
      "00369993V\n",
      "29\n",
      "00369997V\n",
      "30\n",
      "00370922V\n",
      "31\n",
      "00376730V\n",
      "32\n",
      "00376994V\n",
      "33\n",
      "00377010V\n",
      "34\n",
      "00377522V\n",
      "35\n",
      "00377950V\n",
      "36\n",
      "00377969V\n",
      "37\n",
      "00378353V\n",
      "38\n",
      "00379245V\n",
      "39\n",
      "00381292V\n",
      "40\n",
      "00381386V\n",
      "41\n",
      "00381877V\n",
      "42\n",
      "00382057V\n",
      "43\n",
      "00383410V\n",
      "44\n",
      "00384507V\n",
      "45\n",
      "00385168V\n",
      "46\n",
      "00386420V\n",
      "47\n",
      "00387179V\n",
      "48\n",
      "00389364V\n",
      "49\n",
      "00390956V\n",
      "50\n",
      "00391783V\n",
      "51\n",
      "00392585V\n",
      "52\n",
      "00392808V\n",
      "53\n",
      "00395179V\n",
      "54\n",
      "00396008V\n",
      "55\n",
      "00398059V\n",
      "56\n",
      "00401631V\n",
      "57\n",
      "00402016V\n",
      "58\n",
      "00402667V\n",
      "59\n",
      "00403152V\n",
      "60\n",
      "00404249V\n",
      "61\n",
      "00405707V\n",
      "62\n",
      "00406188V\n",
      "63\n",
      "00410499V\n",
      "64\n",
      "00413015V\n",
      "65\n",
      "00413729V\n",
      "66\n",
      "00416166V\n",
      "67\n",
      "00416195V\n",
      "68\n",
      "00416900V\n",
      "69\n",
      "00417472V\n",
      "70\n",
      "00418080V\n",
      "71\n",
      "00420664V\n",
      "72\n",
      "00421243V\n",
      "73\n",
      "00421271V\n",
      "74\n",
      "00422463V\n",
      "75\n",
      "00423995V\n",
      "76\n",
      "00424572V\n",
      "77\n",
      "00426343V\n",
      "78\n",
      "00426912V\n",
      "79\n",
      "00427190V\n",
      "80\n",
      "00428677V\n",
      "81\n",
      "00431809V\n",
      "82\n",
      "00432291V\n",
      "83\n",
      "00433798V\n",
      "84\n",
      "00434216V\n",
      "85\n",
      "00435155V\n",
      "86\n",
      "00435804V\n",
      "87\n",
      "00435838V\n",
      "88\n",
      "00436000V\n",
      "89\n",
      "00437764V\n",
      "90\n",
      "00437921V\n",
      "91\n",
      "00441509V\n",
      "92\n",
      "00443101V\n",
      "93\n",
      "00445109V\n",
      "94\n",
      "00446094V\n",
      "95\n",
      "00446229V\n",
      "96\n",
      "00446566V\n",
      "97\n",
      "00447177V\n",
      "98\n",
      "00447597V\n",
      "99\n",
      "00449344V\n",
      "100\n",
      "00450809V\n",
      "101\n",
      "00452370V\n"
     ]
    }
   ],
   "source": [
    "for index,ori_data_name in enumerate(ori_dcm_list):\n",
    "    print(index)\n",
    "    print(ori_data_name)\n",
    "    \n",
    "    os.rename(os.path.join(ori_data_path,f\"{index+1}.nii.gz\"),\n",
    "              os.path.join(ori_data_path,ori_data_name+\".nii.gz\"))\n",
    "    \n",
    "    # break"
   ],
   "metadata": {
    "collapsed": false,
    "ExecuteTime": {
     "end_time": "2024-01-23T15:37:58.998528Z",
     "start_time": "2024-01-23T15:37:58.989012Z"
    }
   },
   "execution_count": 15
  },
  {
   "cell_type": "code",
   "outputs": [],
   "source": [
    " "
   ],
   "metadata": {
    "collapsed": false
   }
  }
 ],
 "metadata": {
  "kernelspec": {
   "display_name": "cv",
   "language": "python",
   "name": "python3"
  },
  "language_info": {
   "codemirror_mode": {
    "name": "ipython",
    "version": 3
   },
   "file_extension": ".py",
   "mimetype": "text/x-python",
   "name": "python",
   "nbconvert_exporter": "python",
   "pygments_lexer": "ipython3",
   "version": "3.11.5"
  }
 },
 "nbformat": 4,
 "nbformat_minor": 2
}
