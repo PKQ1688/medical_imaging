{
 "cells": [
  {
   "cell_type": "code",
   "execution_count": 10,
   "metadata": {},
   "outputs": [],
   "source": [
    "import os\n",
    "dicom_list = sorted(os.listdir(\"data/ori_dcm/\"))\n",
    "roi_list = sorted(os.listdir(\"data/roi/\"))"
   ]
  },
  {
   "cell_type": "code",
   "execution_count": 13,
   "metadata": {},
   "outputs": [
    {
     "name": "stdout",
     "output_type": "stream",
     "text": [
      "step:0,dicom_dir:00306265V,example_nii_path:00306265_Merge.nii.gz,example_nii_path_v2:00306265V_Merge.nii.gz\n",
      "step:1,dicom_dir:00306635V,example_nii_path:00306635_Merge.nii.gz,example_nii_path_v2:00306635V_Merge.nii.gz\n"
     ]
    }
   ],
   "source": [
    "step = 0\n",
    "for dicom_dir in dicom_list:\n",
    "    # dicom_dir = example_nii_path.replace(\"_Merge.nii.gz\", \"\").replace(\"V\",\"\") + \"V\"\n",
    "    example_nii_path = dicom_dir.replace(\"V\", \"\") + \"_Merge.nii.gz\"\n",
    "    example_nii_path_v2 = dicom_dir + \"_Merge.nii.gz\"\n",
    "    if (example_nii_path not in roi_list) and (example_nii_path_v2 not in roi_list):\n",
    "        print(f\"step:{step},dicom_dir:{dicom_dir},example_nii_path:{example_nii_path},example_nii_path_v2:{example_nii_path_v2}\")\n",
    "        step += 1"
   ]
  },
  {
   "cell_type": "code",
   "execution_count": 8,
   "metadata": {},
   "outputs": [
    {
     "name": "stdout",
     "output_type": "stream",
     "text": [
      "2414\n",
      "2412\n"
     ]
    }
   ],
   "source": [
    "print(len(dicom_list))\n",
    "print(len(roi_list))\n"
   ]
  },
  {
   "cell_type": "code",
   "execution_count": null,
   "metadata": {},
   "outputs": [],
   "source": []
  }
 ],
 "metadata": {
  "kernelspec": {
   "display_name": "cv",
   "language": "python",
   "name": "python3"
  },
  "language_info": {
   "codemirror_mode": {
    "name": "ipython",
    "version": 3
   },
   "file_extension": ".py",
   "mimetype": "text/x-python",
   "name": "python",
   "nbconvert_exporter": "python",
   "pygments_lexer": "ipython3",
   "version": "3.11.5"
  }
 },
 "nbformat": 4,
 "nbformat_minor": 2
}
