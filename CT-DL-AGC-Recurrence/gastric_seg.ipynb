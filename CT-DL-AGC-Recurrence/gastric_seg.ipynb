{
 "cells": [
  {
   "cell_type": "code",
   "execution_count": 1,
   "metadata": {
    "ExecuteTime": {
     "end_time": "2023-12-16T15:36:56.866443Z",
     "start_time": "2023-12-16T15:36:54.032914Z"
    }
   },
   "outputs": [
    {
     "name": "stdout",
     "output_type": "stream",
     "text": [
      "MONAI version: 1.3.0\n",
      "Numpy version: 1.26.0\n",
      "Pytorch version: 2.1.1\n",
      "MONAI flags: HAS_EXT = False, USE_COMPILED = False, USE_META_DICT = False\n",
      "MONAI rev id: 865972f7a791bf7b42efbcd87c8402bd865b329e\n",
      "MONAI __file__: /Users/<username>/miniconda3/envs/cv/lib/python3.11/site-packages/monai/__init__.py\n",
      "\n",
      "Optional dependencies:\n",
      "Pytorch Ignite version: NOT INSTALLED or UNKNOWN VERSION.\n",
      "ITK version: NOT INSTALLED or UNKNOWN VERSION.\n",
      "Nibabel version: 5.1.0\n",
      "scikit-image version: 0.20.0\n",
      "scipy version: 1.10.1\n",
      "Pillow version: 10.1.0\n",
      "Tensorboard version: NOT INSTALLED or UNKNOWN VERSION.\n",
      "gdown version: NOT INSTALLED or UNKNOWN VERSION.\n",
      "TorchVision version: NOT INSTALLED or UNKNOWN VERSION.\n",
      "tqdm version: 4.66.1\n",
      "lmdb version: NOT INSTALLED or UNKNOWN VERSION.\n",
      "psutil version: 5.9.6\n",
      "pandas version: NOT INSTALLED or UNKNOWN VERSION.\n",
      "einops version: NOT INSTALLED or UNKNOWN VERSION.\n",
      "transformers version: NOT INSTALLED or UNKNOWN VERSION.\n",
      "mlflow version: NOT INSTALLED or UNKNOWN VERSION.\n",
      "pynrrd version: NOT INSTALLED or UNKNOWN VERSION.\n",
      "clearml version: NOT INSTALLED or UNKNOWN VERSION.\n",
      "\n",
      "For details about installing the optional dependencies, please visit:\n",
      "    https://docs.monai.io/en/latest/installation.html#installing-the-recommended-dependencies\n"
     ]
    }
   ],
   "source": [
    "import glob\n",
    "import os\n",
    "\n",
    "import matplotlib.pyplot as plt\n",
    "from monai.config import print_config\n",
    "from monai.data import DataLoader, Dataset\n",
    "from monai.transforms import (\n",
    "    EnsureChannelFirstd,\n",
    "    Compose,\n",
    "    CropForegroundd,\n",
    "    LoadImaged,\n",
    "    Orientationd,\n",
    "    RandCropByPosNegLabeld,\n",
    "    ScaleIntensityRanged,\n",
    "    Spacingd,\n",
    ")\n",
    "from monai.utils import first, set_determinism\n",
    "\n",
    "print_config()"
   ]
  },
  {
   "cell_type": "code",
   "execution_count": 90,
   "metadata": {
    "ExecuteTime": {
     "end_time": "2023-12-17T08:40:01.907936Z",
     "start_time": "2023-12-17T08:40:01.905256Z"
    }
   },
   "outputs": [],
   "source": [
    "data_dir = \"../data/data1207\"\n",
    "train_images = sorted(glob.glob(os.path.join(data_dir, \"origin_data\", \"*.nii.gz\")))\n",
    "train_labels = sorted(glob.glob(os.path.join(data_dir, \"roi_ras\", \"*.nii.gz\")))\n",
    "\n",
    "data_dicts = [{\"image\": image_name, \"label\": label_name} for image_name, label_name in zip(train_images, train_labels)]\n",
    "# print(len(data_dicts))\n",
    "train_files, val_files = data_dicts[:-20], data_dicts[-20:]"
   ]
  },
  {
   "cell_type": "code",
   "execution_count": 82,
   "outputs": [],
   "source": [
    "data_dir = \"../data/Task09_Spleen\"\n",
    "train_images = sorted(glob.glob(os.path.join(data_dir, \"imagesTr\", \"*.nii.gz\")))\n",
    "train_labels = sorted(glob.glob(os.path.join(data_dir, \"labelsTr\", \"*.nii.gz\")))\n",
    "data_dicts = [{\"image\": image_name, \"label\": label_name} for image_name, label_name in zip(train_images, train_labels)]\n",
    "train_files, val_files = data_dicts[:-9], data_dicts[-9:]"
   ],
   "metadata": {
    "collapsed": false,
    "ExecuteTime": {
     "end_time": "2023-12-17T08:38:48.633448Z",
     "start_time": "2023-12-17T08:38:48.628639Z"
    }
   }
  },
  {
   "cell_type": "code",
   "execution_count": 91,
   "metadata": {
    "ExecuteTime": {
     "end_time": "2023-12-17T08:40:06.656212Z",
     "start_time": "2023-12-17T08:40:06.653664Z"
    }
   },
   "outputs": [
    {
     "name": "stdout",
     "output_type": "stream",
     "text": [
      "[{'image': '../data/data1207/origin_data/00189740V.nii.gz', 'label': '../data/data1207/roi_ras/00189740_Merge.nii.gz'}, {'image': '../data/data1207/origin_data/00197027V.nii.gz', 'label': '../data/data1207/roi_ras/00197027_Merge.nii.gz'}, {'image': '../data/data1207/origin_data/00197876V.nii.gz', 'label': '../data/data1207/roi_ras/00197876_Merge.nii.gz'}, {'image': '../data/data1207/origin_data/00204535V.nii.gz', 'label': '../data/data1207/roi_ras/00204535_Merge.nii.gz'}, {'image': '../data/data1207/origin_data/00205328V.nii.gz', 'label': '../data/data1207/roi_ras/00205328_Merge.nii.gz'}, {'image': '../data/data1207/origin_data/00205567V.nii.gz', 'label': '../data/data1207/roi_ras/00205567_Merge.nii.gz'}, {'image': '../data/data1207/origin_data/00205740V.nii.gz', 'label': '../data/data1207/roi_ras/00205740_Merge.nii.gz'}, {'image': '../data/data1207/origin_data/00205831V.nii.gz', 'label': '../data/data1207/roi_ras/00205831_Merge.nii.gz'}, {'image': '../data/data1207/origin_data/00205851V.nii.gz', 'label': '../data/data1207/roi_ras/00205851_Merge.nii.gz'}, {'image': '../data/data1207/origin_data/00205963V.nii.gz', 'label': '../data/data1207/roi_ras/00205963_Merge.nii.gz'}, {'image': '../data/data1207/origin_data/00206681V.nii.gz', 'label': '../data/data1207/roi_ras/00206681_Merge.nii.gz'}, {'image': '../data/data1207/origin_data/00207893V.nii.gz', 'label': '../data/data1207/roi_ras/00207893_Merge.nii.gz'}, {'image': '../data/data1207/origin_data/00208051V.nii.gz', 'label': '../data/data1207/roi_ras/00208051_Merge.nii.gz'}, {'image': '../data/data1207/origin_data/00208155V.nii.gz', 'label': '../data/data1207/roi_ras/00208155_Merge.nii.gz'}, {'image': '../data/data1207/origin_data/00208294V.nii.gz', 'label': '../data/data1207/roi_ras/00208294_Merge.nii.gz'}, {'image': '../data/data1207/origin_data/00209357V.nii.gz', 'label': '../data/data1207/roi_ras/00209357_Merge.nii.gz'}, {'image': '../data/data1207/origin_data/00209423V.nii.gz', 'label': '../data/data1207/roi_ras/00209423_Merge.nii.gz'}, {'image': '../data/data1207/origin_data/00209678V.nii.gz', 'label': '../data/data1207/roi_ras/00209678_Merge.nii.gz'}, {'image': '../data/data1207/origin_data/00210162V.nii.gz', 'label': '../data/data1207/roi_ras/00210162_Merge.nii.gz'}, {'image': '../data/data1207/origin_data/00211872V.nii.gz', 'label': '../data/data1207/roi_ras/00211872_Merge.nii.gz'}, {'image': '../data/data1207/origin_data/00215811V.nii.gz', 'label': '../data/data1207/roi_ras/00215811_Merge.nii.gz'}, {'image': '../data/data1207/origin_data/00216494V.nii.gz', 'label': '../data/data1207/roi_ras/00216494_Merge.nii.gz'}, {'image': '../data/data1207/origin_data/00216648V.nii.gz', 'label': '../data/data1207/roi_ras/00216648_Merge.nii.gz'}, {'image': '../data/data1207/origin_data/00217075V.nii.gz', 'label': '../data/data1207/roi_ras/00217075_Merge.nii.gz'}, {'image': '../data/data1207/origin_data/00217640V.nii.gz', 'label': '../data/data1207/roi_ras/00217640_Merge.nii.gz'}, {'image': '../data/data1207/origin_data/00218237V.nii.gz', 'label': '../data/data1207/roi_ras/00218237_Merge.nii.gz'}, {'image': '../data/data1207/origin_data/00219311V.nii.gz', 'label': '../data/data1207/roi_ras/00219311_Merge.nii.gz'}, {'image': '../data/data1207/origin_data/00220052V.nii.gz', 'label': '../data/data1207/roi_ras/00220052_Merge.nii.gz'}, {'image': '../data/data1207/origin_data/00220694V.nii.gz', 'label': '../data/data1207/roi_ras/00220694_Merge.nii.gz'}, {'image': '../data/data1207/origin_data/00221010V.nii.gz', 'label': '../data/data1207/roi_ras/00221010_Merge.nii.gz'}, {'image': '../data/data1207/origin_data/00221025V.nii.gz', 'label': '../data/data1207/roi_ras/00221025_Merge.nii.gz'}, {'image': '../data/data1207/origin_data/00221235V.nii.gz', 'label': '../data/data1207/roi_ras/00221235_Merge.nii.gz'}, {'image': '../data/data1207/origin_data/00222567V.nii.gz', 'label': '../data/data1207/roi_ras/00222567_Merge.nii.gz'}, {'image': '../data/data1207/origin_data/00223234V.nii.gz', 'label': '../data/data1207/roi_ras/00223234_Merge.nii.gz'}, {'image': '../data/data1207/origin_data/00223544V.nii.gz', 'label': '../data/data1207/roi_ras/00223544_Merge.nii.gz'}, {'image': '../data/data1207/origin_data/00224778V.nii.gz', 'label': '../data/data1207/roi_ras/00224778_Merge.nii.gz'}, {'image': '../data/data1207/origin_data/00225100V.nii.gz', 'label': '../data/data1207/roi_ras/00225100_Merge.nii.gz'}, {'image': '../data/data1207/origin_data/00226630V.nii.gz', 'label': '../data/data1207/roi_ras/00226630_Merge.nii.gz'}, {'image': '../data/data1207/origin_data/00226642V.nii.gz', 'label': '../data/data1207/roi_ras/00226642_Merge.nii.gz'}, {'image': '../data/data1207/origin_data/00227683V.nii.gz', 'label': '../data/data1207/roi_ras/00227683_Merge.nii.gz'}, {'image': '../data/data1207/origin_data/00227686V.nii.gz', 'label': '../data/data1207/roi_ras/00227686_Merge.nii.gz'}, {'image': '../data/data1207/origin_data/00228097V.nii.gz', 'label': '../data/data1207/roi_ras/00228097_Merge.nii.gz'}, {'image': '../data/data1207/origin_data/00228708V.nii.gz', 'label': '../data/data1207/roi_ras/00228708_Merge.nii.gz'}, {'image': '../data/data1207/origin_data/00228811V.nii.gz', 'label': '../data/data1207/roi_ras/00228811_Merge.nii.gz'}, {'image': '../data/data1207/origin_data/00229899V.nii.gz', 'label': '../data/data1207/roi_ras/00229899_Merge.nii.gz'}, {'image': '../data/data1207/origin_data/00231164V.nii.gz', 'label': '../data/data1207/roi_ras/00231164_Merge.nii.gz'}, {'image': '../data/data1207/origin_data/00231852V.nii.gz', 'label': '../data/data1207/roi_ras/00231852_Merge.nii.gz'}, {'image': '../data/data1207/origin_data/00232336V.nii.gz', 'label': '../data/data1207/roi_ras/00232336_Merge.nii.gz'}, {'image': '../data/data1207/origin_data/00232926V.nii.gz', 'label': '../data/data1207/roi_ras/00232926_Merge.nii.gz'}, {'image': '../data/data1207/origin_data/00233043V.nii.gz', 'label': '../data/data1207/roi_ras/00233043_Merge.nii.gz'}, {'image': '../data/data1207/origin_data/00233390V.nii.gz', 'label': '../data/data1207/roi_ras/00233390_Merge.nii.gz'}, {'image': '../data/data1207/origin_data/00238287V.nii.gz', 'label': '../data/data1207/roi_ras/00238287_Merge.nii.gz'}, {'image': '../data/data1207/origin_data/00238739V.nii.gz', 'label': '../data/data1207/roi_ras/00238739_Merge.nii.gz'}, {'image': '../data/data1207/origin_data/00239114V.nii.gz', 'label': '../data/data1207/roi_ras/00239114_Merge.nii.gz'}, {'image': '../data/data1207/origin_data/00240930V.nii.gz', 'label': '../data/data1207/roi_ras/00240930_Merge.nii.gz'}, {'image': '../data/data1207/origin_data/00241107V.nii.gz', 'label': '../data/data1207/roi_ras/00241107_Merge.nii.gz'}, {'image': '../data/data1207/origin_data/00242224V.nii.gz', 'label': '../data/data1207/roi_ras/00242224_Merge.nii.gz'}, {'image': '../data/data1207/origin_data/00242770V.nii.gz', 'label': '../data/data1207/roi_ras/00242770_Merge.nii.gz'}, {'image': '../data/data1207/origin_data/00243133V.nii.gz', 'label': '../data/data1207/roi_ras/00243133_Merge.nii.gz'}, {'image': '../data/data1207/origin_data/00243271V.nii.gz', 'label': '../data/data1207/roi_ras/00243271_Merge.nii.gz'}, {'image': '../data/data1207/origin_data/00243340V.nii.gz', 'label': '../data/data1207/roi_ras/00243340_Merge.nii.gz'}, {'image': '../data/data1207/origin_data/00244577V.nii.gz', 'label': '../data/data1207/roi_ras/00244577_Merge.nii.gz'}, {'image': '../data/data1207/origin_data/00245203V.nii.gz', 'label': '../data/data1207/roi_ras/00245203_Merge.nii.gz'}, {'image': '../data/data1207/origin_data/00246336V.nii.gz', 'label': '../data/data1207/roi_ras/00246336_Merge.nii.gz'}, {'image': '../data/data1207/origin_data/00249493V.nii.gz', 'label': '../data/data1207/roi_ras/00249493_Merge.nii.gz'}, {'image': '../data/data1207/origin_data/00251188V.nii.gz', 'label': '../data/data1207/roi_ras/00251188_Merge.nii.gz'}, {'image': '../data/data1207/origin_data/00251723V.nii.gz', 'label': '../data/data1207/roi_ras/00251723_Merge.nii.gz'}, {'image': '../data/data1207/origin_data/00252600V.nii.gz', 'label': '../data/data1207/roi_ras/00252600_Merge.nii.gz'}, {'image': '../data/data1207/origin_data/00253349V.nii.gz', 'label': '../data/data1207/roi_ras/00253349_Merge.nii.gz'}, {'image': '../data/data1207/origin_data/00253666V.nii.gz', 'label': '../data/data1207/roi_ras/00253666_Merge.nii.gz'}, {'image': '../data/data1207/origin_data/00255490V.nii.gz', 'label': '../data/data1207/roi_ras/00255490_Merge.nii.gz'}, {'image': '../data/data1207/origin_data/00257623V.nii.gz', 'label': '../data/data1207/roi_ras/00257623_Merge.nii.gz'}, {'image': '../data/data1207/origin_data/00260142V.nii.gz', 'label': '../data/data1207/roi_ras/00260142_Merge.nii.gz'}, {'image': '../data/data1207/origin_data/00260179V.nii.gz', 'label': '../data/data1207/roi_ras/00260179_Merge.nii.gz'}, {'image': '../data/data1207/origin_data/00263937V.nii.gz', 'label': '../data/data1207/roi_ras/00263937_Merge.nii.gz'}, {'image': '../data/data1207/origin_data/00268749V.nii.gz', 'label': '../data/data1207/roi_ras/00268749_Merge.nii.gz'}, {'image': '../data/data1207/origin_data/00269386V.nii.gz', 'label': '../data/data1207/roi_ras/00269386_Merge.nii.gz'}, {'image': '../data/data1207/origin_data/00276678V.nii.gz', 'label': '../data/data1207/roi_ras/00276678_Merge.nii.gz'}, {'image': '../data/data1207/origin_data/00283060V.nii.gz', 'label': '../data/data1207/roi_ras/00283060_Merge.nii.gz'}, {'image': '../data/data1207/origin_data/00285218V.nii.gz', 'label': '../data/data1207/roi_ras/00285218_Merge.nii.gz'}, {'image': '../data/data1207/origin_data/00286040V.nii.gz', 'label': '../data/data1207/roi_ras/00286040_Merge.nii.gz'}, {'image': '../data/data1207/origin_data/00288059V.nii.gz', 'label': '../data/data1207/roi_ras/00288059_Merge.nii.gz'}, {'image': '../data/data1207/origin_data/00289681V.nii.gz', 'label': '../data/data1207/roi_ras/00289681_Merge.nii.gz'}, {'image': '../data/data1207/origin_data/00301430V.nii.gz', 'label': '../data/data1207/roi_ras/00301430_Merge.nii.gz'}, {'image': '../data/data1207/origin_data/00305677V.nii.gz', 'label': '../data/data1207/roi_ras/00305677_Merge.nii.gz'}, {'image': '../data/data1207/origin_data/00311105V.nii.gz', 'label': '../data/data1207/roi_ras/00311105_Merge.nii.gz'}, {'image': '../data/data1207/origin_data/00318806V.nii.gz', 'label': '../data/data1207/roi_ras/00318806_Merge.nii.gz'}, {'image': '../data/data1207/origin_data/00319274V.nii.gz', 'label': '../data/data1207/roi_ras/00319274_Merge.nii.gz'}, {'image': '../data/data1207/origin_data/00322517V.nii.gz', 'label': '../data/data1207/roi_ras/00322517_Merge.nii.gz'}, {'image': '../data/data1207/origin_data/00325291V.nii.gz', 'label': '../data/data1207/roi_ras/00325291_Merge.nii.gz'}, {'image': '../data/data1207/origin_data/00329496V.nii.gz', 'label': '../data/data1207/roi_ras/00329496_Merge.nii.gz'}, {'image': '../data/data1207/origin_data/00330062V.nii.gz', 'label': '../data/data1207/roi_ras/00330062_Merge.nii.gz'}, {'image': '../data/data1207/origin_data/00332346V.nii.gz', 'label': '../data/data1207/roi_ras/00332346_Merge.nii.gz'}, {'image': '../data/data1207/origin_data/00332913V.nii.gz', 'label': '../data/data1207/roi_ras/00332913_Merge.nii.gz'}, {'image': '../data/data1207/origin_data/00333425V.nii.gz', 'label': '../data/data1207/roi_ras/00333425_Merge.nii.gz'}, {'image': '../data/data1207/origin_data/00337059V.nii.gz', 'label': '../data/data1207/roi_ras/00337059_Merge.nii.gz'}, {'image': '../data/data1207/origin_data/00348858V.nii.gz', 'label': '../data/data1207/roi_ras/00348858_Merge.nii.gz'}, {'image': '../data/data1207/origin_data/00350139V.nii.gz', 'label': '../data/data1207/roi_ras/00350139_Merge.nii.gz'}, {'image': '../data/data1207/origin_data/00359027V.nii.gz', 'label': '../data/data1207/roi_ras/00359027_Merge.nii.gz'}, {'image': '../data/data1207/origin_data/00359276V.nii.gz', 'label': '../data/data1207/roi_ras/00359276_Merge.nii.gz'}]\n"
     ]
    }
   ],
   "source": [
    "set_determinism(seed=0)\n",
    "print(train_files)"
   ]
  },
  {
   "cell_type": "code",
   "execution_count": 92,
   "outputs": [],
   "source": [
    "val_transforms = Compose(\n",
    "    [\n",
    "        LoadImaged(keys=[\"image\", \"label\"]),\n",
    "        EnsureChannelFirstd(keys=[\"image\", \"label\"]),\n",
    "        ScaleIntensityRanged(\n",
    "            keys=[\"image\"],\n",
    "            a_min=-57,\n",
    "            a_max=164,\n",
    "            b_min=0.0,\n",
    "            b_max=1.0,\n",
    "            clip=True,\n",
    "        ),\n",
    "        # CropForegroundd(keys=[\"image\", \"label\"], source_key=\"image\"),\n",
    "        Orientationd(keys=[\"image\",\"label\"],axcodes=\"RAS\"),\n",
    "        # Orientationd(keys=[\"image\", \"label\"], as_closest_canonical=True),\n",
    "        # Spacingd(keys=[\"image\", \"label\"], pixdim=(1.5, 1.5, 2.0), mode=(\"bilinear\", \"nearest\")),\n",
    "        # RandCropByPosNegLabeld(\n",
    "        #     keys=[\"image\", \"label\"],\n",
    "        #     label_key=\"label\",\n",
    "        #     spatial_size=(96, 96, 96),\n",
    "        #     pos=1,\n",
    "        #     neg=1,\n",
    "        #     num_samples=4,\n",
    "        #     image_key=\"image\",\n",
    "        #     image_threshold=0,\n",
    "        # ),\n",
    "    ]\n",
    ")"
   ],
   "metadata": {
    "collapsed": false,
    "ExecuteTime": {
     "end_time": "2023-12-17T08:40:07.444520Z",
     "start_time": "2023-12-17T08:40:07.439200Z"
    }
   }
  },
  {
   "cell_type": "code",
   "execution_count": 93,
   "metadata": {
    "ExecuteTime": {
     "end_time": "2023-12-17T08:40:08.328166Z",
     "start_time": "2023-12-17T08:40:07.980907Z"
    }
   },
   "outputs": [
    {
     "name": "stdout",
     "output_type": "stream",
     "text": [
      "<monai.data.dataloader.DataLoader object at 0x2b0892690>\n",
      "torch.Size([1, 1, 512, 512, 34])\n",
      "torch.Size([1, 1, 512, 512, 34])\n",
      "image shape: torch.Size([512, 512, 34]), label shape: torch.Size([512, 512, 34])\n"
     ]
    },
    {
     "ename": "IndexError",
     "evalue": "index 80 is out of bounds for dimension 2 with size 34",
     "output_type": "error",
     "traceback": [
      "\u001B[0;31m---------------------------------------------------------------------------\u001B[0m",
      "\u001B[0;31mIndexError\u001B[0m                                Traceback (most recent call last)",
      "Cell \u001B[0;32mIn[93], line 13\u001B[0m\n\u001B[1;32m     11\u001B[0m plt\u001B[38;5;241m.\u001B[39msubplot(\u001B[38;5;241m1\u001B[39m, \u001B[38;5;241m2\u001B[39m, \u001B[38;5;241m1\u001B[39m)\n\u001B[1;32m     12\u001B[0m plt\u001B[38;5;241m.\u001B[39mtitle(\u001B[38;5;124m\"\u001B[39m\u001B[38;5;124mimage\u001B[39m\u001B[38;5;124m\"\u001B[39m)\n\u001B[0;32m---> 13\u001B[0m plt\u001B[38;5;241m.\u001B[39mimshow(\u001B[43mimage\u001B[49m\u001B[43m[\u001B[49m\u001B[43m:\u001B[49m\u001B[43m,\u001B[49m\u001B[43m \u001B[49m\u001B[43m:\u001B[49m\u001B[43m,\u001B[49m\u001B[43m \u001B[49m\u001B[38;5;241;43m80\u001B[39;49m\u001B[43m]\u001B[49m, cmap\u001B[38;5;241m=\u001B[39m\u001B[38;5;124m\"\u001B[39m\u001B[38;5;124mgray\u001B[39m\u001B[38;5;124m\"\u001B[39m)\n\u001B[1;32m     14\u001B[0m plt\u001B[38;5;241m.\u001B[39msubplot(\u001B[38;5;241m1\u001B[39m, \u001B[38;5;241m2\u001B[39m, \u001B[38;5;241m2\u001B[39m)\n\u001B[1;32m     15\u001B[0m plt\u001B[38;5;241m.\u001B[39mtitle(\u001B[38;5;124m\"\u001B[39m\u001B[38;5;124mlabel\u001B[39m\u001B[38;5;124m\"\u001B[39m)\n",
      "File \u001B[0;32m~/miniconda3/envs/cv/lib/python3.11/site-packages/monai/data/meta_tensor.py:282\u001B[0m, in \u001B[0;36mMetaTensor.__torch_function__\u001B[0;34m(cls, func, types, args, kwargs)\u001B[0m\n\u001B[1;32m    280\u001B[0m \u001B[38;5;28;01mif\u001B[39;00m kwargs \u001B[38;5;129;01mis\u001B[39;00m \u001B[38;5;28;01mNone\u001B[39;00m:\n\u001B[1;32m    281\u001B[0m     kwargs \u001B[38;5;241m=\u001B[39m {}\n\u001B[0;32m--> 282\u001B[0m ret \u001B[38;5;241m=\u001B[39m \u001B[38;5;28;43msuper\u001B[39;49m\u001B[43m(\u001B[49m\u001B[43m)\u001B[49m\u001B[38;5;241;43m.\u001B[39;49m\u001B[43m__torch_function__\u001B[49m\u001B[43m(\u001B[49m\u001B[43mfunc\u001B[49m\u001B[43m,\u001B[49m\u001B[43m \u001B[49m\u001B[43mtypes\u001B[49m\u001B[43m,\u001B[49m\u001B[43m \u001B[49m\u001B[43margs\u001B[49m\u001B[43m,\u001B[49m\u001B[43m \u001B[49m\u001B[43mkwargs\u001B[49m\u001B[43m)\u001B[49m\n\u001B[1;32m    283\u001B[0m \u001B[38;5;66;03m# if `out` has been used as argument, metadata is not copied, nothing to do.\u001B[39;00m\n\u001B[1;32m    284\u001B[0m \u001B[38;5;66;03m# if \"out\" in kwargs:\u001B[39;00m\n\u001B[1;32m    285\u001B[0m \u001B[38;5;66;03m#     return ret\u001B[39;00m\n\u001B[1;32m    286\u001B[0m \u001B[38;5;28;01mif\u001B[39;00m _not_requiring_metadata(ret):\n",
      "File \u001B[0;32m~/miniconda3/envs/cv/lib/python3.11/site-packages/torch/_tensor.py:1386\u001B[0m, in \u001B[0;36mTensor.__torch_function__\u001B[0;34m(cls, func, types, args, kwargs)\u001B[0m\n\u001B[1;32m   1383\u001B[0m     \u001B[38;5;28;01mreturn\u001B[39;00m \u001B[38;5;28mNotImplemented\u001B[39m\n\u001B[1;32m   1385\u001B[0m \u001B[38;5;28;01mwith\u001B[39;00m _C\u001B[38;5;241m.\u001B[39mDisableTorchFunctionSubclass():\n\u001B[0;32m-> 1386\u001B[0m     ret \u001B[38;5;241m=\u001B[39m \u001B[43mfunc\u001B[49m\u001B[43m(\u001B[49m\u001B[38;5;241;43m*\u001B[39;49m\u001B[43margs\u001B[49m\u001B[43m,\u001B[49m\u001B[43m \u001B[49m\u001B[38;5;241;43m*\u001B[39;49m\u001B[38;5;241;43m*\u001B[39;49m\u001B[43mkwargs\u001B[49m\u001B[43m)\u001B[49m\n\u001B[1;32m   1387\u001B[0m     \u001B[38;5;28;01mif\u001B[39;00m func \u001B[38;5;129;01min\u001B[39;00m get_default_nowrap_functions():\n\u001B[1;32m   1388\u001B[0m         \u001B[38;5;28;01mreturn\u001B[39;00m ret\n",
      "\u001B[0;31mIndexError\u001B[0m: index 80 is out of bounds for dimension 2 with size 34"
     ]
    },
    {
     "data": {
      "text/plain": "<Figure size 1200x600 with 1 Axes>",
      "image/png": "[encoded data removed]"
     },
     "metadata": {},
     "output_type": "display_data"
    }
   ],
   "source": [
    "check_ds = Dataset(data=val_files, transform=val_transforms)\n",
    "check_loader = DataLoader(check_ds, batch_size=1)\n",
    "check_data = first(check_loader)\n",
    "print(check_loader)\n",
    "print(check_data[\"image\"].shape)\n",
    "print(check_data[\"label\"].shape)\n",
    "image, label = (check_data[\"image\"][0][0], check_data[\"label\"][0][0])\n",
    "print(f\"image shape: {image.shape}, label shape: {label.shape}\")\n",
    "# plot the slice [:, :, 80]\n",
    "plt.figure(\"check\", (12, 6))\n",
    "plt.subplot(1, 2, 1)\n",
    "plt.title(\"image\")\n",
    "plt.imshow(image[:, :, 80], cmap=\"gray\")\n",
    "plt.subplot(1, 2, 2)\n",
    "plt.title(\"label\")\n",
    "plt.imshow(label[:, :, 80])\n",
    "plt.show()"
   ]
  },
  {
   "cell_type": "code",
   "execution_count": null,
   "outputs": [],
   "source": [],
   "metadata": {
    "collapsed": false
   }
  }
 ],
 "metadata": {
  "kernelspec": {
   "display_name": "cv",
   "language": "python",
   "name": "python3"
  },
  "language_info": {
   "codemirror_mode": {
    "name": "ipython",
    "version": 3
   },
   "file_extension": ".py",
   "mimetype": "text/x-python",
   "name": "python",
   "nbconvert_exporter": "python",
   "pygments_lexer": "ipython3",
   "version": "3.11.5"
  }
 },
 "nbformat": 4,
 "nbformat_minor": 2
}
