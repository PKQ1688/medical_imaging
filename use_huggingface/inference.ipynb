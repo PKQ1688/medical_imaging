{
 "cells": [
  {
   "cell_type": "code",
   "execution_count": 1,
   "metadata": {},
   "outputs": [],
   "source": [
    "import torch\n",
    "import pandas as pd\n",
    "from transformers import SegformerImageProcessor, SegformerForSemanticSegmentation\n",
    "from PIL import Image\n",
    "import os\n",
    "import torch.nn.functional as F\n",
    "from tqdm import tqdm\n",
    "from sklearn.metrics import accuracy_score, precision_score, recall_score, f1_score\n",
    "from collections import Counter\n",
    "from transformers import MaskFormerFeatureExtractor,MaskFormerForInstanceSegmentation\n"
   ]
  },
  {
   "cell_type": "code",
   "execution_count": 2,
   "metadata": {},
   "outputs": [
    {
     "name": "stderr",
     "output_type": "stream",
     "text": [
      "/root/miniconda3/lib/python3.10/site-packages/transformers/models/maskformer/feature_extraction_maskformer.py:28: FutureWarning: The class MaskFormerFeatureExtractor is deprecated and will be removed in version 5 of Transformers. Please use MaskFormerImageProcessor instead.\n",
      "  warnings.warn(\n",
      "Backbone maskformer-swin is not a supported model and may not be compatible with MaskFormer. Supported model types: resnet,swin\n"
     ]
    }
   ],
   "source": [
    "device = torch.device(\"cuda\" if torch.cuda.is_available() else \"cpu\")\n",
    "model_name = \"use_huggingface/final_checkpoint\"\n",
    "# feature_extractor = SegformerImageProcessor.from_pretrained(model_name)\n",
    "# model = SegformerForSemanticSegmentation.from_pretrained(model_name).to(device)\n",
    "\n",
    "feature_extractor = MaskFormerFeatureExtractor.from_pretrained(model_name)\n",
    "# inputs = feature_extractor(images=image, return_tensors=\"pt\")\n",
    "model = MaskFormerForInstanceSegmentation.from_pretrained(model_name).to(device)\n",
    "\n",
    "label_df = pd.read_csv(\"test_label.csv\")\n"
   ]
  },
  {
   "cell_type": "code",
   "execution_count": 3,
   "metadata": {},
   "outputs": [],
   "source": [
    "def find_mode(lst):\n",
    "    counter = Counter(lst)\n",
    "    max_count = max(counter.values())\n",
    "    mode_values = [item for item, count in counter.items() if count == max_count]\n",
    "    return mode_values"
   ]
  },
  {
   "cell_type": "code",
   "execution_count": 4,
   "metadata": {},
   "outputs": [],
   "source": [
    "def get_pred(img_paths):\n",
    "    images = [Image.open(img_path) for img_path in img_paths]\n",
    "    # print(len(images[0].getbands()))\n",
    "\n",
    "    batch_size = 4\n",
    "    results = {\"max0_1\":0,\"max0_2\":0,\"max0_3\":0,\"max1_1\":0,\"max1_2\":0,\"max1_3\":0}\n",
    "\n",
    "    # for i in tqdm(range(0, len(images), batch_size),total=int(len(images)//batch_size)):\n",
    "    for i in range(0, len(images), batch_size):\n",
    "        batch_paths = images[i:i+batch_size]\n",
    "        # images[0].show()\n",
    "        inputs = feature_extractor(images=batch_paths, return_tensors=\"pt\").to(device)\n",
    "        outputs = model(**inputs)\n",
    "        # logits = outputs.logits\n",
    "        target_sizes = [(image.size[0], image.size[1]) for image in batch_paths]\n",
    "\n",
    "        pred_segs = feature_extractor.post_process_semantic_segmentation(outputs,target_sizes=target_sizes)\n",
    "\n",
    "        # upsampled_logits = F.interpolate(\n",
    "        #     logits,\n",
    "        #     size=images[0].size[::-1],  # Assuming all images are of the same size\n",
    "        #     mode='bilinear',\n",
    "        #     align_corners=False\n",
    "        # )\n",
    "\n",
    "        # pred_segs = upsampled_logits.argmax(dim=1)\n",
    "        # break\n",
    "        for pred_seg in pred_segs:\n",
    "            flat_tensor = pred_seg.view(-1)\n",
    "            \n",
    "            # Count the occurrences of each class\n",
    "            unique, counts = torch.unique(flat_tensor, return_counts=True)\n",
    "            counts_dict = dict(zip(unique.cpu().numpy(), counts.cpu().numpy()))\n",
    "            \n",
    "            # Get the counts of classes 0, 1, and 2\n",
    "            zeros = counts_dict.get(0, 0)\n",
    "            ones = counts_dict.get(1, 0)\n",
    "            twos = counts_dict.get(2, 0)\n",
    "            # print(counts_dict)\n",
    "            \n",
    "            # Determine the result based on counts of classes 1 and 2\n",
    "            # if ones > 0 or twos > 0:\n",
    "            #     if ones > twos:\n",
    "            #         results.append(0)\n",
    "            #     else:\n",
    "            #         results.append(1)\n",
    "            if ones > results[\"max0_1\"]:\n",
    "                results[\"max0_3\"] = results[\"max0_2\"]\n",
    "                results[\"max0_2\"] = results[\"max0_1\"]\n",
    "                results[\"max0_1\"] = ones\n",
    "            elif ones > results[\"max0_2\"] and ones != results[\"max0_1\"]:\n",
    "                results[\"max0_3\"] = results[\"max0_2\"]\n",
    "                results[\"max0_2\"] = ones\n",
    "            elif ones > results[\"max0_3\"] and ones != results[\"max0_1\"] and ones != results[\"max0_2\"]:\n",
    "                results[\"max0_3\"] = ones\n",
    "\n",
    "            if twos > results[\"max1_1\"]:\n",
    "                results[\"max1_3\"] = results[\"max1_2\"]\n",
    "                results[\"max1_2\"] = results[\"max1_1\"]\n",
    "                results[\"max1_1\"] = twos\n",
    "            elif twos > results[\"max1_2\"] and twos != results[\"max1_1\"]:\n",
    "                results[\"max1_3\"] = results[\"max1_2\"]\n",
    "                results[\"max1_2\"] = twos\n",
    "            elif twos > results[\"max1_3\"] and twos != results[\"max1_1\"] and twos != results[\"max1_2\"]:\n",
    "                results[\"max1_3\"] = twos\n",
    "        # break\n",
    "    return results"
   ]
  },
  {
   "cell_type": "code",
   "execution_count": 6,
   "metadata": {},
   "outputs": [
    {
     "name": "stdout",
     "output_type": "stream",
     "text": [
      "3\n"
     ]
    },
    {
     "name": "stderr",
     "output_type": "stream",
     "text": [
      "  0%|          | 0/17 [00:00<?, ?it/s]"
     ]
    },
    {
     "name": "stderr",
     "output_type": "stream",
     "text": [
      "  6%|▌         | 1/17 [00:00<00:04,  3.59it/s]"
     ]
    },
    {
     "name": "stdout",
     "output_type": "stream",
     "text": [
      "{0: 262144}\n",
      "{0: 261973, 2: 171}\n",
      "{0: 262144}\n",
      "{0: 261594, 1: 550}\n"
     ]
    },
    {
     "name": "stderr",
     "output_type": "stream",
     "text": [
      " 12%|█▏        | 2/17 [00:00<00:03,  3.94it/s]"
     ]
    },
    {
     "name": "stdout",
     "output_type": "stream",
     "text": [
      "{0: 261168, 1: 669, 2: 307}\n",
      "{0: 261736, 1: 402, 2: 6}\n",
      "{0: 261267, 1: 179, 2: 698}\n",
      "{0: 261709, 1: 435}\n"
     ]
    },
    {
     "name": "stderr",
     "output_type": "stream",
     "text": [
      " 18%|█▊        | 3/17 [00:00<00:03,  4.13it/s]"
     ]
    },
    {
     "name": "stdout",
     "output_type": "stream",
     "text": [
      "{0: 260693, 1: 1238, 2: 213}\n",
      "{0: 261801, 1: 341, 2: 2}\n",
      "{0: 260794, 1: 102, 2: 1248}\n",
      "{0: 262123, 1: 5, 2: 16}\n"
     ]
    },
    {
     "name": "stderr",
     "output_type": "stream",
     "text": [
      " 24%|██▎       | 4/17 [00:00<00:03,  4.23it/s]"
     ]
    },
    {
     "name": "stdout",
     "output_type": "stream",
     "text": [
      "{0: 258019, 1: 3464, 2: 661}\n",
      "{0: 260745, 1: 1393, 2: 6}\n",
      "{0: 259870, 1: 695, 2: 1579}\n",
      "{0: 261068, 1: 1043, 2: 33}\n"
     ]
    },
    {
     "name": "stderr",
     "output_type": "stream",
     "text": [
      " 29%|██▉       | 5/17 [00:01<00:02,  4.24it/s]"
     ]
    },
    {
     "name": "stdout",
     "output_type": "stream",
     "text": [
      "{0: 261379, 1: 765}\n",
      "{0: 261655, 1: 489}\n",
      "{0: 261713, 1: 430, 2: 1}\n",
      "{0: 262144}\n"
     ]
    },
    {
     "name": "stderr",
     "output_type": "stream",
     "text": [
      " 35%|███▌      | 6/17 [00:01<00:02,  4.22it/s]"
     ]
    },
    {
     "name": "stdout",
     "output_type": "stream",
     "text": [
      "{0: 261479, 1: 659, 2: 6}\n",
      "{0: 261114, 1: 1027, 2: 3}\n",
      "{0: 261653, 1: 481, 2: 10}\n",
      "{0: 262019, 1: 125}\n"
     ]
    },
    {
     "name": "stderr",
     "output_type": "stream",
     "text": [
      " 41%|████      | 7/17 [00:01<00:02,  4.29it/s]"
     ]
    },
    {
     "name": "stdout",
     "output_type": "stream",
     "text": [
      "{0: 261255, 1: 672, 2: 217}\n",
      "{0: 261616, 1: 476, 2: 52}\n",
      "{0: 260663, 1: 1226, 2: 255}\n",
      "{0: 260621, 1: 964, 2: 559}\n"
     ]
    },
    {
     "name": "stderr",
     "output_type": "stream",
     "text": [
      " 47%|████▋     | 8/17 [00:01<00:02,  4.33it/s]"
     ]
    },
    {
     "name": "stdout",
     "output_type": "stream",
     "text": [
      "{0: 260977, 1: 1143, 2: 24}\n",
      "{0: 259149, 1: 2165, 2: 830}\n",
      "{0: 262144}\n",
      "{0: 259777, 1: 1757, 2: 610}\n"
     ]
    },
    {
     "name": "stderr",
     "output_type": "stream",
     "text": [
      " 53%|█████▎    | 9/17 [00:02<00:01,  4.36it/s]"
     ]
    },
    {
     "name": "stdout",
     "output_type": "stream",
     "text": [
      "{0: 261719, 1: 239, 2: 186}\n",
      "{0: 260832, 1: 1173, 2: 139}\n",
      "{0: 260305, 1: 1641, 2: 198}\n",
      "{0: 261762, 1: 189, 2: 193}\n"
     ]
    },
    {
     "name": "stderr",
     "output_type": "stream",
     "text": [
      " 59%|█████▉    | 10/17 [00:02<00:01,  4.38it/s]"
     ]
    },
    {
     "name": "stdout",
     "output_type": "stream",
     "text": [
      "{0: 260499, 1: 1531, 2: 114}\n",
      "{0: 260696, 1: 1297, 2: 151}\n",
      "{0: 260226, 1: 1696, 2: 222}\n",
      "{0: 256620, 1: 3013, 2: 2511}\n"
     ]
    },
    {
     "name": "stderr",
     "output_type": "stream",
     "text": [
      " 65%|██████▍   | 11/17 [00:02<00:01,  4.38it/s]"
     ]
    },
    {
     "name": "stdout",
     "output_type": "stream",
     "text": [
      "{0: 256488, 1: 3261, 2: 2395}\n",
      "{0: 262004, 1: 140}\n",
      "{0: 256938, 1: 3012, 2: 2194}\n",
      "{0: 257478, 1: 3065, 2: 1601}\n"
     ]
    },
    {
     "name": "stderr",
     "output_type": "stream",
     "text": [
      " 71%|███████   | 12/17 [00:02<00:01,  4.39it/s]"
     ]
    },
    {
     "name": "stdout",
     "output_type": "stream",
     "text": [
      "{0: 257984, 1: 2773, 2: 1387}\n",
      "{0: 261179, 1: 521, 2: 444}\n",
      "{0: 261311, 1: 493, 2: 340}\n",
      "{0: 260725, 1: 1020, 2: 399}\n"
     ]
    },
    {
     "name": "stderr",
     "output_type": "stream",
     "text": [
      " 76%|███████▋  | 13/17 [00:03<00:00,  4.38it/s]"
     ]
    },
    {
     "name": "stdout",
     "output_type": "stream",
     "text": [
      "{0: 261255, 1: 490, 2: 399}\n",
      "{0: 260927, 1: 650, 2: 567}\n",
      "{0: 261724, 1: 342, 2: 78}\n",
      "{0: 261241, 1: 903}\n"
     ]
    },
    {
     "name": "stderr",
     "output_type": "stream",
     "text": [
      " 82%|████████▏ | 14/17 [00:03<00:00,  4.40it/s]"
     ]
    },
    {
     "name": "stdout",
     "output_type": "stream",
     "text": [
      "{0: 260600, 1: 1339, 2: 205}\n",
      "{0: 261104, 1: 1040}\n",
      "{0: 260528, 1: 1599, 2: 17}\n",
      "{0: 260322, 1: 1654, 2: 168}\n"
     ]
    },
    {
     "name": "stderr",
     "output_type": "stream",
     "text": [
      " 88%|████████▊ | 15/17 [00:03<00:00,  4.41it/s]"
     ]
    },
    {
     "name": "stdout",
     "output_type": "stream",
     "text": [
      "{0: 260005, 1: 1967, 2: 172}\n",
      "{0: 259180, 1: 2312, 2: 652}\n",
      "{0: 261935, 1: 122, 2: 87}\n",
      "{0: 262136, 1: 8}\n"
     ]
    },
    {
     "name": "stderr",
     "output_type": "stream",
     "text": [
      " 94%|█████████▍| 16/17 [00:03<00:00,  4.40it/s]"
     ]
    },
    {
     "name": "stdout",
     "output_type": "stream",
     "text": [
      "{0: 262144}\n",
      "{0: 262144}\n",
      "{0: 260256, 1: 882, 2: 1006}\n",
      "{0: 260092, 1: 2007, 2: 45}\n"
     ]
    },
    {
     "name": "stderr",
     "output_type": "stream",
     "text": [
      "18it [00:04,  4.38it/s]                        "
     ]
    },
    {
     "name": "stdout",
     "output_type": "stream",
     "text": [
      "{0: 261917, 1: 29, 2: 198}\n",
      "{0: 260833, 1: 1024, 2: 287}\n",
      "{0: 261567, 1: 558, 2: 19}\n",
      "{0: 260218, 1: 246, 2: 1680}\n",
      "{0: 260407, 1: 1612, 2: 125}\n",
      "{0: 261353, 1: 791}\n",
      "{0: 261424, 1: 720}\n"
     ]
    },
    {
     "name": "stderr",
     "output_type": "stream",
     "text": [
      "\n"
     ]
    },
    {
     "data": {
      "text/plain": [
       "{'max0_1': 3464,\n",
       " 'max0_2': 3261,\n",
       " 'max0_3': 3065,\n",
       " 'max1_1': 2511,\n",
       " 'max1_2': 2395,\n",
       " 'max1_3': 2194}"
      ]
     },
     "execution_count": 6,
     "metadata": {},
     "output_type": "execute_result"
    }
   ],
   "source": [
    "# print(img_paths)\n",
    "_image_name = \"9v\"  \n",
    "img_paths = os.listdir(os.path.join(\"test_data_origin\",_image_name))\n",
    "img_paths = [os.path.join(\"test_data_origin\",_image_name,img_name) for img_name in img_paths]\n",
    "images = [Image.open(img_path) for img_path in img_paths]\n",
    "print(len(images[0].getbands()))\n",
    "\n",
    "batch_size = 4\n",
    "results = {\"max0_1\":0,\"max0_2\":0,\"max0_3\":0,\"max1_1\":0,\"max1_2\":0,\"max1_3\":0}\n",
    "\n",
    "for i in tqdm(range(0, len(images), batch_size),total=int(len(images)//batch_size)):\n",
    "    batch_paths = images[i:i+batch_size]\n",
    "    # images[0].show()\n",
    "    inputs = feature_extractor(images=batch_paths, return_tensors=\"pt\").to(device)\n",
    "    outputs = model(**inputs)\n",
    "    # logits = outputs.logits\n",
    "\n",
    "    # upsampled_logits = F.interpolate(\n",
    "    #     logits,\n",
    "    #     size=images[0].size[::-1],  # Assuming all images are of the same size\n",
    "    #     mode='bilinear',\n",
    "    #     align_corners=False\n",
    "    # )\n",
    "\n",
    "    # pred_segs = upsampled_logits.argmax(dim=1)\n",
    "    # class_queries_logits = outputs.class_queries_logits\n",
    "    # masks_queries_logits = outputs.masks_queries_logits\n",
    "\n",
    "    target_sizes = [(image.size[0], image.size[1]) for image in batch_paths]\n",
    "\n",
    "    pred_segs = feature_extractor.post_process_semantic_segmentation(outputs,target_sizes=target_sizes)\n",
    "\n",
    "    # break\n",
    "    for pred_seg in pred_segs:\n",
    "        flat_tensor = pred_seg.view(-1)\n",
    "        \n",
    "        # Count the occurrences of each class\n",
    "        unique, counts = torch.unique(flat_tensor, return_counts=True)\n",
    "        counts_dict = dict(zip(unique.cpu().numpy(), counts.cpu().numpy()))\n",
    "        \n",
    "        # Get the counts of classes 0, 1, and 2\n",
    "        zeros = counts_dict.get(0, 0)\n",
    "        ones = counts_dict.get(1, 0)\n",
    "        twos = counts_dict.get(2, 0)\n",
    "        print(counts_dict)\n",
    "        \n",
    "        if ones > results[\"max0_1\"]:\n",
    "            results[\"max0_3\"] = results[\"max0_2\"]\n",
    "            results[\"max0_2\"] = results[\"max0_1\"]\n",
    "            results[\"max0_1\"] = ones\n",
    "        elif ones > results[\"max0_2\"] and ones != results[\"max0_1\"]:\n",
    "            results[\"max0_3\"] = results[\"max0_2\"]\n",
    "            results[\"max0_2\"] = ones\n",
    "        elif ones > results[\"max0_3\"] and ones != results[\"max0_1\"] and ones != results[\"max0_2\"]:\n",
    "            results[\"max0_3\"] = ones\n",
    "\n",
    "        if twos > results[\"max1_1\"]:\n",
    "            results[\"max1_3\"] = results[\"max1_2\"]\n",
    "            results[\"max1_2\"] = results[\"max1_1\"]\n",
    "            results[\"max1_1\"] = twos\n",
    "        elif twos > results[\"max1_2\"] and twos != results[\"max1_1\"]:\n",
    "            results[\"max1_3\"] = results[\"max1_2\"]\n",
    "            results[\"max1_2\"] = twos\n",
    "        elif twos > results[\"max1_3\"] and twos != results[\"max1_1\"] and twos != results[\"max1_2\"]:\n",
    "            results[\"max1_3\"] = twos\n",
    "    # break\n",
    "results"
   ]
  },
  {
   "cell_type": "code",
   "execution_count": null,
   "metadata": {},
   "outputs": [],
   "source": [
    "# img_list = os.listdir('res_data/origin')\n",
    "# img_paths = [os.path.join('res_data/origin', img) for img in img_list]\n",
    "# print(f\"Total images: {len(img_paths)}\")\n",
    "\n",
    "# # Example of processing in batches\n",
    "# # batch_size = 16\n",
    "# predictions = []\n",
    "# labels = []\n",
    "# for i in tqdm(range(0, len(img_paths), batch_size),total=int(len(img_paths)//batch_size)):\n",
    "#     batch_paths = img_paths[i:i+batch_size]\n",
    "#     # import pdb\n",
    "#     # pdb.set_trace()\n",
    "#     batch_labels = []\n",
    "#     for image_name in batch_paths:\n",
    "#         img_name = os.path.basename(image_name)\n",
    "#         img_index = int(img_name.split(\".\")[0].split(\"_\")[0].replace(\"V\", \"\"))\n",
    "#         category_name = int(label_df[label_df[\"number\"] == img_index][\"label\"].values[0])\n",
    "#         batch_labels.append(category_name)\n",
    "#     predictions.extend(get_pred(batch_paths))\n",
    "#     labels.extend(batch_labels)"
   ]
  },
  {
   "cell_type": "code",
   "execution_count": 5,
   "metadata": {},
   "outputs": [
    {
     "name": "stderr",
     "output_type": "stream",
     "text": [
      "100%|██████████| 285/285 [15:41<00:00,  3.30s/it]\n"
     ]
    }
   ],
   "source": [
    "img_list = os.listdir(\"test_data_origin\")\n",
    "# pred_list = []\n",
    "# label_list = []\n",
    "# max0_list = []\n",
    "# max1_list = []\n",
    "label_list = []\n",
    "res_list = []\n",
    "for image_name in tqdm(img_list,total=len(img_list)):\n",
    "# for image_name in img_list:\n",
    "    img_paths = os.listdir(os.path.join(\"test_data_origin\",image_name))\n",
    "    img_paths = [os.path.join(\"test_data_origin\",image_name,img_path) for img_path in img_paths]\n",
    "    # print(img_paths)\n",
    "    res = get_pred(img_paths)\n",
    "    # print(res)\n",
    "    # print(label_list)\n",
    "    # pred_list.extend(res)\n",
    "    # print(image_name)\n",
    "    img_index = int(image_name.replace(\"V\", \"\").replace(\"v\",\"\"))\n",
    "    category_name = int(label_df[label_df[\"number\"] == img_index][\"label\"].values[0])\n",
    "    # print(category_name)\n",
    "    # label_list.append(category_name)\n",
    "    # print('---')\n",
    "    # max0_list.append(res[\"max0\"])\n",
    "    # max1_list.append(res[\"max1\"])\n",
    "    res_list.append(res)\n",
    "    label_list.append(category_name)"
   ]
  },
  {
   "cell_type": "code",
   "execution_count": 6,
   "metadata": {},
   "outputs": [
    {
     "data": {
      "text/html": [
       "<div>\n",
       "<style scoped>\n",
       "    .dataframe tbody tr th:only-of-type {\n",
       "        vertical-align: middle;\n",
       "    }\n",
       "\n",
       "    .dataframe tbody tr th {\n",
       "        vertical-align: top;\n",
       "    }\n",
       "\n",
       "    .dataframe thead th {\n",
       "        text-align: right;\n",
       "    }\n",
       "</style>\n",
       "<table border=\"1\" class=\"dataframe\">\n",
       "  <thead>\n",
       "    <tr style=\"text-align: right;\">\n",
       "      <th></th>\n",
       "      <th>max0_1</th>\n",
       "      <th>max0_2</th>\n",
       "      <th>max0_3</th>\n",
       "      <th>max1_1</th>\n",
       "      <th>max1_2</th>\n",
       "      <th>max1_3</th>\n",
       "      <th>label</th>\n",
       "    </tr>\n",
       "  </thead>\n",
       "  <tbody>\n",
       "    <tr>\n",
       "      <th>0</th>\n",
       "      <td>3928</td>\n",
       "      <td>3645</td>\n",
       "      <td>2973</td>\n",
       "      <td>3631</td>\n",
       "      <td>2269</td>\n",
       "      <td>2148</td>\n",
       "      <td>1</td>\n",
       "    </tr>\n",
       "    <tr>\n",
       "      <th>1</th>\n",
       "      <td>3408</td>\n",
       "      <td>2429</td>\n",
       "      <td>2328</td>\n",
       "      <td>3135</td>\n",
       "      <td>2421</td>\n",
       "      <td>1838</td>\n",
       "      <td>0</td>\n",
       "    </tr>\n",
       "    <tr>\n",
       "      <th>2</th>\n",
       "      <td>3706</td>\n",
       "      <td>3539</td>\n",
       "      <td>3025</td>\n",
       "      <td>1622</td>\n",
       "      <td>1488</td>\n",
       "      <td>1264</td>\n",
       "      <td>0</td>\n",
       "    </tr>\n",
       "    <tr>\n",
       "      <th>3</th>\n",
       "      <td>3253</td>\n",
       "      <td>3195</td>\n",
       "      <td>3079</td>\n",
       "      <td>4956</td>\n",
       "      <td>3449</td>\n",
       "      <td>3279</td>\n",
       "      <td>0</td>\n",
       "    </tr>\n",
       "    <tr>\n",
       "      <th>4</th>\n",
       "      <td>3262</td>\n",
       "      <td>3240</td>\n",
       "      <td>2550</td>\n",
       "      <td>4832</td>\n",
       "      <td>4299</td>\n",
       "      <td>3382</td>\n",
       "      <td>0</td>\n",
       "    </tr>\n",
       "    <tr>\n",
       "      <th>...</th>\n",
       "      <td>...</td>\n",
       "      <td>...</td>\n",
       "      <td>...</td>\n",
       "      <td>...</td>\n",
       "      <td>...</td>\n",
       "      <td>...</td>\n",
       "      <td>...</td>\n",
       "    </tr>\n",
       "    <tr>\n",
       "      <th>280</th>\n",
       "      <td>3564</td>\n",
       "      <td>3080</td>\n",
       "      <td>2797</td>\n",
       "      <td>1314</td>\n",
       "      <td>1076</td>\n",
       "      <td>948</td>\n",
       "      <td>0</td>\n",
       "    </tr>\n",
       "    <tr>\n",
       "      <th>281</th>\n",
       "      <td>2883</td>\n",
       "      <td>2813</td>\n",
       "      <td>2622</td>\n",
       "      <td>3577</td>\n",
       "      <td>3531</td>\n",
       "      <td>3111</td>\n",
       "      <td>0</td>\n",
       "    </tr>\n",
       "    <tr>\n",
       "      <th>282</th>\n",
       "      <td>2413</td>\n",
       "      <td>2245</td>\n",
       "      <td>2174</td>\n",
       "      <td>2701</td>\n",
       "      <td>1799</td>\n",
       "      <td>1596</td>\n",
       "      <td>0</td>\n",
       "    </tr>\n",
       "    <tr>\n",
       "      <th>283</th>\n",
       "      <td>3448</td>\n",
       "      <td>2971</td>\n",
       "      <td>2850</td>\n",
       "      <td>2033</td>\n",
       "      <td>1828</td>\n",
       "      <td>1682</td>\n",
       "      <td>1</td>\n",
       "    </tr>\n",
       "    <tr>\n",
       "      <th>284</th>\n",
       "      <td>3464</td>\n",
       "      <td>3261</td>\n",
       "      <td>3065</td>\n",
       "      <td>2511</td>\n",
       "      <td>2395</td>\n",
       "      <td>2194</td>\n",
       "      <td>1</td>\n",
       "    </tr>\n",
       "  </tbody>\n",
       "</table>\n",
       "<p>285 rows × 7 columns</p>\n",
       "</div>"
      ],
      "text/plain": [
       "     max0_1  max0_2  max0_3  max1_1  max1_2  max1_3  label\n",
       "0      3928    3645    2973    3631    2269    2148      1\n",
       "1      3408    2429    2328    3135    2421    1838      0\n",
       "2      3706    3539    3025    1622    1488    1264      0\n",
       "3      3253    3195    3079    4956    3449    3279      0\n",
       "4      3262    3240    2550    4832    4299    3382      0\n",
       "..      ...     ...     ...     ...     ...     ...    ...\n",
       "280    3564    3080    2797    1314    1076     948      0\n",
       "281    2883    2813    2622    3577    3531    3111      0\n",
       "282    2413    2245    2174    2701    1799    1596      0\n",
       "283    3448    2971    2850    2033    1828    1682      1\n",
       "284    3464    3261    3065    2511    2395    2194      1\n",
       "\n",
       "[285 rows x 7 columns]"
      ]
     },
     "execution_count": 6,
     "metadata": {},
     "output_type": "execute_result"
    }
   ],
   "source": [
    "import pandas as pd\n",
    "# res_list\n",
    "data_df = pd.DataFrame(res_list)\n",
    "data_df['label'] = label_list\n",
    "# data_df = pd.DataFrame({\"max0\":max0_list,\"max1\":max1_list,\"label\":label_list})\n",
    "data_df"
   ]
  },
  {
   "cell_type": "code",
   "execution_count": 22,
   "metadata": {},
   "outputs": [
    {
     "name": "stdout",
     "output_type": "stream",
     "text": [
      "Classification Report:\n",
      "              precision    recall  f1-score   support\n",
      "\n",
      "           0       0.86      0.64      0.74       184\n",
      "           1       0.55      0.81      0.66       101\n",
      "\n",
      "    accuracy                           0.70       285\n",
      "   macro avg       0.71      0.73      0.70       285\n",
      "weighted avg       0.75      0.70      0.71       285\n",
      "\n",
      "Confusion Matrix:\n",
      "[[118  66]\n",
      " [ 19  82]]\n"
     ]
    }
   ],
   "source": [
    "%matplotlib inline\n",
    "import numpy as np\n",
    "import matplotlib.pyplot as plt\n",
    "from sklearn.linear_model import LogisticRegression\n",
    "from sklearn.metrics import classification_report, confusion_matrix\n",
    "from sklearn.model_selection import train_test_split, GridSearchCV\n",
    "from sklearn.preprocessing import StandardScaler\n",
    "from sklearn.pipeline import Pipeline\n",
    "from imblearn.over_sampling import SMOTE\n",
    "from sklearn.svm import SVC\n",
    "from sklearn.tree import DecisionTreeClassifier\n",
    "\n",
    "X = data_df[[\"max0_1\",\"max0_2\",\"max0_3\",\"max1_1\",\"max1_2\",\"max1_3\"]]\n",
    "y = data_df['label']\n",
    "\n",
    "# 将数据分为训练集和测试集\n",
    "# X_train, X_test, y_train, y_test = train_test_split(X, y, test_size=0.3, random_state=0)\n",
    "\n",
    "X_train, y_train = X,y\n",
    "X_test, y_test = X,y\n",
    "\n",
    "smote = SMOTE(random_state=48)\n",
    "X_train_smote, y_train_smote = smote.fit_resample(X_train, y_train)\n",
    "\n",
    "# 标准化数据\n",
    "scaler = StandardScaler()\n",
    "X_train_smote = scaler.fit_transform(X_train_smote)\n",
    "X_test = scaler.transform(X_test)\n",
    "\n",
    "# 创建Pipeline，包含标准化和逻辑回归\n",
    "# pipeline = Pipeline([\n",
    "#     ('scaler', StandardScaler()),  # 标准化\n",
    "#     ('logreg', LogisticRegression())  # 逻辑回归\n",
    "# ])\n",
    "# model_svm = SVC(probability=True, random_state=0)\n",
    "model_svm = DecisionTreeClassifier(random_state=0,max_depth=5)\n",
    "# model_svm = LogisticRegression(random_state=42)\n",
    "model_svm.fit(X_train_smote, y_train_smote)\n",
    "# model_svm.fit(X_train, y_train)\n",
    "\n",
    "# 定义超参数搜索范围\n",
    "# param_grid = {\n",
    "#     'logreg__C': [0.01, 0.1, 1, 10, 100]  # 正则化强度\n",
    "# }\n",
    "\n",
    "# 使用GridSearchCV进行超参数调优\n",
    "# grid_search = GridSearchCV(pipeline, param_grid, cv=5, scoring='accuracy')\n",
    "# grid_search.fit(X_train_smote, y_train_smote)\n",
    "\n",
    "# # 最优模型\n",
    "# best_model = grid_search.best_estimator_\n",
    "\n",
    "# 进行预测\n",
    "# y_pred = best_model.predict(X_test)\n",
    "\n",
    "y_pred = model_svm.predict(X_test)\n",
    "# y_pred_proba = model_svm.predict_proba(X_test)[:, 1]\n",
    "\n",
    "# 模型评价\n",
    "# print(\"Best Parameters:\", grid_search.best_params_)\n",
    "print(\"Classification Report:\")\n",
    "print(classification_report(y_test, y_pred))\n",
    "\n",
    "print(\"Confusion Matrix:\")\n",
    "print(confusion_matrix(y_test, y_pred))\n",
    "\n",
    "# 可视化\n",
    "# def plot_decision_boundary(X, y, model):\n",
    "#     h = .02  # 网格步长\n",
    "#     x_min, x_max = X[:, 0].min() - 1, X[:, 0].max() + 1\n",
    "#     y_min, y_max = X[:, 1].min() - 1, X[:, 1].max() + 1\n",
    "#     xx, yy = np.meshgrid(np.arange(x_min, x_max, h),\n",
    "#                          np.arange(y_min, y_max, h))\n",
    "#     Z = model.predict(np.c_[xx.ravel(), yy.ravel()])\n",
    "#     Z = Z.reshape(xx.shape)\n",
    "#     plt.contourf(xx, yy, Z, alpha=0.8)\n",
    "#     plt.scatter(X[:, 0], X[:, 1], c=y, edgecolors='k', marker='o')\n",
    "#     plt.xlabel('Feature 1')\n",
    "#     plt.ylabel('Feature 2')\n",
    "#     plt.title('Decision Boundary')\n",
    "#     plt.show()\n",
    "\n",
    "# plot_decision_boundary(X_test, y_test, model)\n"
   ]
  },
  {
   "cell_type": "code",
   "execution_count": 43,
   "metadata": {},
   "outputs": [
    {
     "name": "stdout",
     "output_type": "stream",
     "text": [
      "Accuracy: 0.6421052631578947\n",
      "Precision: 0.0\n",
      "Recall: 0.0\n",
      "F1 Score: 0.0\n"
     ]
    }
   ],
   "source": [
    "accuracy = accuracy_score(label_list, pred_list)\n",
    "precision = precision_score(label_list, pred_list)\n",
    "recall = recall_score(label_list, pred_list)\n",
    "f1 = f1_score(label_list, pred_list)\n",
    "\n",
    "# 打印结果\n",
    "print(f\"Accuracy: {accuracy}\")\n",
    "print(f\"Precision: {precision}\")\n",
    "print(f\"Recall: {recall}\")\n",
    "print(f\"F1 Score: {f1}\")"
   ]
  },
  {
   "cell_type": "code",
   "execution_count": 39,
   "metadata": {},
   "outputs": [
    {
     "data": {
      "text/plain": [
       "[0,\n",
       " 0,\n",
       " 0,\n",
       " 0,\n",
       " 0,\n",
       " 0,\n",
       " 0,\n",
       " 0,\n",
       " 0,\n",
       " 0,\n",
       " 0,\n",
       " 0,\n",
       " 0,\n",
       " 0,\n",
       " 0,\n",
       " 0,\n",
       " 0,\n",
       " 0,\n",
       " 0,\n",
       " 0,\n",
       " 0,\n",
       " 0,\n",
       " 0,\n",
       " 0,\n",
       " 0,\n",
       " 0,\n",
       " 0,\n",
       " 0,\n",
       " 0,\n",
       " 0,\n",
       " 0,\n",
       " 0,\n",
       " 0,\n",
       " 0,\n",
       " 0,\n",
       " 0,\n",
       " 0,\n",
       " 0,\n",
       " 0,\n",
       " 0,\n",
       " 0,\n",
       " 0,\n",
       " 0,\n",
       " 0,\n",
       " 0,\n",
       " 0,\n",
       " 0,\n",
       " 0,\n",
       " 0,\n",
       " 0,\n",
       " 0,\n",
       " 0,\n",
       " 0,\n",
       " 0,\n",
       " 0,\n",
       " 0,\n",
       " 0,\n",
       " 0,\n",
       " 0,\n",
       " 0,\n",
       " 0,\n",
       " 0,\n",
       " 0,\n",
       " 0,\n",
       " 0,\n",
       " 0,\n",
       " 0,\n",
       " 0,\n",
       " 0,\n",
       " 0,\n",
       " 0,\n",
       " 0,\n",
       " 0,\n",
       " 0,\n",
       " 0,\n",
       " 0,\n",
       " 0,\n",
       " 0,\n",
       " 0,\n",
       " 0,\n",
       " 0,\n",
       " 0,\n",
       " 0,\n",
       " 0,\n",
       " 0,\n",
       " 0,\n",
       " 0,\n",
       " 0,\n",
       " 0,\n",
       " 0,\n",
       " 0,\n",
       " 0,\n",
       " 0,\n",
       " 0,\n",
       " 0,\n",
       " 0,\n",
       " 0,\n",
       " 0,\n",
       " 0,\n",
       " 0,\n",
       " 0,\n",
       " 0,\n",
       " 0,\n",
       " 0,\n",
       " 0,\n",
       " 0,\n",
       " 0,\n",
       " 0,\n",
       " 0,\n",
       " 0,\n",
       " 0,\n",
       " 0,\n",
       " 0,\n",
       " 0,\n",
       " 0,\n",
       " 0,\n",
       " 0,\n",
       " 0,\n",
       " 0,\n",
       " 0,\n",
       " 0,\n",
       " 0,\n",
       " 0,\n",
       " 0,\n",
       " 0,\n",
       " 0,\n",
       " 0,\n",
       " 0,\n",
       " 0,\n",
       " 0,\n",
       " 0,\n",
       " 0,\n",
       " 0,\n",
       " 0,\n",
       " 0,\n",
       " 0,\n",
       " 0,\n",
       " 0,\n",
       " 0,\n",
       " 0,\n",
       " 0,\n",
       " 0,\n",
       " 0,\n",
       " 0,\n",
       " 0,\n",
       " 0,\n",
       " 0,\n",
       " 0,\n",
       " 0,\n",
       " 0,\n",
       " 0,\n",
       " 0,\n",
       " 0,\n",
       " 0,\n",
       " 0,\n",
       " 0,\n",
       " 0,\n",
       " 0,\n",
       " 0,\n",
       " 0,\n",
       " 0,\n",
       " 0,\n",
       " 0,\n",
       " 0,\n",
       " 0,\n",
       " 0,\n",
       " 0,\n",
       " 0,\n",
       " 0,\n",
       " 0,\n",
       " 0,\n",
       " 0,\n",
       " 0,\n",
       " 0,\n",
       " 0,\n",
       " 0,\n",
       " 0,\n",
       " 0,\n",
       " 0,\n",
       " 0,\n",
       " 0,\n",
       " 0,\n",
       " 0,\n",
       " 0,\n",
       " 0,\n",
       " 0,\n",
       " 0,\n",
       " 0,\n",
       " 0,\n",
       " 0,\n",
       " 0,\n",
       " 0,\n",
       " 0,\n",
       " 0,\n",
       " 0,\n",
       " 0,\n",
       " 0,\n",
       " 0,\n",
       " 0,\n",
       " 0,\n",
       " 0,\n",
       " 0,\n",
       " 0,\n",
       " 0,\n",
       " 0,\n",
       " 0,\n",
       " 0,\n",
       " 0,\n",
       " 0,\n",
       " 0,\n",
       " 0,\n",
       " 0,\n",
       " 0,\n",
       " 0,\n",
       " 0,\n",
       " 0,\n",
       " 0,\n",
       " 0,\n",
       " 0,\n",
       " 0,\n",
       " 0,\n",
       " 0,\n",
       " 0,\n",
       " 0,\n",
       " 0,\n",
       " 0,\n",
       " 0,\n",
       " 0,\n",
       " 0,\n",
       " 0,\n",
       " 0,\n",
       " 0,\n",
       " 0,\n",
       " 0,\n",
       " 0,\n",
       " 0,\n",
       " 0,\n",
       " 0,\n",
       " 0,\n",
       " 0,\n",
       " 0,\n",
       " 0,\n",
       " 0,\n",
       " 0,\n",
       " 0,\n",
       " 0,\n",
       " 0,\n",
       " 0,\n",
       " 0,\n",
       " 0,\n",
       " 0,\n",
       " 0,\n",
       " 0,\n",
       " 0,\n",
       " 0,\n",
       " 0,\n",
       " 0,\n",
       " 0,\n",
       " 0,\n",
       " 0,\n",
       " 0,\n",
       " 0,\n",
       " 0,\n",
       " 0,\n",
       " 0,\n",
       " 0,\n",
       " 0,\n",
       " 0,\n",
       " 0,\n",
       " 0,\n",
       " 0,\n",
       " 0,\n",
       " 0,\n",
       " 0,\n",
       " 0,\n",
       " 0,\n",
       " 0,\n",
       " 0,\n",
       " 0,\n",
       " 0,\n",
       " 0,\n",
       " 0,\n",
       " 0,\n",
       " 0,\n",
       " 0]"
      ]
     },
     "execution_count": 39,
     "metadata": {},
     "output_type": "execute_result"
    }
   ],
   "source": [
    "pred_list"
   ]
  },
  {
   "cell_type": "code",
   "execution_count": 30,
   "metadata": {},
   "outputs": [
    {
     "data": {
      "text/plain": [
       "1"
      ]
     },
     "execution_count": 30,
     "metadata": {},
     "output_type": "execute_result"
    }
   ],
   "source": [
    "category_name"
   ]
  },
  {
   "cell_type": "code",
   "execution_count": null,
   "metadata": {},
   "outputs": [],
   "source": []
  }
 ],
 "metadata": {
  "kernelspec": {
   "display_name": "base",
   "language": "python",
   "name": "python3"
  },
  "language_info": {
   "codemirror_mode": {
    "name": "ipython",
    "version": 3
   },
   "file_extension": ".py",
   "mimetype": "text/x-python",
   "name": "python",
   "nbconvert_exporter": "python",
   "pygments_lexer": "ipython3",
   "version": "3.10.8"
  }
 },
 "nbformat": 4,
 "nbformat_minor": 2
}
