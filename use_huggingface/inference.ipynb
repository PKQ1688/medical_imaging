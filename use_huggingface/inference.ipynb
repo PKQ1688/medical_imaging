{
 "cells": [
  {
   "cell_type": "code",
   "execution_count": 1,
   "metadata": {},
   "outputs": [],
   "source": [
    "import torch\n",
    "import pandas as pd\n",
    "from transformers import SegformerImageProcessor, SegformerForSemanticSegmentation\n",
    "from PIL import Image\n",
    "import os\n",
    "import torch.nn.functional as F\n",
    "from tqdm import tqdm\n",
    "from sklearn.metrics import accuracy_score, precision_score, recall_score, f1_score\n",
    "from collections import Counter\n",
    "from transformers import MaskFormerFeatureExtractor,MaskFormerForInstanceSegmentation\n"
   ]
  },
  {
   "cell_type": "code",
   "execution_count": 2,
   "metadata": {},
   "outputs": [
    {
     "name": "stderr",
     "output_type": "stream",
     "text": [
      "/root/miniconda3/lib/python3.10/site-packages/transformers/models/maskformer/feature_extraction_maskformer.py:28: FutureWarning: The class MaskFormerFeatureExtractor is deprecated and will be removed in version 5 of Transformers. Please use MaskFormerImageProcessor instead.\n",
      "  warnings.warn(\n",
      "Backbone maskformer-swin is not a supported model and may not be compatible with MaskFormer. Supported model types: resnet,swin\n"
     ]
    }
   ],
   "source": [
    "device = torch.device(\"cuda\" if torch.cuda.is_available() else \"cpu\")\n",
    "model_name = \"use_huggingface/final_checkpoint\"\n",
    "# feature_extractor = SegformerImageProcessor.from_pretrained(model_name)\n",
    "# model = SegformerForSemanticSegmentation.from_pretrained(model_name).to(device)\n",
    "\n",
    "feature_extractor = MaskFormerFeatureExtractor.from_pretrained(model_name)\n",
    "# inputs = feature_extractor(images=image, return_tensors=\"pt\")\n",
    "model = MaskFormerForInstanceSegmentation.from_pretrained(model_name).to(device)\n",
    "\n",
    "label_df = pd.read_csv(\"test_label.csv\")\n"
   ]
  },
  {
   "cell_type": "code",
   "execution_count": 3,
   "metadata": {},
   "outputs": [],
   "source": [
    "def find_mode(lst):\n",
    "    counter = Counter(lst)\n",
    "    max_count = max(counter.values())\n",
    "    mode_values = [item for item, count in counter.items() if count == max_count]\n",
    "    return mode_values"
   ]
  },
  {
   "cell_type": "code",
   "execution_count": 29,
   "metadata": {},
   "outputs": [],
   "source": [
    "def get_pred(img_paths):\n",
    "    images = [Image.open(img_path) for img_path in img_paths]\n",
    "    # print(len(images[0].getbands()))\n",
    "\n",
    "    batch_size = 4\n",
    "    results = {\"max0_1\":0,\"max0_2\":0,\"max0_3\":0,\"max1_1\":0,\"max1_2\":0,\"max1_3\":0}\n",
    "\n",
    "    # for i in tqdm(range(0, len(images), batch_size),total=int(len(images)//batch_size)):\n",
    "    # for i in range(0, len(images), batch_size):\n",
    "    for image in images:\n",
    "        # batch_paths = images[i:i+batch_size]\n",
    "        # images[0].show()\n",
    "        # inputs = feature_extractor(images=batch_paths, return_tensors=\"pt\").to(device)\n",
    "        inputs = feature_extractor(images=image, return_tensors=\"pt\").to(device)\n",
    "        outputs = model(**inputs)\n",
    "        # logits = outputs.logits\n",
    "        # target_sizes = [(image.size[0], image.size[1]) for image in batch_paths]\n",
    "\n",
    "        # pred_segs = feature_extractor.post_process_semantic_segmentation(outputs,target_sizes=target_sizes)\n",
    "        pred_seg = feature_extractor.post_process_semantic_segmentation(outputs, target_sizes=[image.size[::-1]])[0]\n",
    "\n",
    "        # upsampled_logits = F.interpolate(\n",
    "        #     logits,\n",
    "        #     size=images[0].size[::-1],  # Assuming all images are of the same size\n",
    "        #     mode='bilinear',\n",
    "        #     align_corners=False\n",
    "        # )\n",
    "\n",
    "        # pred_segs = upsampled_logits.argmax(dim=1)\n",
    "        # break\n",
    "        # for pred_seg in pred_segs:\n",
    "        flat_tensor = pred_seg.view(-1)\n",
    "        \n",
    "        # Count the occurrences of each class\n",
    "        unique, counts = torch.unique(flat_tensor, return_counts=True)\n",
    "        counts_dict = dict(zip(unique.cpu().numpy(), counts.cpu().numpy()))\n",
    "        \n",
    "        # Get the counts of classes 0, 1, and 2\n",
    "        zeros = counts_dict.get(0, 0)\n",
    "        ones = counts_dict.get(1, 0)\n",
    "        twos = counts_dict.get(2, 0)\n",
    "        # print(counts_dict)\n",
    "        \n",
    "        # Determine the result based on counts of classes 1 and 2\n",
    "        # if ones > 0 or twos > 0:\n",
    "        #     if ones > twos:\n",
    "        #         results.append(0)\n",
    "        #     else:\n",
    "        #         results.append(1)\n",
    "        if ones > results[\"max0_1\"]:\n",
    "            results[\"max0_3\"] = results[\"max0_2\"]\n",
    "            results[\"max0_2\"] = results[\"max0_1\"]\n",
    "            results[\"max0_1\"] = ones\n",
    "        elif ones > results[\"max0_2\"] and ones != results[\"max0_1\"]:\n",
    "            results[\"max0_3\"] = results[\"max0_2\"]\n",
    "            results[\"max0_2\"] = ones\n",
    "        elif ones > results[\"max0_3\"] and ones != results[\"max0_1\"] and ones != results[\"max0_2\"]:\n",
    "            results[\"max0_3\"] = ones\n",
    "\n",
    "        if twos > results[\"max1_1\"]:\n",
    "            results[\"max1_3\"] = results[\"max1_2\"]\n",
    "            results[\"max1_2\"] = results[\"max1_1\"]\n",
    "            results[\"max1_1\"] = twos\n",
    "        elif twos > results[\"max1_2\"] and twos != results[\"max1_1\"]:\n",
    "            results[\"max1_3\"] = results[\"max1_2\"]\n",
    "            results[\"max1_2\"] = twos\n",
    "        elif twos > results[\"max1_3\"] and twos != results[\"max1_1\"] and twos != results[\"max1_2\"]:\n",
    "            results[\"max1_3\"] = twos\n",
    "        # break\n",
    "    return results"
   ]
  },
  {
   "cell_type": "code",
   "execution_count": 25,
   "metadata": {},
   "outputs": [
    {
     "name": "stdout",
     "output_type": "stream",
     "text": [
      "3\n"
     ]
    }
   ],
   "source": [
    "# print(img_paths)\n",
    "_image_name = \"9v\"  \n",
    "img_paths = os.listdir(os.path.join(\"test_data_origin\",_image_name))\n",
    "img_paths = [os.path.join(\"test_data_origin\",_image_name,img_name) for img_name in img_paths]\n",
    "images = [Image.open(img_path) for img_path in img_paths]\n",
    "print(len(images[0].getbands()))\n",
    "\n",
    "batch_size = 1\n",
    "results = {\"max0_1\":0,\"max0_2\":0,\"max0_3\":0,\"max1_1\":0,\"max1_2\":0,\"max1_3\":0}\n",
    "\n",
    "# for i in tqdm(range(0, len(images), batch_size),total=int(len(images)//batch_size)):\n",
    "for image in images:\n",
    "    # batch_paths = images[i:i+batch_size]\n",
    "    # images[0].show()\n",
    "    # inputs = feature_extractor(images=batch_paths, return_tensors=\"pt\").to(device)\n",
    "    inputs = feature_extractor(images=image, return_tensors=\"pt\").to(device)\n",
    "    outputs = model(**inputs)\n",
    "    # logits = outputs.logits\n",
    "\n",
    "    # upsampled_logits = F.interpolate(\n",
    "    #     logits,\n",
    "    #     size=images[0].size[::-1],  # Assuming all images are of the same size\n",
    "    #     mode='bilinear',\n",
    "    #     align_corners=False\n",
    "    # )\n",
    "\n",
    "    # pred_segs = upsampled_logits.argmax(dim=1)\n",
    "    # class_queries_logits = outputs.class_queries_logits\n",
    "    # masks_queries_logits = outputs.masks_queries_logits\n",
    "\n",
    "    # target_sizes = [(image.size[0], image.size[1]) for image in batch_paths]\n",
    "    pred_segs = feature_extractor.post_process_semantic_segmentation(outputs, target_sizes=[image.size[::-1]])[0]\n",
    "\n",
    "    # pred_segs = feature_extractor.post_process_semantic_segmentation(outputs,target_sizes=target_sizes)\n",
    "\n",
    "# pred_segs.size()\n",
    "\n",
    "#     # break\n",
    "#     for pred_seg in pred_segs:\n",
    "#         flat_tensor = pred_seg.view(-1)\n",
    "        \n",
    "#         # Count the occurrences of each class\n",
    "#         unique, counts = torch.unique(flat_tensor, return_counts=True)\n",
    "#         counts_dict = dict(zip(unique.cpu().numpy(), counts.cpu().numpy()))\n",
    "        \n",
    "#         # Get the counts of classes 0, 1, and 2\n",
    "#         zeros = counts_dict.get(0, 0)\n",
    "#         ones = counts_dict.get(1, 0)\n",
    "#         twos = counts_dict.get(2, 0)\n",
    "#         print(counts_dict)\n",
    "        \n",
    "#         if ones > results[\"max0_1\"]:\n",
    "#             results[\"max0_3\"] = results[\"max0_2\"]\n",
    "#             results[\"max0_2\"] = results[\"max0_1\"]\n",
    "#             results[\"max0_1\"] = ones\n",
    "#         elif ones > results[\"max0_2\"] and ones != results[\"max0_1\"]:\n",
    "#             results[\"max0_3\"] = results[\"max0_2\"]\n",
    "#             results[\"max0_2\"] = ones\n",
    "#         elif ones > results[\"max0_3\"] and ones != results[\"max0_1\"] and ones != results[\"max0_2\"]:\n",
    "#             results[\"max0_3\"] = ones\n",
    "\n",
    "#         if twos > results[\"max1_1\"]:\n",
    "#             results[\"max1_3\"] = results[\"max1_2\"]\n",
    "#             results[\"max1_2\"] = results[\"max1_1\"]\n",
    "#             results[\"max1_1\"] = twos\n",
    "#         elif twos > results[\"max1_2\"] and twos != results[\"max1_1\"]:\n",
    "#             results[\"max1_3\"] = results[\"max1_2\"]\n",
    "#             results[\"max1_2\"] = twos\n",
    "#         elif twos > results[\"max1_3\"] and twos != results[\"max1_1\"] and twos != results[\"max1_2\"]:\n",
    "#             results[\"max1_3\"] = twos\n",
    "#     # break\n",
    "# results"
   ]
  },
  {
   "cell_type": "code",
   "execution_count": null,
   "metadata": {},
   "outputs": [],
   "source": [
    "# img_list = os.listdir('res_data/origin')\n",
    "# img_paths = [os.path.join('res_data/origin', img) for img in img_list]\n",
    "# print(f\"Total images: {len(img_paths)}\")\n",
    "\n",
    "# # Example of processing in batches\n",
    "# # batch_size = 16\n",
    "# predictions = []\n",
    "# labels = []\n",
    "# for i in tqdm(range(0, len(img_paths), batch_size),total=int(len(img_paths)//batch_size)):\n",
    "#     batch_paths = img_paths[i:i+batch_size]\n",
    "#     # import pdb\n",
    "#     # pdb.set_trace()\n",
    "#     batch_labels = []\n",
    "#     for image_name in batch_paths:\n",
    "#         img_name = os.path.basename(image_name)\n",
    "#         img_index = int(img_name.split(\".\")[0].split(\"_\")[0].replace(\"V\", \"\"))\n",
    "#         category_name = int(label_df[label_df[\"number\"] == img_index][\"label\"].values[0])\n",
    "#         batch_labels.append(category_name)\n",
    "#     predictions.extend(get_pred(batch_paths))\n",
    "#     labels.extend(batch_labels)"
   ]
  },
  {
   "cell_type": "code",
   "execution_count": 30,
   "metadata": {},
   "outputs": [
    {
     "name": "stderr",
     "output_type": "stream",
     "text": [
      "100%|██████████| 285/285 [22:23<00:00,  4.72s/it]\n"
     ]
    }
   ],
   "source": [
    "img_list = os.listdir(\"test_data_origin\")\n",
    "# pred_list = []\n",
    "# label_list = []\n",
    "# max0_list = []\n",
    "# max1_list = []\n",
    "label_list = []\n",
    "res_list = []\n",
    "for image_name in tqdm(img_list,total=len(img_list)):\n",
    "# for image_name in img_list:\n",
    "    img_paths = os.listdir(os.path.join(\"test_data_origin\",image_name))\n",
    "    img_paths = [os.path.join(\"test_data_origin\",image_name,img_path) for img_path in img_paths]\n",
    "    # print(img_paths)\n",
    "    res = get_pred(img_paths)\n",
    "    # print(res)\n",
    "    # print(label_list)\n",
    "    # pred_list.extend(res)\n",
    "    # print(image_name)\n",
    "    img_index = int(image_name.replace(\"V\", \"\").replace(\"v\",\"\"))\n",
    "    category_name = int(label_df[label_df[\"number\"] == img_index][\"label\"].values[0])\n",
    "    # print(category_name)\n",
    "    # label_list.append(category_name)\n",
    "    # print('---')\n",
    "    # max0_list.append(res[\"max0\"])\n",
    "    # max1_list.append(res[\"max1\"])\n",
    "    res_list.append(res)\n",
    "    label_list.append(category_name)"
   ]
  },
  {
   "cell_type": "code",
   "execution_count": 34,
   "metadata": {},
   "outputs": [],
   "source": [
    "import pandas as pd\n",
    "# res_list\n",
    "data_df = pd.DataFrame(res_list)\n",
    "data_df['label'] = label_list\n",
    "# data_df = pd.DataFrame({\"max0\":max0_list,\"max1\":max1_list,\"label\":label_list})\n",
    "data_df\n",
    "data_df.to_csv(\"result.csv\",index=False)"
   ]
  },
  {
   "cell_type": "code",
   "execution_count": 36,
   "metadata": {},
   "outputs": [
    {
     "name": "stdout",
     "output_type": "stream",
     "text": [
      "Classification Report:\n",
      "              precision    recall  f1-score   support\n",
      "\n",
      "           0       0.79      0.82      0.80       184\n",
      "           1       0.64      0.59      0.62       101\n",
      "\n",
      "    accuracy                           0.74       285\n",
      "   macro avg       0.71      0.70      0.71       285\n",
      "weighted avg       0.73      0.74      0.73       285\n",
      "\n",
      "Confusion Matrix:\n",
      "[[150  34]\n",
      " [ 41  60]]\n"
     ]
    }
   ],
   "source": [
    "%matplotlib inline\n",
    "import numpy as np\n",
    "import matplotlib.pyplot as plt\n",
    "from sklearn.linear_model import LogisticRegression\n",
    "from sklearn.metrics import classification_report, confusion_matrix\n",
    "from sklearn.model_selection import train_test_split, GridSearchCV\n",
    "from sklearn.preprocessing import StandardScaler\n",
    "from sklearn.pipeline import Pipeline\n",
    "from imblearn.over_sampling import SMOTE\n",
    "from sklearn.svm import SVC\n",
    "from sklearn.tree import DecisionTreeClassifier\n",
    "\n",
    "X = data_df[[\"max0_1\",\"max0_2\",\"max0_3\",\"max1_1\",\"max1_2\",\"max1_3\"]]\n",
    "y = data_df['label']\n",
    "\n",
    "# 将数据分为训练集和测试集\n",
    "# X_train, X_test, y_train, y_test = train_test_split(X, y, test_size=0.2, random_state=0)\n",
    "\n",
    "X_train, y_train = X,y\n",
    "X_test, y_test = X,y\n",
    "\n",
    "smote = SMOTE(random_state=48)\n",
    "X_train_smote, y_train_smote = smote.fit_resample(X_train, y_train)\n",
    "\n",
    "# 标准化数据\n",
    "scaler = StandardScaler()\n",
    "X_train_smote = scaler.fit_transform(X_train_smote)\n",
    "X_test = scaler.transform(X_test)\n",
    "\n",
    "# 创建Pipeline，包含标准化和逻辑回归\n",
    "# pipeline = Pipeline([\n",
    "#     ('scaler', StandardScaler()),  # 标准化\n",
    "#     ('logreg', LogisticRegression())  # 逻辑回归\n",
    "# ])\n",
    "# model_svm = SVC(probability=True, random_state=0)\n",
    "model_svm = DecisionTreeClassifier(random_state=0,max_depth=4)\n",
    "# model_svm = LogisticRegression(random_state=0)\n",
    "model_svm.fit(X_train_smote, y_train_smote)\n",
    "# model_svm.fit(X_train, y_train)\n",
    "\n",
    "# 定义超参数搜索范围\n",
    "# param_grid = {\n",
    "#     'logreg__C': [0.01, 0.1, 1, 10, 100]  # 正则化强度\n",
    "# }\n",
    "\n",
    "# 使用GridSearchCV进行超参数调优\n",
    "# grid_search = GridSearchCV(pipeline, param_grid, cv=5, scoring='accuracy')\n",
    "# grid_search.fit(X_train_smote, y_train_smote)\n",
    "\n",
    "# # 最优模型\n",
    "# best_model = grid_search.best_estimator_\n",
    "\n",
    "# 进行预测\n",
    "# y_pred = best_model.predict(X_test)\n",
    "\n",
    "y_pred = model_svm.predict(X_test)\n",
    "# y_pred_proba = model_svm.predict_proba(X_test)[:, 1]\n",
    "\n",
    "# 模型评价\n",
    "# print(\"Best Parameters:\", grid_search.best_params_)\n",
    "print(\"Classification Report:\")\n",
    "print(classification_report(y_test, y_pred))\n",
    "\n",
    "print(\"Confusion Matrix:\")\n",
    "print(confusion_matrix(y_test, y_pred))\n",
    "\n",
    "# 可视化\n",
    "# def plot_decision_boundary(X, y, model):\n",
    "#     h = .02  # 网格步长\n",
    "#     x_min, x_max = X[:, 0].min() - 1, X[:, 0].max() + 1\n",
    "#     y_min, y_max = X[:, 1].min() - 1, X[:, 1].max() + 1\n",
    "#     xx, yy = np.meshgrid(np.arange(x_min, x_max, h),\n",
    "#                          np.arange(y_min, y_max, h))\n",
    "#     Z = model.predict(np.c_[xx.ravel(), yy.ravel()])\n",
    "#     Z = Z.reshape(xx.shape)\n",
    "#     plt.contourf(xx, yy, Z, alpha=0.8)\n",
    "#     plt.scatter(X[:, 0], X[:, 1], c=y, edgecolors='k', marker='o')\n",
    "#     plt.xlabel('Feature 1')\n",
    "#     plt.ylabel('Feature 2')\n",
    "#     plt.title('Decision Boundary')\n",
    "#     plt.show()\n",
    "\n",
    "# plot_decision_boundary(X_test, y_test, model)\n"
   ]
  },
  {
   "cell_type": "code",
   "execution_count": 43,
   "metadata": {},
   "outputs": [
    {
     "name": "stdout",
     "output_type": "stream",
     "text": [
      "Accuracy: 0.6421052631578947\n",
      "Precision: 0.0\n",
      "Recall: 0.0\n",
      "F1 Score: 0.0\n"
     ]
    }
   ],
   "source": [
    "accuracy = accuracy_score(label_list, pred_list)\n",
    "precision = precision_score(label_list, pred_list)\n",
    "recall = recall_score(label_list, pred_list)\n",
    "f1 = f1_score(label_list, pred_list)\n",
    "\n",
    "# 打印结果\n",
    "print(f\"Accuracy: {accuracy}\")\n",
    "print(f\"Precision: {precision}\")\n",
    "print(f\"Recall: {recall}\")\n",
    "print(f\"F1 Score: {f1}\")"
   ]
  },
  {
   "cell_type": "code",
   "execution_count": 28,
   "metadata": {},
   "outputs": [
    {
     "data": {
      "text/plain": [
       "torch.Size([512, 512])"
      ]
     },
     "execution_count": 28,
     "metadata": {},
     "output_type": "execute_result"
    }
   ],
   "source": [
    "pred_segs.size()"
   ]
  },
  {
   "cell_type": "code",
   "execution_count": 30,
   "metadata": {},
   "outputs": [
    {
     "data": {
      "text/plain": [
       "1"
      ]
     },
     "execution_count": 30,
     "metadata": {},
     "output_type": "execute_result"
    }
   ],
   "source": [
    "category_name"
   ]
  },
  {
   "cell_type": "code",
   "execution_count": null,
   "metadata": {},
   "outputs": [],
   "source": []
  }
 ],
 "metadata": {
  "kernelspec": {
   "display_name": "base",
   "language": "python",
   "name": "python3"
  },
  "language_info": {
   "codemirror_mode": {
    "name": "ipython",
    "version": 3
   },
   "file_extension": ".py",
   "mimetype": "text/x-python",
   "name": "python",
   "nbconvert_exporter": "python",
   "pygments_lexer": "ipython3",
   "version": "3.10.8"
  }
 },
 "nbformat": 4,
 "nbformat_minor": 2
}
