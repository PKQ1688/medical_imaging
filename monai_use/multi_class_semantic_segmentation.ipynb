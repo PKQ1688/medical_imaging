{
 "cells": [
  {
   "cell_type": "code",
   "execution_count": 1,
   "id": "initial_id",
   "metadata": {
    "collapsed": true,
    "ExecuteTime": {
     "end_time": "2024-01-09T06:33:10.279451Z",
     "start_time": "2024-01-09T06:33:06.172414Z"
    }
   },
   "outputs": [],
   "source": [
    "from fastMONAI.vision_all import *\n",
    "\n",
    "from monai.apps import DecathlonDataset\n",
    "from sklearn.model_selection import train_test_split"
   ]
  },
  {
   "cell_type": "code",
   "outputs": [],
   "source": [
    "path = Path('../data')\n",
    "# path.mkdir(exist_ok=True)"
   ],
   "metadata": {
    "collapsed": false,
    "ExecuteTime": {
     "end_time": "2024-01-09T06:36:01.280786Z",
     "start_time": "2024-01-09T06:36:01.277182Z"
    }
   },
   "id": "5c241f3ebedb32a7",
   "execution_count": 2
  },
  {
   "cell_type": "code",
   "outputs": [
    {
     "name": "stderr",
     "output_type": "stream",
     "text": [
      "Task09_Spleen.tar: 1.50GB [05:34, 4.82MB/s]                               "
     ]
    },
    {
     "name": "stdout",
     "output_type": "stream",
     "text": [
      "2024-01-09 14:41:37,423 - INFO - Downloaded: ../data/Task09_Spleen.tar\n"
     ]
    },
    {
     "name": "stderr",
     "output_type": "stream",
     "text": [
      "\n"
     ]
    },
    {
     "name": "stdout",
     "output_type": "stream",
     "text": [
      "2024-01-09 14:41:40,836 - INFO - Verified 'Task09_Spleen.tar', md5: 410d4a301da4e5b2f6f86ec3ddba524e.\n",
      "2024-01-09 14:41:40,837 - INFO - Non-empty folder exists in ../data/Task09_Spleen, skipped extracting.\n"
     ]
    },
    {
     "name": "stderr",
     "output_type": "stream",
     "text": [
      "/Users/zhutaonan/miniconda3/envs/cv/lib/python3.11/site-packages/monai/utils/deprecate_utils.py:321: FutureWarning: monai.transforms.io.dictionary LoadImaged.__init__:image_only: Current default value of argument `image_only=False` has been deprecated since version 1.1. It will be changed to `image_only=True` in version 1.3.\n",
      "  warn_deprecated(argname, msg, warning_category)\n"
     ]
    }
   ],
   "source": [
    "training_data = DecathlonDataset(root_dir=path, \n",
    "                                 task=\"Task09_Spleen\", \n",
    "                                 section=\"training\", \n",
    "                                 download=True,\n",
    "                                 cache_num=0, \n",
    "                                 num_workers=3)"
   ],
   "metadata": {
    "collapsed": false,
    "ExecuteTime": {
     "end_time": "2024-01-09T06:41:40.844395Z",
     "start_time": "2024-01-09T06:36:03.327031Z"
    }
   },
   "id": "75909e91b8aa1f1e",
   "execution_count": 3
  },
  {
   "cell_type": "code",
   "outputs": [],
   "source": [
    "df = pd.DataFrame(training_data.data)\n",
    "df.shape"
   ],
   "metadata": {
    "collapsed": false
   },
   "id": "2b07795bdb15cd0e",
   "execution_count": 7
  },
  {
   "cell_type": "code",
   "outputs": [],
   "source": [
    "    "
   ],
   "metadata": {
    "collapsed": false
   },
   "id": "a6bfbca8bc56d3d"
  }
 ],
 "metadata": {
  "kernelspec": {
   "display_name": "Python 3",
   "language": "python",
   "name": "python3"
  },
  "language_info": {
   "codemirror_mode": {
    "name": "ipython",
    "version": 2
   },
   "file_extension": ".py",
   "mimetype": "text/x-python",
   "name": "python",
   "nbconvert_exporter": "python",
   "pygments_lexer": "ipython2",
   "version": "2.7.6"
  }
 },
 "nbformat": 4,
 "nbformat_minor": 5
}
