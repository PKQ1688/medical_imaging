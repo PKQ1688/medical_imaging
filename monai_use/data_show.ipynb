{
 "cells": [
  {
   "cell_type": "code",
   "execution_count": 8,
   "metadata": {},
   "outputs": [
    {
     "name": "stdout",
     "output_type": "stream",
     "text": [
      "float64\n",
      "float64\n"
     ]
    }
   ],
   "source": [
    "import nibabel as nib\n",
    "import numpy as np\n",
    "\n",
    "def handle_data(img_path,roi_path):\n",
    "    print(img_path)\n",
    "    break\n",
    "    img = nib.load(img_path)  \n",
    "    roi = nib.load(roi_path)\n",
    "\n",
    "    original_data = img.get_fdata()\n",
    "    label_data = roi.get_fdata()\n",
    "\n",
    "    # 应用掩码：将原图中非标注区域设置为0\n",
    "    masked_data = np.where(label_data > 0, original_data, 0)\n",
    "\n",
    "    # 创建一个新的NIfTI图像\n",
    "    masked_data = masked_data.astype(original_data.dtype)\n",
    "\n",
    "    corrected_data = np.where(masked_data < 0, 0, masked_data)  # 将负值设置为0\n",
    "    corrected_data = np.where(label_data == 0, 0, corrected_data)  # 确保非标注区域为黑色\n",
    "\n",
    "    print(corrected_data.min(), corrected_data.max())\n",
    "    corrected_img = nib.Nifti1Image(corrected_data, img.affine)\n",
    "\n",
    "    # 保存处理后的图像\n",
    "    nib.save(corrected_img, 'cls_data/{}.nii.gz')\n"
   ]
  }
 ],
 "metadata": {
  "kernelspec": {
   "display_name": "cv",
   "language": "python",
   "name": "python3"
  },
  "language_info": {
   "codemirror_mode": {
    "name": "ipython",
    "version": 3
   },
   "file_extension": ".py",
   "mimetype": "text/x-python",
   "name": "python",
   "nbconvert_exporter": "python",
   "pygments_lexer": "ipython3",
   "version": "3.11.7"
  }
 },
 "nbformat": 4,
 "nbformat_minor": 2
}
